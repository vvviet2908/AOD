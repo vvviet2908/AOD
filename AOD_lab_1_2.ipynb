{
  "nbformat": 4,
  "nbformat_minor": 0,
  "metadata": {
    "colab": {
      "name": "AOD lab 1-2.ipynb",
      "provenance": [],
      "collapsed_sections": [],
      "toc_visible": true,
      "include_colab_link": true
    },
    "kernelspec": {
      "name": "python3",
      "display_name": "Python 3"
    },
    "language_info": {
      "name": "python"
    }
  },
  "cells": [
    {
      "cell_type": "markdown",
      "metadata": {
        "id": "view-in-github",
        "colab_type": "text"
      },
      "source": [
        "<a href=\"https://colab.research.google.com/github/vvviet2908/AOD/blob/main/AOD_lab_1_2.ipynb\" target=\"_parent\"><img src=\"https://colab.research.google.com/assets/colab-badge.svg\" alt=\"Open In Colab\"/></a>"
      ]
    },
    {
      "cell_type": "markdown",
      "metadata": {
        "id": "E8rzAs-sZAt3"
      },
      "source": [
        "**1/ Vo Van Viet\n",
        "2/ Khong Minh Duc\n",
        "3/ Le Tran Minh Hoang\n",
        "4/ Le Bao Phuc\n",
        "5/ Cao Ngoc Bao Long**"
      ]
    },
    {
      "cell_type": "code",
      "metadata": {
        "colab": {
          "base_uri": "https://localhost:8080/"
        },
        "id": "et0_qdXG9kdS",
        "outputId": "0e8d955b-3f77-4560-e919-11f44e330fba"
      },
      "source": [
        "!pip install kaggle"
      ],
      "execution_count": null,
      "outputs": [
        {
          "output_type": "stream",
          "text": [
            "Requirement already satisfied: kaggle in /usr/local/lib/python3.7/dist-packages (1.5.12)\n",
            "Requirement already satisfied: certifi in /usr/local/lib/python3.7/dist-packages (from kaggle) (2020.12.5)\n",
            "Requirement already satisfied: python-slugify in /usr/local/lib/python3.7/dist-packages (from kaggle) (4.0.1)\n",
            "Requirement already satisfied: urllib3 in /usr/local/lib/python3.7/dist-packages (from kaggle) (1.24.3)\n",
            "Requirement already satisfied: six>=1.10 in /usr/local/lib/python3.7/dist-packages (from kaggle) (1.15.0)\n",
            "Requirement already satisfied: tqdm in /usr/local/lib/python3.7/dist-packages (from kaggle) (4.41.1)\n",
            "Requirement already satisfied: requests in /usr/local/lib/python3.7/dist-packages (from kaggle) (2.23.0)\n",
            "Requirement already satisfied: python-dateutil in /usr/local/lib/python3.7/dist-packages (from kaggle) (2.8.1)\n",
            "Requirement already satisfied: text-unidecode>=1.3 in /usr/local/lib/python3.7/dist-packages (from python-slugify->kaggle) (1.3)\n",
            "Requirement already satisfied: chardet<4,>=3.0.2 in /usr/local/lib/python3.7/dist-packages (from requests->kaggle) (3.0.4)\n",
            "Requirement already satisfied: idna<3,>=2.5 in /usr/local/lib/python3.7/dist-packages (from requests->kaggle) (2.10)\n"
          ],
          "name": "stdout"
        }
      ]
    },
    {
      "cell_type": "code",
      "metadata": {
        "colab": {
          "resources": {
            "http://localhost:8080/nbextensions/google.colab/files.js": {
              "data": "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",
              "ok": true,
              "headers": [
                [
                  "content-type",
                  "application/javascript"
                ]
              ],
              "status": 200,
              "status_text": ""
            }
          },
          "base_uri": "https://localhost:8080/",
          "height": 89
        },
        "id": "HsJWiPMW90p0",
        "outputId": "f99d66b0-68a5-457a-f68b-66485545f2e9"
      },
      "source": [
        "from google.colab import files\n",
        "files.upload()"
      ],
      "execution_count": null,
      "outputs": [
        {
          "output_type": "display_data",
          "data": {
            "text/html": [
              "\n",
              "     <input type=\"file\" id=\"files-53bbc7c8-87a3-4f6c-aa83-70cd6f2a13c3\" name=\"files[]\" multiple disabled\n",
              "        style=\"border:none\" />\n",
              "     <output id=\"result-53bbc7c8-87a3-4f6c-aa83-70cd6f2a13c3\">\n",
              "      Upload widget is only available when the cell has been executed in the\n",
              "      current browser session. Please rerun this cell to enable.\n",
              "      </output>\n",
              "      <script src=\"/nbextensions/google.colab/files.js\"></script> "
            ],
            "text/plain": [
              "<IPython.core.display.HTML object>"
            ]
          },
          "metadata": {
            "tags": []
          }
        },
        {
          "output_type": "stream",
          "text": [
            "Saving kaggle.json to kaggle (1).json\n"
          ],
          "name": "stdout"
        },
        {
          "output_type": "execute_result",
          "data": {
            "text/plain": [
              "{'kaggle.json': b'{\"username\":\"vietvov\",\"key\":\"a5dce9e485e011cb49c69b59ccd6b13e\"}'}"
            ]
          },
          "metadata": {
            "tags": []
          },
          "execution_count": 3
        }
      ]
    },
    {
      "cell_type": "code",
      "metadata": {
        "id": "gLfMnu9W92yv"
      },
      "source": [
        "!mkdir -p ~/.kaggle\n",
        "!cp kaggle.json ~/.kaggle/\n",
        "!chmod 600 ~/.kaggle/kaggle.json"
      ],
      "execution_count": null,
      "outputs": []
    },
    {
      "cell_type": "code",
      "metadata": {
        "colab": {
          "base_uri": "https://localhost:8080/"
        },
        "id": "RBW3B8LJ-oZC",
        "outputId": "26a6cb47-52c7-4bae-dec2-40da57eace28"
      },
      "source": [
        "!kaggle datasets download -d berkeleyearth/climate-change-earth-surface-temperature-data"
      ],
      "execution_count": null,
      "outputs": [
        {
          "output_type": "stream",
          "text": [
            "climate-change-earth-surface-temperature-data.zip: Skipping, found more recently modified local copy (use --force to force download)\n"
          ],
          "name": "stdout"
        }
      ]
    },
    {
      "cell_type": "code",
      "metadata": {
        "colab": {
          "base_uri": "https://localhost:8080/"
        },
        "id": "OLC-fOM3-zce",
        "outputId": "6d3e9fb6-3e7a-437e-aacc-21b807fa6ff2"
      },
      "source": [
        "!ls"
      ],
      "execution_count": null,
      "outputs": [
        {
          "output_type": "stream",
          "text": [
            " climate-change-earth-surface-temperature-data.zip   kaggle.json\n",
            " files\t\t\t\t\t\t     sample_data\n",
            "'kaggle (1).json'\n"
          ],
          "name": "stdout"
        }
      ]
    },
    {
      "cell_type": "code",
      "metadata": {
        "id": "DvgBMUu4_EEf"
      },
      "source": [
        "import zipfile\n",
        "zip_ref = zipfile.ZipFile('climate-change-earth-surface-temperature-data.zip', 'r')\n",
        "zip_ref.extractall('files')\n"
      ],
      "execution_count": null,
      "outputs": []
    },
    {
      "cell_type": "code",
      "metadata": {
        "colab": {
          "base_uri": "https://localhost:8080/",
          "height": 17
        },
        "id": "3wia7Hu_4uLY",
        "outputId": "4f05a7fe-0619-4257-9828-1e3b5a5065ac"
      },
      "source": [
        "import numpy as np\n",
        "import pandas as pd\n",
        "import matplotlib.pyplot as plt\n",
        "%matplotlib inline\n",
        "import plotly.offline as py\n",
        "py.init_notebook_mode(connected=True)\n",
        "import plotly.graph_objs as go\n",
        "import plotly.tools as tls\n",
        "import seaborn as sns\n",
        "import time\n",
        "import warnings\n",
        "warnings.filterwarnings('ignore')"
      ],
      "execution_count": null,
      "outputs": [
        {
          "output_type": "display_data",
          "data": {
            "text/html": [
              "        <script type=\"text/javascript\">\n",
              "        window.PlotlyConfig = {MathJaxConfig: 'local'};\n",
              "        if (window.MathJax) {MathJax.Hub.Config({SVG: {font: \"STIX-Web\"}});}\n",
              "        if (typeof require !== 'undefined') {\n",
              "        require.undef(\"plotly\");\n",
              "        requirejs.config({\n",
              "            paths: {\n",
              "                'plotly': ['https://cdn.plot.ly/plotly-latest.min']\n",
              "            }\n",
              "        });\n",
              "        require(['plotly'], function(Plotly) {\n",
              "            window._Plotly = Plotly;\n",
              "        });\n",
              "        }\n",
              "        </script>\n",
              "        "
            ]
          },
          "metadata": {
            "tags": []
          }
        }
      ]
    },
    {
      "cell_type": "code",
      "metadata": {
        "id": "MOsKWpc4JP8G"
      },
      "source": [
        "global_temp_country=pd.read_csv('/content/files/GlobalLandTemperaturesByCountry.csv')"
      ],
      "execution_count": null,
      "outputs": []
    },
    {
      "cell_type": "code",
      "metadata": {
        "colab": {
          "base_uri": "https://localhost:8080/",
          "height": 196
        },
        "id": "keZdXJ0b_y2U",
        "outputId": "97f025a2-cd75-4d26-9e41-4a7891a3c47e"
      },
      "source": [
        "global_temp_country.head()"
      ],
      "execution_count": null,
      "outputs": [
        {
          "output_type": "execute_result",
          "data": {
            "text/html": [
              "<div>\n",
              "<style scoped>\n",
              "    .dataframe tbody tr th:only-of-type {\n",
              "        vertical-align: middle;\n",
              "    }\n",
              "\n",
              "    .dataframe tbody tr th {\n",
              "        vertical-align: top;\n",
              "    }\n",
              "\n",
              "    .dataframe thead th {\n",
              "        text-align: right;\n",
              "    }\n",
              "</style>\n",
              "<table border=\"1\" class=\"dataframe\">\n",
              "  <thead>\n",
              "    <tr style=\"text-align: right;\">\n",
              "      <th></th>\n",
              "      <th>dt</th>\n",
              "      <th>AverageTemperature</th>\n",
              "      <th>AverageTemperatureUncertainty</th>\n",
              "      <th>Country</th>\n",
              "    </tr>\n",
              "  </thead>\n",
              "  <tbody>\n",
              "    <tr>\n",
              "      <th>0</th>\n",
              "      <td>1743-11-01</td>\n",
              "      <td>4.384</td>\n",
              "      <td>2.294</td>\n",
              "      <td>Åland</td>\n",
              "    </tr>\n",
              "    <tr>\n",
              "      <th>1</th>\n",
              "      <td>1743-12-01</td>\n",
              "      <td>NaN</td>\n",
              "      <td>NaN</td>\n",
              "      <td>Åland</td>\n",
              "    </tr>\n",
              "    <tr>\n",
              "      <th>2</th>\n",
              "      <td>1744-01-01</td>\n",
              "      <td>NaN</td>\n",
              "      <td>NaN</td>\n",
              "      <td>Åland</td>\n",
              "    </tr>\n",
              "    <tr>\n",
              "      <th>3</th>\n",
              "      <td>1744-02-01</td>\n",
              "      <td>NaN</td>\n",
              "      <td>NaN</td>\n",
              "      <td>Åland</td>\n",
              "    </tr>\n",
              "    <tr>\n",
              "      <th>4</th>\n",
              "      <td>1744-03-01</td>\n",
              "      <td>NaN</td>\n",
              "      <td>NaN</td>\n",
              "      <td>Åland</td>\n",
              "    </tr>\n",
              "  </tbody>\n",
              "</table>\n",
              "</div>"
            ],
            "text/plain": [
              "           dt  AverageTemperature  AverageTemperatureUncertainty Country\n",
              "0  1743-11-01               4.384                          2.294   Åland\n",
              "1  1743-12-01                 NaN                            NaN   Åland\n",
              "2  1744-01-01                 NaN                            NaN   Åland\n",
              "3  1744-02-01                 NaN                            NaN   Åland\n",
              "4  1744-03-01                 NaN                            NaN   Åland"
            ]
          },
          "metadata": {
            "tags": []
          },
          "execution_count": 10
        }
      ]
    },
    {
      "cell_type": "markdown",
      "metadata": {
        "id": "Mk_a3zxPDVSw"
      },
      "source": [
        "Objects, Attribute & Attribute types:"
      ]
    },
    {
      "cell_type": "code",
      "metadata": {
        "colab": {
          "base_uri": "https://localhost:8080/"
        },
        "id": "UvrkAVUNBg2Z",
        "outputId": "6eea6dbb-2d17-43fc-8180-b2a4b17847a9"
      },
      "source": [
        "global_temp_country.info()"
      ],
      "execution_count": null,
      "outputs": [
        {
          "output_type": "stream",
          "text": [
            "<class 'pandas.core.frame.DataFrame'>\n",
            "RangeIndex: 577462 entries, 0 to 577461\n",
            "Data columns (total 4 columns):\n",
            " #   Column                         Non-Null Count   Dtype  \n",
            "---  ------                         --------------   -----  \n",
            " 0   dt                             577462 non-null  object \n",
            " 1   AverageTemperature             544811 non-null  float64\n",
            " 2   AverageTemperatureUncertainty  545550 non-null  float64\n",
            " 3   Country                        577462 non-null  object \n",
            "dtypes: float64(2), object(2)\n",
            "memory usage: 17.6+ MB\n"
          ],
          "name": "stdout"
        }
      ]
    },
    {
      "cell_type": "markdown",
      "metadata": {
        "id": "Ju6WynzsD0jW"
      },
      "source": [
        "Data object that changing over time: dt, Averagetemperature, averagetemperatureuncertainty"
      ]
    },
    {
      "cell_type": "code",
      "metadata": {
        "colab": {
          "base_uri": "https://localhost:8080/",
          "height": 107
        },
        "id": "9RbgoAWNC1-K",
        "outputId": "f62fd2ba-021b-4735-fd82-59351cc38270"
      },
      "source": [
        "global_temp_country.describe()"
      ],
      "execution_count": null,
      "outputs": [
        {
          "output_type": "execute_result",
          "data": {
            "text/html": [
              "<div>\n",
              "<style scoped>\n",
              "    .dataframe tbody tr th:only-of-type {\n",
              "        vertical-align: middle;\n",
              "    }\n",
              "\n",
              "    .dataframe tbody tr th {\n",
              "        vertical-align: top;\n",
              "    }\n",
              "\n",
              "    .dataframe thead th {\n",
              "        text-align: right;\n",
              "    }\n",
              "</style>\n",
              "<table border=\"1\" class=\"dataframe\">\n",
              "  <thead>\n",
              "    <tr style=\"text-align: right;\">\n",
              "      <th></th>\n",
              "      <th>count</th>\n",
              "      <th>mean</th>\n",
              "      <th>std</th>\n",
              "      <th>min</th>\n",
              "      <th>25%</th>\n",
              "      <th>50%</th>\n",
              "      <th>75%</th>\n",
              "      <th>max</th>\n",
              "    </tr>\n",
              "  </thead>\n",
              "  <tbody>\n",
              "    <tr>\n",
              "      <th>AverageTemperature</th>\n",
              "      <td>544811.0</td>\n",
              "      <td>17.193354</td>\n",
              "      <td>10.953966</td>\n",
              "      <td>-37.658</td>\n",
              "      <td>10.025</td>\n",
              "      <td>20.901</td>\n",
              "      <td>25.814</td>\n",
              "      <td>38.842</td>\n",
              "    </tr>\n",
              "    <tr>\n",
              "      <th>AverageTemperatureUncertainty</th>\n",
              "      <td>545550.0</td>\n",
              "      <td>1.019057</td>\n",
              "      <td>1.201930</td>\n",
              "      <td>0.052</td>\n",
              "      <td>0.323</td>\n",
              "      <td>0.571</td>\n",
              "      <td>1.206</td>\n",
              "      <td>15.003</td>\n",
              "    </tr>\n",
              "  </tbody>\n",
              "</table>\n",
              "</div>"
            ],
            "text/plain": [
              "                                  count       mean  ...     75%     max\n",
              "AverageTemperature             544811.0  17.193354  ...  25.814  38.842\n",
              "AverageTemperatureUncertainty  545550.0   1.019057  ...   1.206  15.003\n",
              "\n",
              "[2 rows x 8 columns]"
            ]
          },
          "metadata": {
            "tags": []
          },
          "execution_count": 23
        }
      ]
    },
    {
      "cell_type": "code",
      "metadata": {
        "colab": {
          "base_uri": "https://localhost:8080/",
          "height": 296
        },
        "id": "RB0hUqpYJ_lt",
        "outputId": "4d212036-8b0e-411f-8bd8-2857163ddf5c"
      },
      "source": [
        "sns.boxplot(x=global_temp_country['AverageTemperature'])"
      ],
      "execution_count": null,
      "outputs": [
        {
          "output_type": "execute_result",
          "data": {
            "text/plain": [
              "<matplotlib.axes._subplots.AxesSubplot at 0x7f4602132610>"
            ]
          },
          "metadata": {
            "tags": []
          },
          "execution_count": 13
        },
        {
          "output_type": "display_data",
          "data": {
            "image/png": "[encoded data removed]",
            "text/plain": [
              "<Figure size 432x288 with 1 Axes>"
            ]
          },
          "metadata": {
            "tags": [],
            "needs_background": "light"
          }
        }
      ]
    },
    {
      "cell_type": "code",
      "metadata": {
        "colab": {
          "base_uri": "https://localhost:8080/",
          "height": 296
        },
        "id": "an8LF2NGK5tH",
        "outputId": "84671377-f85b-46bf-c933-5de5b7f3e187"
      },
      "source": [
        "sns.boxplot(x=global_temp_country['AverageTemperatureUncertainty'])"
      ],
      "execution_count": null,
      "outputs": [
        {
          "output_type": "execute_result",
          "data": {
            "text/plain": [
              "<matplotlib.axes._subplots.AxesSubplot at 0x7f46017912d0>"
            ]
          },
          "metadata": {
            "tags": []
          },
          "execution_count": 14
        },
        {
          "output_type": "display_data",
          "data": {
            "image/png": "[encoded data removed]",
            "text/plain": [
              "<Figure size 432x288 with 1 Axes>"
            ]
          },
          "metadata": {
            "tags": [],
            "needs_background": "light"
          }
        }
      ]
    },
    {
      "cell_type": "code",
      "metadata": {
        "colab": {
          "base_uri": "https://localhost:8080/",
          "height": 296
        },
        "id": "GrESzwk4GxkF",
        "outputId": "c7b0ad3c-cc3b-4805-ca92-f27c79a73662"
      },
      "source": [
        "sns.distplot(global_temp_country['AverageTemperature'], hist=True, kde=True, \n",
        "             bins=int(180/5), color = 'darkblue', \n",
        "             hist_kws={'edgecolor':'black'},\n",
        "             kde_kws={'linewidth': 3})"
      ],
      "execution_count": null,
      "outputs": [
        {
          "output_type": "execute_result",
          "data": {
            "text/plain": [
              "<matplotlib.axes._subplots.AxesSubplot at 0x7f460126b750>"
            ]
          },
          "metadata": {
            "tags": []
          },
          "execution_count": 15
        },
        {
          "output_type": "display_data",
          "data": {
            "image/png": "[encoded data removed]",
            "text/plain": [
              "<Figure size 432x288 with 1 Axes>"
            ]
          },
          "metadata": {
            "tags": [],
            "needs_background": "light"
          }
        }
      ]
    },
    {
      "cell_type": "code",
      "metadata": {
        "colab": {
          "base_uri": "https://localhost:8080/",
          "height": 296
        },
        "id": "DUeIPfVmG0a2",
        "outputId": "2184e6b8-c557-47b4-a26e-3fd72576ff04"
      },
      "source": [
        "sns.distplot(global_temp_country['AverageTemperatureUncertainty'], hist=True, kde=True, \n",
        "             bins=int(180/5), color = 'darkblue', \n",
        "             hist_kws={'edgecolor':'black'},\n",
        "             kde_kws={'linewidth': 3})"
      ],
      "execution_count": null,
      "outputs": [
        {
          "output_type": "execute_result",
          "data": {
            "text/plain": [
              "<matplotlib.axes._subplots.AxesSubplot at 0x7f45f5ee7b10>"
            ]
          },
          "metadata": {
            "tags": []
          },
          "execution_count": 16
        },
        {
          "output_type": "display_data",
          "data": {
            "image/png": "[encoded data removed]",
            "text/plain": [
              "<Figure size 432x288 with 1 Axes>"
            ]
          },
          "metadata": {
            "tags": [],
            "needs_background": "light"
          }
        }
      ]
    },
    {
      "cell_type": "code",
      "metadata": {
        "id": "sCRn6ukcK89E"
      },
      "source": [
        "from scipy.stats import moment"
      ],
      "execution_count": null,
      "outputs": []
    },
    {
      "cell_type": "markdown",
      "metadata": {
        "id": "quOJnhMkT5AD"
      },
      "source": [
        "1st Central Moment"
      ]
    },
    {
      "cell_type": "code",
      "metadata": {
        "colab": {
          "base_uri": "https://localhost:8080/"
        },
        "id": "NC6fpUkVRUE5",
        "outputId": "473a774d-2994-429d-fb46-99ff37535a6d"
      },
      "source": [
        "moment(global_temp_country['AverageTemperature'], moment=1)"
      ],
      "execution_count": null,
      "outputs": [
        {
          "output_type": "execute_result",
          "data": {
            "text/plain": [
              "0.0"
            ]
          },
          "metadata": {
            "tags": []
          },
          "execution_count": 18
        }
      ]
    },
    {
      "cell_type": "code",
      "metadata": {
        "colab": {
          "base_uri": "https://localhost:8080/"
        },
        "id": "qqNoLIRxLC8c",
        "outputId": "929300fd-7458-408d-98b3-66fba07d9eca"
      },
      "source": [
        "moment(global_temp_country['AverageTemperatureUncertainty'], moment=1)"
      ],
      "execution_count": null,
      "outputs": [
        {
          "output_type": "execute_result",
          "data": {
            "text/plain": [
              "0.0"
            ]
          },
          "metadata": {
            "tags": []
          },
          "execution_count": 25
        }
      ]
    },
    {
      "cell_type": "markdown",
      "metadata": {
        "id": "TALsh5JuT83g"
      },
      "source": [
        "2nd Central Moment"
      ]
    },
    {
      "cell_type": "code",
      "metadata": {
        "colab": {
          "base_uri": "https://localhost:8080/"
        },
        "id": "py0Sq2QIRiGs",
        "outputId": "dd27f69b-5d9c-4b29-a7d0-88d7dbceb745"
      },
      "source": [
        "moment(global_temp_country['AverageTemperature'], moment=2)"
      ],
      "execution_count": null,
      "outputs": [
        {
          "output_type": "execute_result",
          "data": {
            "text/plain": [
              "nan"
            ]
          },
          "metadata": {
            "tags": []
          },
          "execution_count": 19
        }
      ]
    },
    {
      "cell_type": "code",
      "metadata": {
        "colab": {
          "base_uri": "https://localhost:8080/"
        },
        "id": "Z5x7MlXjLJrE",
        "outputId": "063ad439-228e-4e5e-cfe7-0bdc010ebdeb"
      },
      "source": [
        "moment(global_temp_country['AverageTemperatureUncertainty'], moment=2)"
      ],
      "execution_count": null,
      "outputs": [
        {
          "output_type": "execute_result",
          "data": {
            "text/plain": [
              "nan"
            ]
          },
          "metadata": {
            "tags": []
          },
          "execution_count": 24
        }
      ]
    },
    {
      "cell_type": "markdown",
      "metadata": {
        "id": "8TykL45RVkxC"
      },
      "source": [
        "## **More Analysis**"
      ]
    },
    {
      "cell_type": "markdown",
      "metadata": {
        "id": "oDbh0BATZDdZ"
      },
      "source": [
        "The increased of temperature in some countries (difference between max and mean)"
      ]
    },
    {
      "cell_type": "code",
      "metadata": {
        "colab": {
          "base_uri": "https://localhost:8080/",
          "height": 513
        },
        "id": "5p7vMKCiaLq2",
        "outputId": "bee23cd3-af91-4011-d0bc-6d5ad536d231"
      },
      "source": [
        "max_min_list = []\n",
        "countries = global_temp_country['Country'].unique()\n",
        "# getting max and min temps\n",
        "for country in countries:\n",
        "    curr_temps = global_temp_country[global_temp_country['Country'] == country]['AverageTemperature']\n",
        "    max_min_list.append((curr_temps.max(), curr_temps.min()))\n",
        "    \n",
        "# nan cleaning\n",
        "res_max_min_list = []\n",
        "res_countries = []\n",
        "\n",
        "for i in range(len(max_min_list)):\n",
        "    if not np.isnan(max_min_list[i][0]):\n",
        "        res_max_min_list.append(max_min_list[i])\n",
        "        res_countries.append(countries[i])\n",
        "\n",
        "# calc differences        \n",
        "differences = []\n",
        "\n",
        "for tpl in res_max_min_list:\n",
        "    differences.append(tpl[0] - tpl[1])\n",
        "    \n",
        "# sorting\n",
        "differences, res_countries = (list(x) for x in zip(*sorted(zip(differences, res_countries), key=lambda pair: pair[0], reverse=True)))\n",
        "\n",
        "# ploting\n",
        "f, ax = plt.subplots(figsize=(8, 8))\n",
        "sns.barplot(x=differences[:15], y=res_countries[:15], palette=sns.color_palette(\"coolwarm\", 25), ax=ax)\n",
        "\n",
        "texts = ax.set(ylabel=\"\", xlabel=\"Temperature difference\", title=\"Countries with the highest temperature differences\")"
      ],
      "execution_count": null,
      "outputs": [
        {
          "output_type": "display_data",
          "data": {
            "image/png": "[encoded data removed]",
            "text/plain": [
              "<Figure size 576x576 with 1 Axes>"
            ]
          },
          "metadata": {
            "tags": [],
            "needs_background": "light"
          }
        }
      ]
    },
    {
      "cell_type": "markdown",
      "metadata": {
        "id": "un7zl_QX6NzD"
      },
      "source": [
        "The rank of countries in Average Temperature"
      ]
    },
    {
      "cell_type": "code",
      "metadata": {
        "id": "yr4lDTBoKIMi",
        "colab": {
          "base_uri": "https://localhost:8080/",
          "height": 295
        },
        "outputId": "2ac63745-42ef-4a3a-8ff9-090e966dfb15"
      },
      "source": [
        "ax = global_temp_country.groupby(['Country'])['AverageTemperature'].last().sort_values(ascending=False).head(10).sort_values().plot(kind='barh');\n",
        "ax.set_xlabel(\"Avg Temp\");\n",
        "plt.title(\"Countries with Highest Average temperature\");"
      ],
      "execution_count": null,
      "outputs": [
        {
          "output_type": "display_data",
          "data": {
            "image/png": "[encoded data removed]",
            "text/plain": [
              "<Figure size 432x288 with 1 Axes>"
            ]
          },
          "metadata": {
            "tags": [],
            "needs_background": "light"
          }
        }
      ]
    },
    {
      "cell_type": "code",
      "metadata": {
        "colab": {
          "base_uri": "https://localhost:8080/",
          "height": 295
        },
        "id": "RqutuERiFGFL",
        "outputId": "ec649c4c-a82b-4acf-fd04-a4a32098b587"
      },
      "source": [
        "ax = global_temp_country.groupby(['Country'])['AverageTemperature'].last().sort_values().head(10).sort_values().plot(kind='barh');\n",
        "ax.set_xlabel(\"Avg Temp\");\n",
        "plt.title(\"Countries with Lowest Average temperature\");"
      ],
      "execution_count": null,
      "outputs": [
        {
          "output_type": "display_data",
          "data": {
            "image/png": "[encoded data removed]",
            "text/plain": [
              "<Figure size 432x288 with 1 Axes>"
            ]
          },
          "metadata": {
            "tags": [],
            "needs_background": "light"
          }
        }
      ]
    },
    {
      "cell_type": "markdown",
      "metadata": {
        "id": "bT-sTFotb0ti"
      },
      "source": [
        "Compare temperature by continent"
      ]
    },
    {
      "cell_type": "code",
      "metadata": {
        "id": "zHhKkjHnTD5q"
      },
      "source": [
        "# Read the file (countries + cities)\n",
        "countries = pd.read_csv(\"../content/files/GlobalLandTemperaturesByCity.csv\")\n",
        "\n",
        "# Because the file is very big and there are many dates missing (like the last file), we will group by year\n",
        "# create column year\n",
        "countries['Date'] = pd.to_datetime(countries['dt'])\n",
        "countries['year'] = countries['Date'].dt.year\n"
      ],
      "execution_count": null,
      "outputs": []
    },
    {
      "cell_type": "code",
      "metadata": {
        "id": "7bA43CJ8b89P"
      },
      "source": [
        "#the dataset didn't had continent yet, so must add the continent by merge the data of continent to this dataset\n",
        "# Group by year\n",
        "by_year = countries.groupby(by = ['year', 'City', 'Country', 'Latitude', 'Longitude']).mean().reset_index()\n",
        "\n",
        "# Append the continent & iso codes\n",
        "continent_map = pd.read_csv(\"continents2.csv\")\n",
        "continent_map['Country'] = continent_map['name']\n",
        "continent_map = continent_map[['Country', 'region', 'alpha-2', 'alpha-3']]\n",
        "#Add information\n",
        "data = pd.merge(left = by_year, right = continent_map, on = 'Country', how = 'left')\n",
        "\n",
        "# Filter starting 1825 - because some countries weren't monitored before this year on some periods, \n",
        "# the mean overall could be quite misleading (example: Americas have an increase from 1821 to 1825 of 5 points in temperature,\n",
        "# but this happens only because in 1824 data for South America started to be collected)\n",
        "data = data[data['year'] >= 1825]\n",
        "\n",
        "# Datasets:\n",
        "region = data.dropna(axis = 0).groupby(by = ['region', 'year']).mean().reset_index()\n",
        "countries = data.dropna(axis = 0).groupby(by = ['region', 'Country', 'year']).mean().reset_index()\n",
        "cities = data.dropna(axis = 0).groupby(by = ['region', 'Country', 'City', 'year', 'Latitude', 'Longitude']).mean().reset_index()"
      ],
      "execution_count": null,
      "outputs": []
    },
    {
      "cell_type": "code",
      "metadata": {
        "colab": {
          "base_uri": "https://localhost:8080/",
          "height": 196
        },
        "id": "wYoHp95Ad0q6",
        "outputId": "4be23f80-40e4-4494-9224-6fca57e1793d"
      },
      "source": [
        "countries.head()"
      ],
      "execution_count": null,
      "outputs": [
        {
          "output_type": "execute_result",
          "data": {
            "text/html": [
              "<div>\n",
              "<style scoped>\n",
              "    .dataframe tbody tr th:only-of-type {\n",
              "        vertical-align: middle;\n",
              "    }\n",
              "\n",
              "    .dataframe tbody tr th {\n",
              "        vertical-align: top;\n",
              "    }\n",
              "\n",
              "    .dataframe thead th {\n",
              "        text-align: right;\n",
              "    }\n",
              "</style>\n",
              "<table border=\"1\" class=\"dataframe\">\n",
              "  <thead>\n",
              "    <tr style=\"text-align: right;\">\n",
              "      <th></th>\n",
              "      <th>region</th>\n",
              "      <th>Country</th>\n",
              "      <th>year</th>\n",
              "      <th>AverageTemperature</th>\n",
              "      <th>AverageTemperatureUncertainty</th>\n",
              "    </tr>\n",
              "  </thead>\n",
              "  <tbody>\n",
              "    <tr>\n",
              "      <th>0</th>\n",
              "      <td>Africa</td>\n",
              "      <td>Algeria</td>\n",
              "      <td>1825</td>\n",
              "      <td>17.642750</td>\n",
              "      <td>2.168750</td>\n",
              "    </tr>\n",
              "    <tr>\n",
              "      <th>1</th>\n",
              "      <td>Africa</td>\n",
              "      <td>Algeria</td>\n",
              "      <td>1826</td>\n",
              "      <td>17.461233</td>\n",
              "      <td>2.140183</td>\n",
              "    </tr>\n",
              "    <tr>\n",
              "      <th>2</th>\n",
              "      <td>Africa</td>\n",
              "      <td>Algeria</td>\n",
              "      <td>1827</td>\n",
              "      <td>17.456433</td>\n",
              "      <td>2.193283</td>\n",
              "    </tr>\n",
              "    <tr>\n",
              "      <th>3</th>\n",
              "      <td>Africa</td>\n",
              "      <td>Algeria</td>\n",
              "      <td>1828</td>\n",
              "      <td>17.902917</td>\n",
              "      <td>2.200283</td>\n",
              "    </tr>\n",
              "    <tr>\n",
              "      <th>4</th>\n",
              "      <td>Africa</td>\n",
              "      <td>Algeria</td>\n",
              "      <td>1829</td>\n",
              "      <td>17.311133</td>\n",
              "      <td>2.390317</td>\n",
              "    </tr>\n",
              "  </tbody>\n",
              "</table>\n",
              "</div>"
            ],
            "text/plain": [
              "   region  Country  year  AverageTemperature  AverageTemperatureUncertainty\n",
              "0  Africa  Algeria  1825           17.642750                       2.168750\n",
              "1  Africa  Algeria  1826           17.461233                       2.140183\n",
              "2  Africa  Algeria  1827           17.456433                       2.193283\n",
              "3  Africa  Algeria  1828           17.902917                       2.200283\n",
              "4  Africa  Algeria  1829           17.311133                       2.390317"
            ]
          },
          "metadata": {
            "tags": []
          },
          "execution_count": 32
        }
      ]
    },
    {
      "cell_type": "code",
      "metadata": {
        "colab": {
          "base_uri": "https://localhost:8080/",
          "height": 296
        },
        "id": "TjAUoHH6d-sV",
        "outputId": "88ce4374-a0eb-4e01-8224-8488663faeea"
      },
      "source": [
        "sns.boxplot(x=countries['AverageTemperature'],y=countries['region'])"
      ],
      "execution_count": null,
      "outputs": [
        {
          "output_type": "execute_result",
          "data": {
            "text/plain": [
              "<matplotlib.axes._subplots.AxesSubplot at 0x7f45f4b0ba90>"
            ]
          },
          "metadata": {
            "tags": []
          },
          "execution_count": 33
        },
        {
          "output_type": "display_data",
          "data": {
            "image/png": "[encoded data removed]",
            "text/plain": [
              "<Figure size 432x288 with 1 Axes>"
            ]
          },
          "metadata": {
            "tags": [],
            "needs_background": "light"
          }
        }
      ]
    },
    {
      "cell_type": "markdown",
      "metadata": {
        "id": "5pEW0IEZbgBA"
      },
      "source": [
        "Distribution of each continent"
      ]
    },
    {
      "cell_type": "code",
      "metadata": {
        "colab": {
          "base_uri": "https://localhost:8080/",
          "height": 281
        },
        "id": "HjGGPHXYTTVE",
        "outputId": "93faa731-4fa3-4f1e-c83e-51277d702e0a"
      },
      "source": [
        "eu=countries[countries['region']=='Europe']\n",
        "eu['AverageTemperature'].hist()"
      ],
      "execution_count": null,
      "outputs": [
        {
          "output_type": "execute_result",
          "data": {
            "text/plain": [
              "<matplotlib.axes._subplots.AxesSubplot at 0x7f45f0998190>"
            ]
          },
          "metadata": {
            "tags": []
          },
          "execution_count": 48
        },
        {
          "output_type": "display_data",
          "data": {
            "image/png": "[encoded data removed]",
            "text/plain": [
              "<Figure size 432x288 with 1 Axes>"
            ]
          },
          "metadata": {
            "tags": [],
            "needs_background": "light"
          }
        }
      ]
    },
    {
      "cell_type": "code",
      "metadata": {
        "colab": {
          "base_uri": "https://localhost:8080/",
          "height": 296
        },
        "id": "HJP4N3g3aL00",
        "outputId": "9af6245e-38c7-4bf5-bad7-98b1248c052d"
      },
      "source": [
        "sns.distplot(eu['AverageTemperature'], hist=True, kde=True, \n",
        "             bins=int(180/5), color = 'darkblue', \n",
        "             hist_kws={'edgecolor':'black'},\n",
        "             kde_kws={'linewidth': 3})"
      ],
      "execution_count": null,
      "outputs": [
        {
          "output_type": "execute_result",
          "data": {
            "text/plain": [
              "<matplotlib.axes._subplots.AxesSubplot at 0x7f45f0785d50>"
            ]
          },
          "metadata": {
            "tags": []
          },
          "execution_count": 51
        },
        {
          "output_type": "display_data",
          "data": {
            "image/png": "[encoded data removed]",
            "text/plain": [
              "<Figure size 432x288 with 1 Axes>"
            ]
          },
          "metadata": {
            "tags": [],
            "needs_background": "light"
          }
        }
      ]
    },
    {
      "cell_type": "code",
      "metadata": {
        "colab": {
          "base_uri": "https://localhost:8080/",
          "height": 281
        },
        "id": "Zyp3jlJNadd8",
        "outputId": "47defda3-ce72-4a4b-a5cd-49d27f5a94f0"
      },
      "source": [
        "afr=countries[countries['region']=='Africa']\n",
        "afr['AverageTemperature'].hist()"
      ],
      "execution_count": null,
      "outputs": [
        {
          "output_type": "execute_result",
          "data": {
            "text/plain": [
              "<matplotlib.axes._subplots.AxesSubplot at 0x7f45f06f8550>"
            ]
          },
          "metadata": {
            "tags": []
          },
          "execution_count": 52
        },
        {
          "output_type": "display_data",
          "data": {
            "image/png": "[encoded data removed]",
            "text/plain": [
              "<Figure size 432x288 with 1 Axes>"
            ]
          },
          "metadata": {
            "tags": [],
            "needs_background": "light"
          }
        }
      ]
    },
    {
      "cell_type": "code",
      "metadata": {
        "colab": {
          "base_uri": "https://localhost:8080/",
          "height": 296
        },
        "id": "4Wt1xfkQal3S",
        "outputId": "ed5e64fd-c076-4568-8307-0fc8fec1acff"
      },
      "source": [
        "sns.distplot(afr['AverageTemperature'], hist=True, kde=True, \n",
        "             bins=int(180/5), color = 'darkblue', \n",
        "             hist_kws={'edgecolor':'black'},\n",
        "             kde_kws={'linewidth': 3})"
      ],
      "execution_count": null,
      "outputs": [
        {
          "output_type": "execute_result",
          "data": {
            "text/plain": [
              "<matplotlib.axes._subplots.AxesSubplot at 0x7f45f0613750>"
            ]
          },
          "metadata": {
            "tags": []
          },
          "execution_count": 53
        },
        {
          "output_type": "display_data",
          "data": {
            "image/png": "[encoded data removed]",
            "text/plain": [
              "<Figure size 432x288 with 1 Axes>"
            ]
          },
          "metadata": {
            "tags": [],
            "needs_background": "light"
          }
        }
      ]
    },
    {
      "cell_type": "code",
      "metadata": {
        "colab": {
          "base_uri": "https://localhost:8080/",
          "height": 283
        },
        "id": "52rSk1platEJ",
        "outputId": "abd4d208-edc4-4fdd-d857-4f9c58425f50"
      },
      "source": [
        "ame=countries[countries['region']=='Americas']\n",
        "ame['AverageTemperature'].hist()"
      ],
      "execution_count": null,
      "outputs": [
        {
          "output_type": "execute_result",
          "data": {
            "text/plain": [
              "<matplotlib.axes._subplots.AxesSubplot at 0x7f45f05ec5d0>"
            ]
          },
          "metadata": {
            "tags": []
          },
          "execution_count": 54
        },
        {
          "output_type": "display_data",
          "data": {
            "image/png": "[encoded data removed]",
            "text/plain": [
              "<Figure size 432x288 with 1 Axes>"
            ]
          },
          "metadata": {
            "tags": [],
            "needs_background": "light"
          }
        }
      ]
    },
    {
      "cell_type": "code",
      "metadata": {
        "colab": {
          "base_uri": "https://localhost:8080/",
          "height": 296
        },
        "id": "FKgCJqLFazIT",
        "outputId": "33ded810-4a29-457e-a302-ee7132484e31"
      },
      "source": [
        "sns.distplot(ame['AverageTemperature'], hist=True, kde=True, \n",
        "             bins=int(180/5), color = 'darkblue', \n",
        "             hist_kws={'edgecolor':'black'},\n",
        "             kde_kws={'linewidth': 3})"
      ],
      "execution_count": null,
      "outputs": [
        {
          "output_type": "execute_result",
          "data": {
            "text/plain": [
              "<matplotlib.axes._subplots.AxesSubplot at 0x7f45f0491f10>"
            ]
          },
          "metadata": {
            "tags": []
          },
          "execution_count": 55
        },
        {
          "output_type": "display_data",
          "data": {
            "image/png": "[encoded data removed]",
            "text/plain": [
              "<Figure size 432x288 with 1 Axes>"
            ]
          },
          "metadata": {
            "tags": [],
            "needs_background": "light"
          }
        }
      ]
    },
    {
      "cell_type": "code",
      "metadata": {
        "colab": {
          "base_uri": "https://localhost:8080/",
          "height": 281
        },
        "id": "AJ_gMpw7a7rQ",
        "outputId": "9d196da1-1718-4391-abcc-63b92bacfc27"
      },
      "source": [
        "asia=countries[countries['region']=='Asia']\n",
        "asia['AverageTemperature'].hist()"
      ],
      "execution_count": null,
      "outputs": [
        {
          "output_type": "execute_result",
          "data": {
            "text/plain": [
              "<matplotlib.axes._subplots.AxesSubplot at 0x7f45f03e9b10>"
            ]
          },
          "metadata": {
            "tags": []
          },
          "execution_count": 56
        },
        {
          "output_type": "display_data",
          "data": {
            "image/png": "[encoded data removed]",
            "text/plain": [
              "<Figure size 432x288 with 1 Axes>"
            ]
          },
          "metadata": {
            "tags": [],
            "needs_background": "light"
          }
        }
      ]
    },
    {
      "cell_type": "code",
      "metadata": {
        "colab": {
          "base_uri": "https://localhost:8080/",
          "height": 296
        },
        "id": "Cbv2ZkiTa6zy",
        "outputId": "a007af83-a8d9-44b8-cedb-fef16074b843"
      },
      "source": [
        "sns.distplot(asia['AverageTemperature'], hist=True, kde=True, \n",
        "             bins=int(180/5), color = 'darkblue', \n",
        "             hist_kws={'edgecolor':'black'},\n",
        "             kde_kws={'linewidth': 3})"
      ],
      "execution_count": null,
      "outputs": [
        {
          "output_type": "execute_result",
          "data": {
            "text/plain": [
              "<matplotlib.axes._subplots.AxesSubplot at 0x7f45f0373090>"
            ]
          },
          "metadata": {
            "tags": []
          },
          "execution_count": 57
        },
        {
          "output_type": "display_data",
          "data": {
            "image/png": "[encoded data removed]",
            "text/plain": [
              "<Figure size 432x288 with 1 Axes>"
            ]
          },
          "metadata": {
            "tags": [],
            "needs_background": "light"
          }
        }
      ]
    },
    {
      "cell_type": "code",
      "metadata": {
        "colab": {
          "base_uri": "https://localhost:8080/",
          "height": 281
        },
        "id": "JH_TIM8rbIbG",
        "outputId": "a6fe099f-5b31-4105-92e0-08a6e837acc3"
      },
      "source": [
        "oce=countries[countries['region']=='Oceania']\n",
        "oce['AverageTemperature'].hist()"
      ],
      "execution_count": null,
      "outputs": [
        {
          "output_type": "execute_result",
          "data": {
            "text/plain": [
              "<matplotlib.axes._subplots.AxesSubplot at 0x7f45f02534d0>"
            ]
          },
          "metadata": {
            "tags": []
          },
          "execution_count": 58
        },
        {
          "output_type": "display_data",
          "data": {
            "image/png": "[encoded data removed]",
            "text/plain": [
              "<Figure size 432x288 with 1 Axes>"
            ]
          },
          "metadata": {
            "tags": [],
            "needs_background": "light"
          }
        }
      ]
    },
    {
      "cell_type": "code",
      "metadata": {
        "colab": {
          "base_uri": "https://localhost:8080/",
          "height": 297
        },
        "id": "NvpUJiOqbIqd",
        "outputId": "89fb0369-bf9a-486e-ae9d-853ff17d5dce"
      },
      "source": [
        "sns.distplot(oce['AverageTemperature'], hist=True, kde=True, \n",
        "             bins=int(180/5), color = 'darkblue', \n",
        "             hist_kws={'edgecolor':'black'},\n",
        "             kde_kws={'linewidth': 3})"
      ],
      "execution_count": null,
      "outputs": [
        {
          "output_type": "execute_result",
          "data": {
            "text/plain": [
              "<matplotlib.axes._subplots.AxesSubplot at 0x7f45f01fb290>"
            ]
          },
          "metadata": {
            "tags": []
          },
          "execution_count": 59
        },
        {
          "output_type": "display_data",
          "data": {
            "image/png": "[encoded data removed]",
            "text/plain": [
              "<Figure size 432x288 with 1 Axes>"
            ]
          },
          "metadata": {
            "tags": [],
            "needs_background": "light"
          }
        }
      ]
    },
    {
      "cell_type": "code",
      "metadata": {
        "colab": {
          "base_uri": "https://localhost:8080/"
        },
        "id": "qddQgtUbX48Y",
        "outputId": "45e76018-c161-49f9-cf47-c535daee20c5"
      },
      "source": [
        "mu, sigma = eu['AverageTemperature'].mean(),  eu['AverageTemperature'].std() \n",
        "abs(mu - np.mean(s))\n",
        "abs(sigma - np.std(s, ddof=1))"
      ],
      "execution_count": null,
      "outputs": [
        {
          "output_type": "execute_result",
          "data": {
            "text/plain": [
              "2.8165182617845796"
            ]
          },
          "metadata": {
            "tags": []
          },
          "execution_count": 49
        }
      ]
    },
    {
      "cell_type": "code",
      "metadata": {
        "colab": {
          "base_uri": "https://localhost:8080/",
          "height": 265
        },
        "id": "QacnD7JGYbje",
        "outputId": "0cc6c586-1eb7-4782-8a42-634bb83ab439"
      },
      "source": [
        "count, bins, ignored = plt.hist(eu['AverageTemperature'], 60, density=True)\n",
        "plt.plot(bins, 1/(sigma * np.sqrt(2 * np.pi)) *\n",
        "               np.exp( - (bins - mu)**2 / (2 * sigma**2) ),\n",
        "         linewidth=2, color='r')\n",
        "plt.show()"
      ],
      "execution_count": null,
      "outputs": [
        {
          "output_type": "display_data",
          "data": {
            "image/png": "[encoded data removed]",
            "text/plain": [
              "<Figure size 432x288 with 1 Axes>"
            ]
          },
          "metadata": {
            "tags": [],
            "needs_background": "light"
          }
        }
      ]
    },
    {
      "cell_type": "code",
      "metadata": {
        "id": "dY7IRD8YfQnk"
      },
      "source": [
        "from plotly.subplots import make_subplots"
      ],
      "execution_count": null,
      "outputs": []
    },
    {
      "cell_type": "code",
      "metadata": {
        "colab": {
          "base_uri": "https://localhost:8080/",
          "height": 542
        },
        "id": "eQeJG7bSe-mR",
        "outputId": "4db4ef02-2681-4575-8f2a-0e5ecefbd6f3"
      },
      "source": [
        "# Figure layout\n",
        "fig = make_subplots(rows=1, cols=2, insets=[{'cell': (1,1), 'l': 0.7, 'b': 0.3}])\n",
        "fig.update_layout(title=\"Continents increase in Average Temperature\", title_font_size = 20,\n",
        "                  font=dict( family=\"Courier New, monospace\", size=12,color=\"#7f7f7f\"),\n",
        "                  template = \"ggplot2\", hovermode= 'closest')\n",
        "fig.update_xaxes(showline=True, linewidth=1, linecolor='gray')\n",
        "fig.update_yaxes(showline=True, linewidth=1, linecolor='gray')\n",
        "\n",
        "#============================= Scatter =============================\n",
        "fig.add_trace(go.Scatter(x = region[region['region'] == 'Europe']['year'], y = region[region['region'] == 'Europe']['AverageTemperature'], mode = 'lines',\n",
        "                        name = 'Europe', marker_color='rgb(128, 0, 0)'), row = 1, col = 1)\n",
        "fig.add_trace(go.Scatter(x = region[region['region'] == 'Americas']['year'], y = region[region['region'] == 'Americas']['AverageTemperature'], mode = 'lines',\n",
        "                        name = 'Americas', marker_color='rgb(210,105,30)'), row = 1, col = 1)\n",
        "fig.add_trace(go.Scatter(x = region[region['region'] == 'Asia']['year'], y = region[region['region'] == 'Asia']['AverageTemperature'], mode = 'lines',\n",
        "                        name = 'Asia', marker_color='rgb(135,206,235)'), row = 1, col = 1)\n",
        "fig.add_trace(go.Scatter(x = region[region['region'] == 'Africa']['year'], y = region[region['region'] == 'Africa']['AverageTemperature'], mode = 'lines',\n",
        "                        name = 'Africa', marker_color='rgb(107,142,35)'), row = 1, col = 1)\n",
        "fig.add_trace(go.Scatter(x = region[region['region'] == 'Oceania']['year'], y = region[region['region'] == 'Oceania']['AverageTemperature'], mode = 'lines',\n",
        "                        name = 'Oceania', marker_color='rgb(70,130,180)'), row = 1, col = 1)\n",
        "\n",
        "#============================= Bar =============================\n",
        "y1 = np.round(region.groupby(by = 'region')['AverageTemperature'].mean().tolist(), 1)\n",
        "y2 = np.round(region.groupby(by = 'region')['AverageTemperature'].max().tolist(), 1)\n",
        "\n",
        "fig.add_trace(go.Bar(x = region['region'].unique(), y = region.groupby(by = 'region')['AverageTemperature'].mean().tolist(), \n",
        "                     name = 'Mean Temp', marker_color = 'rgb(188,143,143)', text = y1, textposition = 'auto'),\n",
        "              row = 1, col = 2)\n",
        "fig.add_trace(go.Bar(x = region['region'].unique(), y = region.groupby(by = 'region')['AverageTemperature'].max().tolist(), \n",
        "                     name = 'Max Temp', marker_color = 'rgb(222,184,135)', text = y2, textposition = 'auto'),\n",
        "              row = 1, col = 2)\n",
        "fig.show(renderer=\"colab\")"
      ],
      "execution_count": null,
      "outputs": [
        {
          "output_type": "display_data",
          "data": {
            "text/html": [
              "<html>\n",
              "<head><meta charset=\"utf-8\" /></head>\n",
              "<body>\n",
              "    <div>\n",
              "            <script src=\"https://cdnjs.cloudflare.com/ajax/libs/mathjax/2.7.5/MathJax.js?config=TeX-AMS-MML_SVG\"></script><script type=\"text/javascript\">if (window.MathJax) {MathJax.Hub.Config({SVG: {font: \"STIX-Web\"}});}</script>\n",
              "                <script type=\"text/javascript\">window.PlotlyConfig = {MathJaxConfig: 'local'};</script>\n",
              "        <script src=\"https://cdn.plot.ly/plotly-latest.min.js\"></script>    \n",
              "            <div id=\"da201e3a-575a-45ec-8bbc-cb9eb69a4cab\" class=\"plotly-graph-div\" style=\"height:525px; width:100%;\"></div>\n",
              "            <script type=\"text/javascript\">\n",
              "                \n",
              "                    window.PLOTLYENV=window.PLOTLYENV || {};\n",
              "                    \n",
              "                if (document.getElementById(\"da201e3a-575a-45ec-8bbc-cb9eb69a4cab\")) {\n",
              "                    Plotly.newPlot(\n",
              "                        'da201e3a-575a-45ec-8bbc-cb9eb69a4cab',\n",
              "                        [{\"marker\": {\"color\": \"rgb(128, 0, 0)\"}, \"mode\": \"lines\", \"name\": \"Europe\", \"type\": \"scatter\", \"x\": [1825, 1826, 1827, 1828, 1829, 1830, 1831, 1832, 1833, 1834, 1835, 1836, 1837, 1838, 1839, 1840, 1841, 1842, 1843, 1844, 1845, 1846, 1847, 1848, 1849, 1850, 1851, 1852, 1853, 1854, 1855, 1856, 1857, 1858, 1859, 1860, 1861, 1862, 1863, 1864, 1865, 1866, 1867, 1868, 1869, 1870, 1871, 1872, 1873, 1874, 1875, 1876, 1877, 1878, 1879, 1880, 1881, 1882, 1883, 1884, 1885, 1886, 1887, 1888, 1889, 1890, 1891, 1892, 1893, 1894, 1895, 1896, 1897, 1898, 1899, 1900, 1901, 1902, 1903, 1904, 1905, 1906, 1907, 1908, 1909, 1910, 1911, 1912, 1913, 1914, 1915, 1916, 1917, 1918, 1919, 1920, 1921, 1922, 1923, 1924, 1925, 1926, 1927, 1928, 1929, 1930, 1931, 1932, 1933, 1934, 1935, 1936, 1937, 1938, 1939, 1940, 1941, 1942, 1943, 1944, 1945, 1946, 1947, 1948, 1949, 1950, 1951, 1952, 1953, 1954, 1955, 1956, 1957, 1958, 1959, 1960, 1961, 1962, 1963, 1964, 1965, 1966, 1967, 1968, 1969, 1970, 1971, 1972, 1973, 1974, 1975, 1976, 1977, 1978, 1979, 1980, 1981, 1982, 1983, 1984, 1985, 1986, 1987, 1988, 1989, 1990, 1991, 1992, 1993, 1994, 1995, 1996, 1997, 1998, 1999, 2000, 2001, 2002, 2003, 2004, 2005, 2006, 2007, 2008, 2009, 2010, 2011, 2012, 2013], \"xaxis\": \"x\", \"y\": [8.418075815494406, 8.504676605504566, 8.38539717125383, 8.079528414882777, 6.7321647669706195, 7.774697441742655, 8.038549518743677, 7.323341139357108, 7.944875759878424, 8.74099316109423, 7.585953394123609, 7.93605673758865, 7.302602456940223, 6.931107432775239, 7.683978156565654, 7.112230176767681, 8.131621085858582, 7.783440681818177, 8.346221085858593, 7.409921527777782, 7.413093196762779, 8.717879489124932, 7.738195371775408, 8.139622281234189, 7.781014921598368, 7.599627339403144, 8.03200670207385, 8.218072458270123, 7.545509357612533, 7.991290782828276, 7.276083143939406, 7.75652693602694, 8.038534217171724, 7.5950527777777745, 8.675936237373726, 7.340290404040401, 7.813257575757587, 7.651329797979802, 8.78349280303031, 7.242030429292914, 8.010864646464645, 8.39407007575758, 7.79937196969696, 8.597164393939401, 8.343105303030299, 7.331127904040404, 7.076228914141403, 8.674753030303044, 8.249795454545469, 8.13538181818184, 7.2330680555555515, 7.889294823232329, 7.95079747474748, 8.4522755050505, 7.290484814049583, 7.895628914141426, 7.396432828282836, 8.310981313131322, 7.76062108585859, 7.937614520202012, 7.765646717171713, 7.893501010101, 7.676505303030303, 7.092914267676773, 7.510453535353526, 7.723350757575765, 7.562509974747478, 7.62908737373738, 7.79932525252525, 7.973157828282822, 7.733458207070708, 7.6465156565656525, 8.152390530303041, 8.348544065656553, 8.333586742424247, 8.1828922979798, 8.037184722222241, 7.369301010101015, 8.360053156565657, 8.063667297979793, 8.090016414141422, 8.359364772727266, 7.531210227272722, 7.520682954545454, 7.692644696969707, 8.316138510101005, 8.291743308080822, 7.644113762626268, 8.389632070707066, 8.27850795454545, 7.92642550505051, 8.267954671717183, 7.6333166666666745, 8.238469823232334, 7.48596969696968, 8.408898737373741, 8.684797853535347, 7.7380820707070725, 8.278138510101025, 7.90052929292929, 8.43652588383837, 8.432601136363635, 8.142782196969682, 8.101273232323233, 7.501407070707044, 8.627181186868683, 7.784421843434345, 8.385457954545457, 7.58668194444443, 8.991331818181813, 8.395469065656556, 8.637402651515155, 8.70890770202022, 8.837549494949497, 8.56497638888889, 7.307824242424238, 7.17175744949495, 7.3949327020202, 8.805876767676791, 8.457312752525256, 8.34201035353535, 8.40826136363636, 8.428291919191928, 8.841583838383835, 8.978914015151522, 8.588874999999994, 8.615180176767675, 8.260864393939386, 8.557867297979811, 7.916524494949489, 8.253865782828289, 7.170422095959598, 8.80003863636363, 8.370655429292922, 8.717096338383834, 8.504893939393934, 9.107021590909074, 8.185420959595959, 7.722029419191922, 8.238192297979792, 7.819740656565662, 8.634395959595969, 8.759297474747468, 8.241586616161614, 7.584202525252536, 8.215628282828282, 8.499143560606065, 8.289978914141418, 8.416234848484855, 8.676360353535337, 9.098074494949495, 7.98721780303029, 8.532130303030302, 7.960967045454547, 8.231291540404044, 7.86246414141413, 8.726840530303047, 8.866752651515156, 9.179035479797982, 8.315344949494937, 7.7715998737373795, 8.209099873737378, 7.773097222222219, 8.882862121212112, 9.62286414141413, 9.617445707070715, 8.724493434343426, 9.069547095959598, 8.419745959595936, 9.305559595959584, 9.399451388888888, 8.084056944444455, 8.989076010101005, 9.008593686868684, 9.500192045454533, 9.679234343434352, 9.211459848484836, 9.586667297979808, 9.361256565656575, 9.261029040404061, 9.215288888888896, 9.401770454545458, 9.915804166666664, 9.718652020202018, 9.446110732323223, 8.78047222222222, 9.597571843434338, 9.294698989898976, 9.895558522727264], \"yaxis\": \"y\"}, {\"marker\": {\"color\": \"rgb(210,105,30)\"}, \"mode\": \"lines\", \"name\": \"Americas\", \"type\": \"scatter\", \"x\": [1825, 1826, 1827, 1828, 1829, 1830, 1831, 1832, 1833, 1834, 1835, 1836, 1837, 1838, 1839, 1840, 1841, 1842, 1843, 1844, 1845, 1846, 1847, 1848, 1849, 1850, 1851, 1852, 1853, 1854, 1855, 1856, 1857, 1858, 1859, 1860, 1861, 1862, 1863, 1864, 1865, 1866, 1867, 1868, 1869, 1870, 1871, 1872, 1873, 1874, 1875, 1876, 1877, 1878, 1879, 1880, 1881, 1882, 1883, 1884, 1885, 1886, 1887, 1888, 1889, 1890, 1891, 1892, 1893, 1894, 1895, 1896, 1897, 1898, 1899, 1900, 1901, 1902, 1903, 1904, 1905, 1906, 1907, 1908, 1909, 1910, 1911, 1912, 1913, 1914, 1915, 1916, 1917, 1918, 1919, 1920, 1921, 1922, 1923, 1924, 1925, 1926, 1927, 1928, 1929, 1930, 1931, 1932, 1933, 1934, 1935, 1936, 1937, 1938, 1939, 1940, 1941, 1942, 1943, 1944, 1945, 1946, 1947, 1948, 1949, 1950, 1951, 1952, 1953, 1954, 1955, 1956, 1957, 1958, 1959, 1960, 1961, 1962, 1963, 1964, 1965, 1966, 1967, 1968, 1969, 1970, 1971, 1972, 1973, 1974, 1975, 1976, 1977, 1978, 1979, 1980, 1981, 1982, 1983, 1984, 1985, 1986, 1987, 1988, 1989, 1990, 1991, 1992, 1993, 1994, 1995, 1996, 1997, 1998, 1999, 2000, 2001, 2002, 2003, 2004, 2005, 2006, 2007, 2008, 2009, 2010, 2011, 2012, 2013], \"xaxis\": \"x\", \"y\": [18.25631923076923, 17.96048607254814, 18.448649807321782, 17.906681148653593, 17.184573934993576, 16.33754687500001, 14.910515654592805, 17.188514748953992, 17.31204653426792, 17.32510536717288, 16.68698617562486, 16.806153291062817, 17.010169958108925, 17.009660130718956, 17.5224135382548, 17.687675887523465, 17.465201618705034, 17.848996372901674, 17.60211785255379, 15.676376638283655, 17.124741683979273, 18.4970208597604, 17.494685014204556, 17.800722105772323, 17.586179038461534, 17.604427660059248, 18.674527964205794, 18.585447792494502, 18.63413341243762, 18.795282119205268, 18.15819212007432, 17.868509789212442, 17.926702698394852, 17.928045164784336, 18.069453682500498, 18.087695452649168, 18.151670185564942, 17.991062013888886, 17.982622208436712, 17.999930901911878, 18.180106708595407, 18.11623072830292, 18.320502493765545, 18.240011325852045, 18.37005617206983, 18.370657349246244, 18.225720496894414, 18.0115185116086, 18.10071302666863, 18.052183915770584, 17.6978629886223, 17.99519023779724, 18.53580502840907, 18.649178208872193, 18.081572271016306, 18.065385271449024, 18.232173472389338, 17.930070731381203, 17.81509232192051, 17.814443136070867, 17.948184789846003, 17.876665469824246, 18.12882897064735, 18.242855825748425, 18.407722939958628, 18.178818969030125, 18.301087470449175, 17.98586210554225, 17.839471237194644, 18.28527019306539, 18.17770626477545, 18.589496453900722, 18.460982565011825, 18.273931723260976, 18.393452423167865, 18.744312844759616, 18.330827521670578, 18.523352147360125, 18.245194542947186, 18.015002265563453, 18.340184692671404, 18.459692868400357, 18.23093676122933, 18.4083552009456, 18.240684397163186, 18.276653861308155, 18.38384948778568, 18.185407998424008, 18.461848502758098, 18.576786544523266, 18.664458530338862, 18.248386327817215, 17.825875492513777, 18.331480102442907, 18.593208333333326, 18.325435874704496, 18.713502758077226, 18.591623325453117, 18.41345360520097, 18.20668548069347, 18.570059594168622, 18.703554373522447, 18.689945330969312, 18.677832151300226, 18.503121059889722, 18.744219956658775, 18.863636918833713, 18.792858057525585, 18.64863760835304, 18.83371907013396, 18.54921877462573, 18.781809988179685, 18.673575354609937, 18.790096729708438, 18.89404383372731, 18.784889873916452, 18.991094858156078, 18.713992907801423, 18.631515858944056, 18.75027364066193, 18.740418439716297, 18.938224684791162, 18.68972330575257, 18.75000088652478, 18.757569148936224, 18.6198179669031, 18.682826832151285, 18.873864854215896, 19.116836879432576, 18.93348118597319, 18.539120862884115, 18.49902797478328, 18.880584121355422, 18.960862194641432, 19.017449960598938, 18.71211780929866, 18.905352639873946, 18.60478122537431, 18.85437165090623, 18.59267218282115, 18.772850768321565, 18.706891548463393, 18.734242907801452, 18.493121059889667, 18.927819148936155, 18.791170114263227, 18.603696611505157, 18.860701438140293, 18.962173167848697, 18.657761130811632, 18.6348039795114, 18.478671690307255, 19.11898532308905, 18.716819641449987, 18.656409771473623, 19.030033490937754, 18.979014873916427, 18.910660362490106, 19.0461634160757, 18.948197892040987, 18.79414617809299, 19.153336091410576, 19.24380151694246, 18.93774300630417, 18.78544661150511, 19.288382092198603, 19.225248128447575, 19.01766903073284, 19.039453999211986, 19.29096700157606, 19.308830772261615, 19.00575275807728, 19.348000985027564, 19.72010579196215, 19.18628467297083, 19.128489460204943, 19.445380811662723, 19.56563307722617, 19.427455279747857, 19.244717592592618, 19.50065986997633, 19.605158884948764, 19.40268725374312, 19.192046591804605, 19.398815799842406, 19.34219375492512, 19.347479708431834, 19.84135766351455, 19.81757515760439], \"yaxis\": \"y\"}, {\"marker\": {\"color\": \"rgb(135,206,235)\"}, \"mode\": \"lines\", \"name\": \"Asia\", \"type\": \"scatter\", \"x\": [1825, 1826, 1827, 1828, 1829, 1830, 1831, 1832, 1833, 1834, 1835, 1836, 1837, 1838, 1839, 1840, 1841, 1842, 1843, 1844, 1845, 1846, 1847, 1848, 1849, 1850, 1851, 1852, 1853, 1854, 1855, 1856, 1857, 1858, 1859, 1860, 1861, 1862, 1863, 1864, 1865, 1866, 1867, 1868, 1869, 1870, 1871, 1872, 1873, 1874, 1875, 1876, 1877, 1878, 1879, 1880, 1881, 1882, 1883, 1884, 1885, 1886, 1887, 1888, 1889, 1890, 1891, 1892, 1893, 1894, 1895, 1896, 1897, 1898, 1899, 1900, 1901, 1902, 1903, 1904, 1905, 1906, 1907, 1908, 1909, 1910, 1911, 1912, 1913, 1914, 1915, 1916, 1917, 1918, 1919, 1920, 1921, 1922, 1923, 1924, 1925, 1926, 1927, 1928, 1929, 1930, 1931, 1932, 1933, 1934, 1935, 1936, 1937, 1938, 1939, 1940, 1941, 1942, 1943, 1944, 1945, 1946, 1947, 1948, 1949, 1950, 1951, 1952, 1953, 1954, 1955, 1956, 1957, 1958, 1959, 1960, 1961, 1962, 1963, 1964, 1965, 1966, 1967, 1968, 1969, 1970, 1971, 1972, 1973, 1974, 1975, 1976, 1977, 1978, 1979, 1980, 1981, 1982, 1983, 1984, 1985, 1986, 1987, 1988, 1989, 1990, 1991, 1992, 1993, 1994, 1995, 1996, 1997, 1998, 1999, 2000, 2001, 2002, 2003, 2004, 2005, 2006, 2007, 2008, 2009, 2010, 2011, 2012, 2013], \"xaxis\": \"x\", \"y\": [21.506718058968, 20.005317959001765, 20.113300187869037, 19.709020397208796, 18.960823980894038, 19.361584505208356, 18.405821949974477, 18.42572952095784, 19.037535456859207, 19.06804222766218, 18.322054263565896, 18.806034278185574, 18.811770273780073, 19.587460182912633, 19.60439207032657, 19.734729076573284, 18.755236248353043, 18.64911667054763, 18.671306421883088, 18.17871044932077, 18.073785014153135, 18.366832793020315, 18.085391157727067, 17.725182954545534, 17.821441098484822, 18.676690249672802, 18.762784430685695, 18.68456931515956, 19.09230309766501, 19.196704216038093, 19.30680495061224, 18.740644396407053, 17.89726023722944, 17.777491794975695, 17.834097143243998, 17.44946272641252, 17.42026416709467, 15.700061999999967, 15.968489625403073, 15.676124753451722, 18.180107768054707, 18.65306864826607, 18.84576638465331, 18.88863126545169, 18.998668541666753, 19.35929053471323, 19.177659514604805, 19.254411748281722, 19.23623722079046, 19.239616905388317, 19.193807636655983, 19.24536398160038, 19.414210258878914, 19.553383162393107, 19.426509615384578, 19.200334503297185, 19.30386404488411, 19.205809721335896, 19.064363380131855, 18.719256594341584, 18.956483088704545, 19.1215562646245, 19.09900420123373, 19.338639544777685, 19.324251967666463, 19.465977238885333, 19.28819575622209, 19.254918368432275, 18.780141299723443, 19.358028664114105, 19.208810199957394, 19.474094182088923, 19.433736917677138, 19.52590587109121, 19.568979153371597, 19.554794830887047, 19.510765741331713, 19.68377371835774, 19.323526749627725, 19.258635343543904, 19.17278488619448, 19.316387311210345, 19.19537981280577, 19.211059029993585, 19.33637098489691, 19.111541799617054, 19.245253243990653, 19.384190119123584, 19.1578901297596, 19.6765346734738, 19.731441980429665, 19.429861518825778, 19.007774090619044, 19.19806285896621, 19.558652095298886, 19.438944745798775, 19.491160816847444, 19.6096296000851, 19.500268293980024, 19.53647069772386, 19.38265853010005, 19.502301212508005, 19.511910178685344, 19.647512071899662, 19.466339023611987, 19.60214220378637, 19.588288449266138, 19.64121171027448, 19.37625276536909, 19.299269729844763, 19.612584981918623, 19.384073548181156, 19.62641469900023, 19.715262178259984, 19.745656562433552, 19.76240640289302, 20.137572271857067, 19.88890002127212, 19.640445224420368, 19.60766916613487, 19.400282174005547, 20.004049032120786, 19.758217400553047, 19.915041852797273, 19.676541533716215, 19.561448840672213, 19.831233195064872, 19.85963241863438, 19.96829865985963, 19.714786375239296, 19.847407945118043, 19.444309561795368, 19.582575249946792, 20.10850239310797, 19.993104924484207, 20.002124760689266, 19.96019862795153, 19.810829504360807, 19.886783397149532, 19.691048766220014, 19.695620346734717, 20.08469713890667, 19.620730589236313, 19.69433359923424, 19.72876356094448, 19.771265634971254, 19.573236439055474, 19.7125990214848, 19.996427834503248, 19.59557679217189, 19.803178738566192, 19.52099218251437, 19.931514784088563, 19.935156349712823, 20.215113273771575, 19.922696607104857, 19.86423112103813, 19.862385609444793, 19.874806955966847, 19.577867155924253, 19.91919283131253, 19.811343756647556, 20.28275090406299, 20.12575547755788, 20.036544671346526, 20.320983514145958, 20.047065198893858, 19.8111000319081, 19.881996862369697, 20.29976116783656, 20.145473463092923, 19.982301744309726, 20.112077855775382, 20.775622473941638, 20.502373750265853, 20.29023218464158, 20.42203350350985, 20.622767124016185, 20.355731971920907, 20.570794937247346, 20.280288449266063, 20.552438470538235, 20.617711603914092, 20.30841507126145, 20.600302276111453, 20.722709157626046, 20.150603116358212, 20.30412178259948, 21.243337747287818], \"yaxis\": \"y\"}, {\"marker\": {\"color\": \"rgb(107,142,35)\"}, \"mode\": \"lines\", \"name\": \"Africa\", \"type\": \"scatter\", \"x\": [1825, 1826, 1827, 1828, 1829, 1830, 1831, 1832, 1833, 1834, 1835, 1836, 1837, 1838, 1839, 1840, 1841, 1842, 1843, 1844, 1845, 1846, 1847, 1848, 1849, 1850, 1851, 1852, 1853, 1854, 1855, 1856, 1857, 1858, 1859, 1860, 1861, 1862, 1863, 1864, 1865, 1866, 1867, 1868, 1869, 1870, 1871, 1872, 1873, 1874, 1875, 1876, 1877, 1878, 1879, 1880, 1881, 1882, 1883, 1884, 1885, 1886, 1887, 1888, 1889, 1890, 1891, 1892, 1893, 1894, 1895, 1896, 1897, 1898, 1899, 1900, 1901, 1902, 1903, 1904, 1905, 1906, 1907, 1908, 1909, 1910, 1911, 1912, 1913, 1914, 1915, 1916, 1917, 1918, 1919, 1920, 1921, 1922, 1923, 1924, 1925, 1926, 1927, 1928, 1929, 1930, 1931, 1932, 1933, 1934, 1935, 1936, 1937, 1938, 1939, 1940, 1941, 1942, 1943, 1944, 1945, 1946, 1947, 1948, 1949, 1950, 1951, 1952, 1953, 1954, 1955, 1956, 1957, 1958, 1959, 1960, 1961, 1962, 1963, 1964, 1965, 1966, 1967, 1968, 1969, 1970, 1971, 1972, 1973, 1974, 1975, 1976, 1977, 1978, 1979, 1980, 1981, 1982, 1983, 1984, 1985, 1986, 1987, 1988, 1989, 1990, 1991, 1992, 1993, 1994, 1995, 1996, 1997, 1998, 1999, 2000, 2001, 2002, 2003, 2004, 2005, 2006, 2007, 2008, 2009, 2010, 2011, 2012, 2013], \"xaxis\": \"x\", \"y\": [19.101298148148153, 18.988366666666675, 19.370136296296295, 19.290521111111115, 18.878991851851847, 19.324894444444446, 18.987148148148144, 18.63236388888889, 18.868866666666666, 19.120840740740746, 18.40475814814815, 18.724345185185186, 18.425958333333337, 18.696977272727267, 18.379109374999995, 19.14289583333333, 19.22914756944444, 19.051218518518525, 19.431576994434142, 19.300427551020412, 19.250337755102038, 19.93963857323233, 19.348125, 19.112559027777777, 22.7559310897436, 22.070190819485166, 22.84185496794871, 19.500154513888894, 19.938671130952383, 20.349314676616917, 20.619033830845776, 24.62324555112881, 22.173349002150896, 22.739229114255792, 22.6272320595855, 22.71612639444761, 22.679718717948706, 22.94258412951167, 19.635331585081577, 20.811986089890496, 19.81834118357487, 19.20081803977272, 18.268820987654323, 19.696868987073525, 20.130237575757572, 20.05446324546839, 18.16771553371555, 18.305525457275465, 22.895355218855226, 22.823286003979216, 22.339140141752555, 22.545474584765177, 22.957922680412402, 23.02220017182133, 22.435991292232675, 22.674617838175593, 22.96812950975043, 22.540991188305817, 22.73610662314199, 22.5800190537782, 22.402399828571443, 22.507269713261632, 22.21678337813624, 22.383898521505376, 22.606701495726494, 22.13150396270394, 22.385046153846144, 22.57406752136751, 22.48994465811968, 22.535319230769243, 22.720294871794874, 22.7609566239316, 22.931615811965795, 22.652807692307682, 22.92346474358975, 23.05381153846151, 23.010362393162396, 22.807279700854707, 22.630866666666673, 22.278416239316236, 22.708189316239324, 22.673944017094026, 22.408711324786324, 22.68773183760688, 22.701306623931636, 22.59945854700853, 22.568193162393136, 22.922943162393146, 23.07856452991454, 23.238631837606825, 23.17299038461538, 22.942074358974345, 22.90202628205129, 22.753191666666684, 23.162604700854686, 22.94886901709398, 22.976621367521357, 23.094775427350456, 23.008389743589763, 23.135277991452988, 22.927773931623918, 23.306537820512826, 23.261344230769218, 23.211407905982924, 23.03677649572647, 23.12404252136755, 23.450630555555584, 23.12250064102562, 23.244046794871768, 23.182173717948732, 23.11477628205131, 23.130582478632444, 23.317392735042763, 23.260615170940152, 23.010708974358984, 23.32978440170942, 23.679152350427337, 23.428817094017077, 23.065133547008504, 23.331990598290584, 23.289277777777777, 23.251903846153827, 23.43003611111113, 23.09651730769228, 23.338451282051256, 23.11494017094018, 23.137244444444445, 23.27034252136752, 23.1269933760684, 22.985928846153847, 23.02726217948718, 22.883217094017084, 23.15729978632479, 23.374259829059838, 23.19582628205128, 23.267400854700856, 23.15329615384614, 23.232154273504282, 23.299229700854667, 23.027149572649577, 23.05743034188037, 23.358706837606853, 22.994818803418813, 23.07720982905982, 23.49296581196578, 23.407724786324803, 23.02603119658121, 23.224119230769258, 23.507066452991452, 22.96056346153848, 22.958636324786326, 22.968541239316238, 23.415389743589753, 23.23828012820513, 23.49342521367525, 23.39352948717946, 23.22942756410258, 23.277542094017093, 23.63430170940167, 23.425769871794852, 23.384660683760682, 23.36228205128203, 23.913445512820488, 23.55981495726499, 23.203658333333347, 23.65147628205131, 23.458836324786343, 23.469459615384604, 23.555177777777764, 23.450252777777777, 23.704136538461515, 23.527288034188008, 23.61541581196581, 24.044900641025663, 23.73524743589742, 23.53301944444442, 23.727658974359, 23.908698290598252, 23.993501282051287, 23.859525213675212, 24.10869679487181, 23.887466666666686, 23.920840811965824, 23.801287393162415, 24.00867264957265, 24.30561452991456, 23.834208974358994, 23.826897222222232, 23.952796153846137], \"yaxis\": \"y\"}, {\"marker\": {\"color\": \"rgb(70,130,180)\"}, \"mode\": \"lines\", \"name\": \"Oceania\", \"type\": \"scatter\", \"x\": [1841, 1842, 1843, 1844, 1845, 1846, 1847, 1848, 1849, 1850, 1851, 1852, 1853, 1854, 1855, 1856, 1857, 1858, 1859, 1860, 1861, 1862, 1863, 1864, 1865, 1866, 1867, 1868, 1869, 1870, 1871, 1872, 1873, 1874, 1875, 1876, 1877, 1878, 1879, 1880, 1881, 1882, 1883, 1884, 1885, 1886, 1887, 1888, 1889, 1890, 1891, 1892, 1893, 1894, 1895, 1896, 1897, 1898, 1899, 1900, 1901, 1902, 1903, 1904, 1905, 1906, 1907, 1908, 1909, 1910, 1911, 1912, 1913, 1914, 1915, 1916, 1917, 1918, 1919, 1920, 1921, 1922, 1923, 1924, 1925, 1926, 1927, 1928, 1929, 1930, 1931, 1932, 1933, 1934, 1935, 1936, 1937, 1938, 1939, 1940, 1941, 1942, 1943, 1944, 1945, 1946, 1947, 1948, 1949, 1950, 1951, 1952, 1953, 1954, 1955, 1956, 1957, 1958, 1959, 1960, 1961, 1962, 1963, 1964, 1965, 1966, 1967, 1968, 1969, 1970, 1971, 1972, 1973, 1974, 1975, 1976, 1977, 1978, 1979, 1980, 1981, 1982, 1983, 1984, 1985, 1986, 1987, 1988, 1989, 1990, 1991, 1992, 1993, 1994, 1995, 1996, 1997, 1998, 1999, 2000, 2001, 2002, 2003, 2004, 2005, 2006, 2007, 2008, 2009, 2010, 2011, 2012, 2013], \"xaxis\": \"x\", \"y\": [14.39065277777778, 14.389847222222222, 14.699430555555553, 14.03425, 14.468812499999999, 14.882881944444444, 14.422458333333333, 14.059937499999998, 13.886409722222224, 14.382249999999999, 14.417756944444447, 14.356724358974361, 13.417297619047618, 13.90107671957672, 13.52704484126984, 13.717916666666664, 14.707034090909088, 14.624575757575762, 14.629924242424243, 14.770962121212118, 15.141609848484848, 15.017098484848482, 14.502803030303033, 14.934613095238094, 14.50031746031746, 14.930511904761905, 15.300473484848483, 14.805333333333333, 14.966132575757571, 15.001446969696973, 14.828886363636366, 15.064071969696972, 14.93304166666667, 14.771007575757578, 14.907893939393942, 15.289398550724638, 15.100778985507246, 15.329231884057974, 14.844369565217386, 15.239307971014489, 15.135416666666668, 15.50142013888889, 15.237465277777778, 15.068399305555554, 15.240388888888887, 15.321895833333334, 15.316843750000002, 15.207225694444446, 15.696364583333335, 15.47675694444444, 15.22203125, 15.465902777777773, 15.60125347222222, 15.448593750000006, 15.358562499999996, 15.364586805555554, 15.534270833333336, 15.516166666666665, 15.314913194444443, 15.51540625, 15.381194444444446, 15.183527777777778, 15.344920138888895, 15.140892361111112, 15.095173611111107, 15.296815972222221, 15.494895833333336, 15.31342361111111, 15.414104166666666, 15.759673611111113, 15.458520833333333, 15.443878472222218, 15.458475694444443, 15.87783333333333, 15.846750000000002, 15.824343750000002, 15.480552083333329, 15.392711805555555, 15.619440972222227, 15.442322916666663, 15.78707638888889, 15.673909722222222, 15.55264236111111, 15.627125, 15.236114583333327, 15.69455208333333, 15.377027777777778, 16.00156944444444, 15.385315972222221, 15.46588888888889, 15.37486111111111, 15.44765972222222, 15.632645833333333, 15.70114583333333, 15.65740972222222, 15.571541666666663, 15.550930555555553, 16.202583333333333, 15.62581597222222, 15.692600694444442, 15.452815972222226, 15.946270833333331, 15.388656249999999, 15.574951388888882, 15.496340277777776, 15.52403472222222, 15.731798611111108, 15.63895486111111, 15.468836805555553, 15.868885416666663, 15.503340277777781, 15.652461805555554, 15.597951388888893, 15.794996527777776, 15.933579861111111, 15.8348125, 15.807968750000002, 15.961607638888886, 15.846836805555556, 15.55990625, 15.860336805555553, 16.02132986111111, 15.68420486111111, 15.6186875, 15.547690972222226, 15.507329861111112, 15.767253472222224, 15.765753472222224, 15.77502430555556, 15.930065972222218, 15.983402777777782, 15.803062500000001, 16.35793055555555, 16.028541666666666, 16.13222569444444, 15.640277777777776, 15.709309027777772, 16.014930555555555, 16.14051736111111, 16.191447916666668, 16.31511458333333, 15.865500000000004, 16.01287152777778, 15.881437500000002, 16.029090277777776, 15.954982638888886, 16.1363125, 16.574079861111112, 16.21103125, 16.379027777777775, 16.134513888888886, 15.613204861111113, 15.865232638888886, 15.932322916666669, 16.045024305555554, 15.97523263888889, 16.038329861111112, 16.754166666666666, 16.497829861111114, 16.356559027777777, 16.45726736111111, 16.3795, 16.308118055555557, 16.114961805555556, 16.624993055555557, 16.219777777777782, 16.597909722222223, 16.27043055555555, 16.453086805555557, 16.612062500000004, 16.403090277777775, 16.162031250000002, 16.657682291666667], \"yaxis\": \"y\"}, {\"marker\": {\"color\": \"rgb(188,143,143)\"}, \"name\": \"Mean Temp\", \"text\": [22.3, 18.4, 19.4, 8.2, 15.5], \"textposition\": \"auto\", \"type\": \"bar\", \"x\": [\"Africa\", \"Americas\", \"Asia\", \"Europe\", \"Oceania\"], \"xaxis\": \"x2\", \"y\": [22.34664087355546, 18.445669114291334, 19.424357893677847, 8.225892358745861, 15.497482145194134], \"yaxis\": \"y2\"}, {\"marker\": {\"color\": \"rgb(222,184,135)\"}, \"name\": \"Max Temp\", \"text\": [24.6, 19.8, 21.5, 9.9, 16.8], \"textposition\": \"auto\", \"type\": \"bar\", \"x\": [\"Africa\", \"Americas\", \"Asia\", \"Europe\", \"Oceania\"], \"xaxis\": \"x2\", \"y\": [24.62324555112881, 19.84135766351455, 21.506718058968, 9.915804166666664, 16.754166666666666], \"yaxis\": \"y2\"}],\n",
              "                        {\"font\": {\"color\": \"#7f7f7f\", \"family\": \"Courier New, monospace\", \"size\": 12}, \"hovermode\": \"closest\", \"template\": {\"data\": {\"bar\": [{\"error_x\": {\"color\": \"rgb(51,51,51)\"}, \"error_y\": {\"color\": \"rgb(51,51,51)\"}, \"marker\": {\"line\": {\"color\": \"rgb(237,237,237)\", \"width\": 0.5}}, \"type\": \"bar\"}], \"barpolar\": [{\"marker\": {\"line\": {\"color\": \"rgb(237,237,237)\", \"width\": 0.5}}, \"type\": \"barpolar\"}], \"carpet\": [{\"aaxis\": {\"endlinecolor\": \"rgb(51,51,51)\", \"gridcolor\": \"white\", \"linecolor\": \"white\", \"minorgridcolor\": \"white\", \"startlinecolor\": \"rgb(51,51,51)\"}, \"baxis\": {\"endlinecolor\": \"rgb(51,51,51)\", \"gridcolor\": \"white\", \"linecolor\": \"white\", \"minorgridcolor\": \"white\", \"startlinecolor\": \"rgb(51,51,51)\"}, \"type\": \"carpet\"}], \"choropleth\": [{\"colorbar\": {\"outlinewidth\": 0, \"tickcolor\": \"rgb(237,237,237)\", \"ticklen\": 6, \"ticks\": \"inside\"}, \"type\": \"choropleth\"}], \"contour\": [{\"colorbar\": {\"outlinewidth\": 0, \"tickcolor\": \"rgb(237,237,237)\", \"ticklen\": 6, \"ticks\": \"inside\"}, \"colorscale\": [[0, \"rgb(20,44,66)\"], [1, \"rgb(90,179,244)\"]], \"type\": \"contour\"}], \"contourcarpet\": [{\"colorbar\": {\"outlinewidth\": 0, \"tickcolor\": \"rgb(237,237,237)\", \"ticklen\": 6, \"ticks\": \"inside\"}, \"type\": \"contourcarpet\"}], \"heatmap\": [{\"colorbar\": {\"outlinewidth\": 0, \"tickcolor\": \"rgb(237,237,237)\", \"ticklen\": 6, \"ticks\": \"inside\"}, \"colorscale\": [[0, \"rgb(20,44,66)\"], [1, \"rgb(90,179,244)\"]], \"type\": \"heatmap\"}], \"heatmapgl\": [{\"colorbar\": {\"outlinewidth\": 0, \"tickcolor\": \"rgb(237,237,237)\", \"ticklen\": 6, \"ticks\": \"inside\"}, \"colorscale\": [[0, \"rgb(20,44,66)\"], [1, \"rgb(90,179,244)\"]], \"type\": \"heatmapgl\"}], \"histogram\": [{\"marker\": {\"colorbar\": {\"outlinewidth\": 0, \"tickcolor\": \"rgb(237,237,237)\", \"ticklen\": 6, \"ticks\": \"inside\"}}, \"type\": \"histogram\"}], \"histogram2d\": [{\"colorbar\": {\"outlinewidth\": 0, \"tickcolor\": \"rgb(237,237,237)\", \"ticklen\": 6, \"ticks\": \"inside\"}, \"colorscale\": [[0, \"rgb(20,44,66)\"], [1, \"rgb(90,179,244)\"]], \"type\": \"histogram2d\"}], \"histogram2dcontour\": [{\"colorbar\": {\"outlinewidth\": 0, \"tickcolor\": \"rgb(237,237,237)\", \"ticklen\": 6, \"ticks\": \"inside\"}, \"colorscale\": [[0, \"rgb(20,44,66)\"], [1, \"rgb(90,179,244)\"]], \"type\": \"histogram2dcontour\"}], \"mesh3d\": [{\"colorbar\": {\"outlinewidth\": 0, \"tickcolor\": \"rgb(237,237,237)\", \"ticklen\": 6, \"ticks\": \"inside\"}, \"type\": \"mesh3d\"}], \"parcoords\": [{\"line\": {\"colorbar\": {\"outlinewidth\": 0, \"tickcolor\": \"rgb(237,237,237)\", \"ticklen\": 6, \"ticks\": \"inside\"}}, \"type\": \"parcoords\"}], \"pie\": [{\"automargin\": true, \"type\": \"pie\"}], \"scatter\": [{\"marker\": {\"colorbar\": {\"outlinewidth\": 0, \"tickcolor\": \"rgb(237,237,237)\", \"ticklen\": 6, \"ticks\": \"inside\"}}, \"type\": \"scatter\"}], \"scatter3d\": [{\"line\": {\"colorbar\": {\"outlinewidth\": 0, \"tickcolor\": \"rgb(237,237,237)\", \"ticklen\": 6, \"ticks\": \"inside\"}}, \"marker\": {\"colorbar\": {\"outlinewidth\": 0, \"tickcolor\": \"rgb(237,237,237)\", \"ticklen\": 6, \"ticks\": \"inside\"}}, \"type\": \"scatter3d\"}], \"scattercarpet\": [{\"marker\": {\"colorbar\": {\"outlinewidth\": 0, \"tickcolor\": \"rgb(237,237,237)\", \"ticklen\": 6, \"ticks\": \"inside\"}}, \"type\": \"scattercarpet\"}], \"scattergeo\": [{\"marker\": {\"colorbar\": {\"outlinewidth\": 0, \"tickcolor\": \"rgb(237,237,237)\", \"ticklen\": 6, \"ticks\": \"inside\"}}, \"type\": \"scattergeo\"}], \"scattergl\": [{\"marker\": {\"colorbar\": {\"outlinewidth\": 0, \"tickcolor\": \"rgb(237,237,237)\", \"ticklen\": 6, \"ticks\": \"inside\"}}, \"type\": \"scattergl\"}], \"scattermapbox\": [{\"marker\": {\"colorbar\": {\"outlinewidth\": 0, \"tickcolor\": \"rgb(237,237,237)\", \"ticklen\": 6, \"ticks\": \"inside\"}}, \"type\": \"scattermapbox\"}], \"scatterpolar\": [{\"marker\": {\"colorbar\": {\"outlinewidth\": 0, \"tickcolor\": \"rgb(237,237,237)\", \"ticklen\": 6, \"ticks\": \"inside\"}}, \"type\": \"scatterpolar\"}], \"scatterpolargl\": [{\"marker\": {\"colorbar\": {\"outlinewidth\": 0, \"tickcolor\": \"rgb(237,237,237)\", \"ticklen\": 6, \"ticks\": \"inside\"}}, \"type\": \"scatterpolargl\"}], \"scatterternary\": [{\"marker\": {\"colorbar\": {\"outlinewidth\": 0, \"tickcolor\": \"rgb(237,237,237)\", \"ticklen\": 6, \"ticks\": \"inside\"}}, \"type\": \"scatterternary\"}], \"surface\": [{\"colorbar\": {\"outlinewidth\": 0, \"tickcolor\": \"rgb(237,237,237)\", \"ticklen\": 6, \"ticks\": \"inside\"}, \"colorscale\": [[0, \"rgb(20,44,66)\"], [1, \"rgb(90,179,244)\"]], \"type\": \"surface\"}], \"table\": [{\"cells\": {\"fill\": {\"color\": \"rgb(237,237,237)\"}, \"line\": {\"color\": \"white\"}}, \"header\": {\"fill\": {\"color\": \"rgb(217,217,217)\"}, \"line\": {\"color\": \"white\"}}, \"type\": \"table\"}]}, \"layout\": {\"annotationdefaults\": {\"arrowhead\": 0, \"arrowwidth\": 1}, \"coloraxis\": {\"colorbar\": {\"outlinewidth\": 0, \"tickcolor\": \"rgb(237,237,237)\", \"ticklen\": 6, \"ticks\": \"inside\"}}, \"colorscale\": {\"sequential\": [[0, \"rgb(20,44,66)\"], [1, \"rgb(90,179,244)\"]], \"sequentialminus\": [[0, \"rgb(20,44,66)\"], [1, \"rgb(90,179,244)\"]]}, \"colorway\": [\"#F8766D\", \"#A3A500\", \"#00BF7D\", \"#00B0F6\", \"#E76BF3\"], \"font\": {\"color\": \"rgb(51,51,51)\"}, \"geo\": {\"bgcolor\": \"white\", \"lakecolor\": \"white\", \"landcolor\": \"rgb(237,237,237)\", \"showlakes\": true, \"showland\": true, \"subunitcolor\": \"white\"}, \"hoverlabel\": {\"align\": \"left\"}, \"hovermode\": \"closest\", \"paper_bgcolor\": \"white\", \"plot_bgcolor\": \"rgb(237,237,237)\", \"polar\": {\"angularaxis\": {\"gridcolor\": \"white\", \"linecolor\": \"white\", \"showgrid\": true, \"tickcolor\": \"rgb(51,51,51)\", \"ticks\": \"outside\"}, \"bgcolor\": \"rgb(237,237,237)\", \"radialaxis\": {\"gridcolor\": \"white\", \"linecolor\": \"white\", \"showgrid\": true, \"tickcolor\": \"rgb(51,51,51)\", \"ticks\": \"outside\"}}, \"scene\": {\"xaxis\": {\"backgroundcolor\": \"rgb(237,237,237)\", \"gridcolor\": \"white\", \"gridwidth\": 2, \"linecolor\": \"white\", \"showbackground\": true, \"showgrid\": true, \"tickcolor\": \"rgb(51,51,51)\", \"ticks\": \"outside\", \"zerolinecolor\": \"white\"}, \"yaxis\": {\"backgroundcolor\": \"rgb(237,237,237)\", \"gridcolor\": \"white\", \"gridwidth\": 2, \"linecolor\": \"white\", \"showbackground\": true, \"showgrid\": true, \"tickcolor\": \"rgb(51,51,51)\", \"ticks\": \"outside\", \"zerolinecolor\": \"white\"}, \"zaxis\": {\"backgroundcolor\": \"rgb(237,237,237)\", \"gridcolor\": \"white\", \"gridwidth\": 2, \"linecolor\": \"white\", \"showbackground\": true, \"showgrid\": true, \"tickcolor\": \"rgb(51,51,51)\", \"ticks\": \"outside\", \"zerolinecolor\": \"white\"}}, \"shapedefaults\": {\"fillcolor\": \"black\", \"line\": {\"width\": 0}, \"opacity\": 0.3}, \"ternary\": {\"aaxis\": {\"gridcolor\": \"white\", \"linecolor\": \"white\", \"showgrid\": true, \"tickcolor\": \"rgb(51,51,51)\", \"ticks\": \"outside\"}, \"baxis\": {\"gridcolor\": \"white\", \"linecolor\": \"white\", \"showgrid\": true, \"tickcolor\": \"rgb(51,51,51)\", \"ticks\": \"outside\"}, \"bgcolor\": \"rgb(237,237,237)\", \"caxis\": {\"gridcolor\": \"white\", \"linecolor\": \"white\", \"showgrid\": true, \"tickcolor\": \"rgb(51,51,51)\", \"ticks\": \"outside\"}}, \"xaxis\": {\"automargin\": true, \"gridcolor\": \"white\", \"linecolor\": \"white\", \"showgrid\": true, \"tickcolor\": \"rgb(51,51,51)\", \"ticks\": \"outside\", \"title\": {\"standoff\": 15}, \"zerolinecolor\": \"white\"}, \"yaxis\": {\"automargin\": true, \"gridcolor\": \"white\", \"linecolor\": \"white\", \"showgrid\": true, \"tickcolor\": \"rgb(51,51,51)\", \"ticks\": \"outside\", \"title\": {\"standoff\": 15}, \"zerolinecolor\": \"white\"}}}, \"title\": {\"font\": {\"size\": 20}, \"text\": \"Continents increase in Average Temperature\"}, \"xaxis\": {\"anchor\": \"y\", \"domain\": [0.0, 0.45], \"linecolor\": \"gray\", \"linewidth\": 1, \"showline\": true}, \"xaxis2\": {\"anchor\": \"y2\", \"domain\": [0.55, 1.0], \"linecolor\": \"gray\", \"linewidth\": 1, \"showline\": true}, \"xaxis3\": {\"anchor\": \"y3\", \"domain\": [0.315, 0.45], \"linecolor\": \"gray\", \"linewidth\": 1, \"showline\": true}, \"yaxis\": {\"anchor\": \"x\", \"domain\": [0.0, 1.0], \"linecolor\": \"gray\", \"linewidth\": 1, \"showline\": true}, \"yaxis2\": {\"anchor\": \"x2\", \"domain\": [0.0, 1.0], \"linecolor\": \"gray\", \"linewidth\": 1, \"showline\": true}, \"yaxis3\": {\"anchor\": \"x3\", \"domain\": [0.3, 1.0], \"linecolor\": \"gray\", \"linewidth\": 1, \"showline\": true}},\n",
              "                        {\"responsive\": true}\n",
              "                    ).then(function(){\n",
              "                            \n",
              "var gd = document.getElementById('da201e3a-575a-45ec-8bbc-cb9eb69a4cab');\n",
              "var x = new MutationObserver(function (mutations, observer) {{\n",
              "        var display = window.getComputedStyle(gd).display;\n",
              "        if (!display || display === 'none') {{\n",
              "            console.log([gd, 'removed!']);\n",
              "            Plotly.purge(gd);\n",
              "            observer.disconnect();\n",
              "        }}\n",
              "}});\n",
              "\n",
              "// Listen for the removal of the full notebook cells\n",
              "var notebookContainer = gd.closest('#notebook-container');\n",
              "if (notebookContainer) {{\n",
              "    x.observe(notebookContainer, {childList: true});\n",
              "}}\n",
              "\n",
              "// Listen for the clearing of the current output cell\n",
              "var outputEl = gd.closest('.output');\n",
              "if (outputEl) {{\n",
              "    x.observe(outputEl, {childList: true});\n",
              "}}\n",
              "\n",
              "                        })\n",
              "                };\n",
              "                \n",
              "            </script>\n",
              "        </div>\n",
              "</body>\n",
              "</html>"
            ]
          },
          "metadata": {
            "tags": []
          }
        }
      ]
    },
    {
      "cell_type": "markdown",
      "metadata": {
        "id": "bB_HWVyGT4Ny"
      },
      "source": [
        "The change in temperature and its certain over time\n"
      ]
    },
    {
      "cell_type": "code",
      "metadata": {
        "id": "Avm_A5wNFs7J",
        "colab": {
          "base_uri": "https://localhost:8080/",
          "height": 1000
        },
        "outputId": "f6de1354-9b20-4643-9b63-eeeec7fe0012"
      },
      "source": [
        "global_temp = pd.read_csv(\"/content/files/GlobalTemperatures.csv\")\n",
        "\n",
        "#Extract the year from a date\n",
        "years = np.unique(global_temp['dt'].apply(lambda x: x[:4]))\n",
        "mean_temp_world = []\n",
        "mean_temp_world_uncertainty = []\n",
        "\n",
        "for year in years:\n",
        "    mean_temp_world.append(global_temp[global_temp['dt'].apply(\n",
        "        lambda x: x[:4]) == year]['LandAverageTemperature'].mean())\n",
        "    mean_temp_world_uncertainty.append(global_temp[global_temp['dt'].apply(\n",
        "                lambda x: x[:4]) == year]['LandAverageTemperatureUncertainty'].mean())\n",
        "\n",
        "trace0 = go.Scatter(\n",
        "    x = years, \n",
        "    y = np.array(mean_temp_world) + np.array(mean_temp_world_uncertainty),\n",
        "    fill= None,\n",
        "    mode='lines',\n",
        "    name='Uncertainty top',\n",
        "    line=dict(\n",
        "        color='rgb(0, 255, 255)',\n",
        "    )\n",
        ")\n",
        "trace1 = go.Scatter(\n",
        "    x = years, \n",
        "    y = np.array(mean_temp_world) - np.array(mean_temp_world_uncertainty),\n",
        "    fill='tonexty',\n",
        "    mode='lines',\n",
        "    name='Uncertainty bot',\n",
        "    line=dict(\n",
        "        color='rgb(0, 255, 255)',\n",
        "    )\n",
        ")\n",
        "\n",
        "trace2 = go.Scatter(\n",
        "    x = years, \n",
        "    y = mean_temp_world,\n",
        "    name='Average Temperature',\n",
        "    line=dict(\n",
        "        color='rgb(199, 121, 093)',\n",
        "    )\n",
        ")\n",
        "data = [trace0, trace1, trace2]\n",
        "\n",
        "layout = go.Layout(\n",
        "    xaxis=dict(title='year'),\n",
        "    yaxis=dict(title='Average Temperature, °C'),\n",
        "    title='Average land temperature in world',\n",
        "    showlegend = False)\n",
        "\n",
        "fig = go.Figure(data=data, layout=layout)\n",
        "py.iplot(fig)\n",
        "fig.show(renderer=\"colab\")"
      ],
      "execution_count": null,
      "outputs": [
        {
          "output_type": "display_data",
          "data": {
            "text/html": [
              "<div>\n",
              "        \n",
              "        \n",
              "            <div id=\"c8340af4-bb89-4ff5-8eb5-3e69200def24\" class=\"plotly-graph-div\" style=\"height:525px; width:100%;\"></div>\n",
              "            <script type=\"text/javascript\">\n",
              "                require([\"plotly\"], function(Plotly) {\n",
              "                    window.PLOTLYENV=window.PLOTLYENV || {};\n",
              "                    \n",
              "                if (document.getElementById(\"c8340af4-bb89-4ff5-8eb5-3e69200def24\")) {\n",
              "                    Plotly.newPlot(\n",
              "                        'c8340af4-bb89-4ff5-8eb5-3e69200def24',\n",
              "                        [{\"line\": {\"color\": \"rgb(0, 255, 255)\"}, \"mode\": \"lines\", \"name\": \"Uncertainty top\", \"type\": \"scatter\", \"x\": [\"1750\", \"1751\", \"1752\", \"1753\", \"1754\", \"1755\", \"1756\", \"1757\", \"1758\", \"1759\", \"1760\", \"1761\", \"1762\", \"1763\", \"1764\", \"1765\", \"1766\", \"1767\", \"1768\", \"1769\", \"1770\", \"1771\", \"1772\", \"1773\", \"1774\", \"1775\", \"1776\", \"1777\", \"1778\", \"1779\", \"1780\", \"1781\", \"1782\", \"1783\", \"1784\", \"1785\", \"1786\", \"1787\", \"1788\", \"1789\", \"1790\", \"1791\", \"1792\", \"1793\", \"1794\", \"1795\", \"1796\", \"1797\", \"1798\", \"1799\", \"1800\", \"1801\", \"1802\", \"1803\", \"1804\", \"1805\", \"1806\", \"1807\", \"1808\", \"1809\", \"1810\", \"1811\", \"1812\", \"1813\", \"1814\", \"1815\", \"1816\", \"1817\", \"1818\", \"1819\", \"1820\", \"1821\", \"1822\", \"1823\", \"1824\", \"1825\", \"1826\", \"1827\", \"1828\", \"1829\", \"1830\", \"1831\", \"1832\", \"1833\", \"1834\", \"1835\", \"1836\", \"1837\", \"1838\", \"1839\", \"1840\", \"1841\", \"1842\", \"1843\", \"1844\", \"1845\", \"1846\", \"1847\", \"1848\", \"1849\", \"1850\", \"1851\", \"1852\", \"1853\", \"1854\", \"1855\", \"1856\", \"1857\", \"1858\", \"1859\", \"1860\", \"1861\", \"1862\", \"1863\", \"1864\", \"1865\", \"1866\", \"1867\", \"1868\", \"1869\", \"1870\", \"1871\", \"1872\", \"1873\", \"1874\", \"1875\", \"1876\", \"1877\", \"1878\", \"1879\", \"1880\", \"1881\", \"1882\", \"1883\", \"1884\", \"1885\", \"1886\", \"1887\", \"1888\", \"1889\", \"1890\", \"1891\", \"1892\", \"1893\", \"1894\", \"1895\", \"1896\", \"1897\", \"1898\", \"1899\", \"1900\", \"1901\", \"1902\", \"1903\", \"1904\", \"1905\", \"1906\", \"1907\", \"1908\", \"1909\", \"1910\", \"1911\", \"1912\", \"1913\", \"1914\", \"1915\", \"1916\", \"1917\", \"1918\", \"1919\", \"1920\", \"1921\", \"1922\", \"1923\", \"1924\", \"1925\", \"1926\", \"1927\", \"1928\", \"1929\", \"1930\", \"1931\", \"1932\", \"1933\", \"1934\", \"1935\", \"1936\", \"1937\", \"1938\", \"1939\", \"1940\", \"1941\", \"1942\", \"1943\", \"1944\", \"1945\", \"1946\", \"1947\", \"1948\", \"1949\", \"1950\", \"1951\", \"1952\", \"1953\", \"1954\", \"1955\", \"1956\", \"1957\", \"1958\", \"1959\", \"1960\", \"1961\", \"1962\", \"1963\", \"1964\", \"1965\", \"1966\", \"1967\", \"1968\", \"1969\", \"1970\", \"1971\", \"1972\", \"1973\", \"1974\", \"1975\", \"1976\", \"1977\", \"1978\", \"1979\", \"1980\", \"1981\", \"1982\", \"1983\", \"1984\", \"1985\", \"1986\", \"1987\", \"1988\", \"1989\", \"1990\", \"1991\", \"1992\", \"1993\", \"1994\", \"1995\", \"1996\", \"1997\", \"1998\", \"1999\", \"2000\", \"2001\", \"2002\", \"2003\", \"2004\", \"2005\", \"2006\", \"2007\", \"2008\", \"2009\", \"2010\", \"2011\", \"2012\", \"2013\", \"2014\", \"2015\"], \"y\": [11.357181818181818, 10.757285714285715, 8.756833333333333, 11.564083333333333, 11.963583333333336, 12.205916666666667, 12.111916666666668, 13.048000000000002, 10.1065, 11.664, 10.274083333333333, 11.917333333333332, 12.13075, 10.648333333333332, 11.175583333333332, 10.679666666666666, 11.2415, 11.184166666666666, 9.047333333333334, 10.104666666666667, 10.472583333333333, 10.45775, 10.657333333333334, 10.58225, 12.187333333333331, 11.503666666666668, 11.168166666666668, 10.699083333333334, 11.41475, 11.489083333333333, 12.017750000000001, 10.606416666666664, 10.451833333333331, 10.17525, 10.117666666666668, 9.6025, 10.783583333333333, 10.393583333333334, 11.004999999999999, 10.202833333333333, 9.754, 10.018, 9.789416666666668, 10.503583333333331, 10.505, 10.393666666666666, 10.191666666666666, 10.556250000000002, 10.573583333333332, 10.244166666666665, 10.202916666666669, 10.171333333333335, 10.427166666666666, 10.136166666666666, 10.686666666666667, 10.251666666666665, 10.004166666666665, 9.873666666666665, 9.623666666666665, 9.211833333333333, 9.233666666666664, 8.955250000000001, 9.181833333333334, 9.448750000000002, 9.760250000000001, 9.205833333333334, 9.130416666666667, 8.684000000000001, 9.658000000000001, 8.951083333333333, 9.235, 9.465916666666665, 9.563583333333334, 9.080916666666667, 9.995000000000001, 9.897166666666667, 9.916166666666669, 10.25233333333333, 9.81375, 9.261583333333332, 9.948166666666667, 9.170666666666667, 8.990583333333333, 9.2465, 9.299000000000001, 8.667833333333332, 8.86525, 8.666583333333332, 8.677249999999999, 8.811666666666666, 8.787416666666667, 8.640166666666666, 8.92025, 8.923499999999999, 8.572333333333333, 8.732666666666667, 9.6045, 8.986666666666666, 8.850833333333334, 8.898, 8.777083333333334, 9.0605, 9.018416666666665, 8.876833333333334, 9.036166666666666, 8.997916666666665, 8.756666666666666, 8.509250000000002, 8.8, 8.926666666666668, 8.586833333333333, 8.499916666666667, 8.2475, 8.859833333333333, 8.660000000000002, 8.84, 8.898166666666665, 9.071166666666667, 8.79425, 9.02775, 8.7515, 8.685333333333332, 8.782916666666665, 8.901583333333333, 8.951416666666667, 8.311083333333334, 8.513583333333333, 8.9955, 9.254666666666665, 8.62925, 8.533666666666665, 8.69025, 8.508833333333333, 8.347583333333333, 8.169916666666667, 8.344666666666669, 8.340499999999999, 8.307, 8.472916666666666, 8.688833333333333, 8.314666666666668, 8.354666666666667, 8.404666666666666, 8.402, 8.47825, 8.446250000000001, 8.52375, 8.607166666666668, 8.503666666666666, 8.721083333333333, 8.816333333333333, 8.848166666666666, 8.597166666666666, 8.510166666666667, 8.377333333333333, 8.503916666666665, 8.653999999999998, 8.204333333333334, 8.460833333333333, 8.441, 8.483083333333335, 8.424833333333336, 8.423833333333334, 8.559999999999999, 8.842416666666667, 8.839333333333332, 8.485666666666667, 8.283999999999999, 8.399083333333332, 8.649000000000001, 8.621416666666667, 8.827833333333333, 8.666583333333334, 8.675249999999998, 8.763666666666667, 8.775166666666667, 8.971499999999999, 8.770999999999999, 8.88075, 8.494166666666665, 8.873249999999999, 8.957, 8.954166666666667, 8.580916666666667, 8.868416666666668, 8.751666666666667, 8.797083333333333, 8.938416666666665, 9.104166666666666, 8.997666666666667, 8.995750000000001, 8.996500000000001, 8.957916666666666, 8.981666666666667, 9.070166666666667, 8.805166666666665, 8.899333333333335, 9.014166666666666, 8.956333333333333, 8.794999999999998, 8.551583333333335, 8.809833333333332, 8.847000000000001, 9.085833333333335, 8.747833333333332, 8.779833333333334, 8.400416666666667, 8.8905, 8.878083333333333, 8.839833333333331, 8.67725, 8.894666666666666, 8.878833333333333, 8.948333333333332, 8.502166666666666, 8.63625, 8.691583333333332, 8.78375, 8.628, 8.68025, 8.776499999999999, 8.697166666666666, 8.594916666666666, 9.048999999999998, 8.572, 8.841916666666668, 8.447833333333332, 8.934916666666666, 8.796583333333333, 8.819833333333332, 9.087, 9.253083333333333, 8.721833333333333, 9.122166666666665, 8.794416666666669, 8.751249999999999, 8.918583333333332, 9.079583333333334, 9.281666666666666, 9.009999999999998, 9.320500000000001, 9.2415, 8.919916666666666, 8.947916666666666, 9.109666666666666, 9.423499999999999, 9.123666666666667, 9.291166666666667, 9.596583333333333, 9.364333333333333, 9.284666666666668, 9.502, 9.642833333333334, 9.61625, 9.408, 9.776083333333332, 9.622499999999999, 9.821666666666664, 9.510666666666667, 9.591166666666668, 9.786499999999998, 9.598, 9.59075, 9.704166666666666, 9.660833333333333, 9.923166666666665]}, {\"fill\": \"tonexty\", \"line\": {\"color\": \"rgb(0, 255, 255)\"}, \"mode\": \"lines\", \"name\": \"Uncertainty bot\", \"type\": \"scatter\", \"x\": [\"1750\", \"1751\", \"1752\", \"1753\", \"1754\", \"1755\", \"1756\", \"1757\", \"1758\", \"1759\", \"1760\", \"1761\", \"1762\", \"1763\", \"1764\", \"1765\", \"1766\", \"1767\", \"1768\", \"1769\", \"1770\", \"1771\", \"1772\", \"1773\", \"1774\", \"1775\", \"1776\", \"1777\", \"1778\", \"1779\", \"1780\", \"1781\", \"1782\", \"1783\", \"1784\", \"1785\", \"1786\", \"1787\", \"1788\", \"1789\", \"1790\", \"1791\", \"1792\", \"1793\", \"1794\", \"1795\", \"1796\", \"1797\", \"1798\", \"1799\", \"1800\", \"1801\", \"1802\", \"1803\", \"1804\", \"1805\", \"1806\", \"1807\", \"1808\", \"1809\", \"1810\", \"1811\", \"1812\", \"1813\", \"1814\", \"1815\", \"1816\", \"1817\", \"1818\", \"1819\", \"1820\", \"1821\", \"1822\", \"1823\", \"1824\", \"1825\", \"1826\", \"1827\", \"1828\", \"1829\", \"1830\", \"1831\", \"1832\", \"1833\", \"1834\", \"1835\", \"1836\", \"1837\", \"1838\", \"1839\", \"1840\", \"1841\", \"1842\", \"1843\", \"1844\", \"1845\", \"1846\", \"1847\", \"1848\", \"1849\", \"1850\", \"1851\", \"1852\", \"1853\", \"1854\", \"1855\", \"1856\", \"1857\", \"1858\", \"1859\", \"1860\", \"1861\", \"1862\", \"1863\", \"1864\", \"1865\", \"1866\", \"1867\", \"1868\", \"1869\", \"1870\", \"1871\", \"1872\", \"1873\", \"1874\", \"1875\", \"1876\", \"1877\", \"1878\", \"1879\", \"1880\", \"1881\", \"1882\", \"1883\", \"1884\", \"1885\", \"1886\", \"1887\", \"1888\", \"1889\", \"1890\", \"1891\", \"1892\", \"1893\", \"1894\", \"1895\", \"1896\", \"1897\", \"1898\", \"1899\", \"1900\", \"1901\", \"1902\", \"1903\", \"1904\", \"1905\", \"1906\", \"1907\", \"1908\", \"1909\", \"1910\", \"1911\", \"1912\", \"1913\", \"1914\", \"1915\", \"1916\", \"1917\", \"1918\", \"1919\", \"1920\", \"1921\", \"1922\", \"1923\", \"1924\", \"1925\", \"1926\", \"1927\", \"1928\", \"1929\", \"1930\", \"1931\", \"1932\", \"1933\", \"1934\", \"1935\", \"1936\", \"1937\", \"1938\", \"1939\", \"1940\", \"1941\", \"1942\", \"1943\", \"1944\", \"1945\", \"1946\", \"1947\", \"1948\", \"1949\", \"1950\", \"1951\", \"1952\", \"1953\", \"1954\", \"1955\", \"1956\", \"1957\", \"1958\", \"1959\", \"1960\", \"1961\", \"1962\", \"1963\", \"1964\", \"1965\", \"1966\", \"1967\", \"1968\", \"1969\", \"1970\", \"1971\", \"1972\", \"1973\", \"1974\", \"1975\", \"1976\", \"1977\", \"1978\", \"1979\", \"1980\", \"1981\", \"1982\", \"1983\", \"1984\", \"1985\", \"1986\", \"1987\", \"1988\", \"1989\", \"1990\", \"1991\", \"1992\", \"1993\", \"1994\", \"1995\", \"1996\", \"1997\", \"1998\", \"1999\", \"2000\", \"2001\", \"2002\", \"2003\", \"2004\", \"2005\", \"2006\", \"2007\", \"2008\", \"2009\", \"2010\", \"2011\", \"2012\", \"2013\", \"2014\", \"2015\"], \"y\": [6.081545454545456, 5.194999999999999, 2.8028333333333326, 5.212083333333332, 4.975083333333334, 4.50525, 5.587249999999999, 4.9959999999999996, 3.3806666666666656, 4.306166666666666, 4.096250000000001, 5.627666666666666, 5.08225, 4.345166666666666, 5.6250833333333325, 5.824166666666666, 5.569833333333333, 5.258833333333332, 4.515333333333333, 5.284500000000001, 4.91125, 5.248583333333334, 5.729666666666667, 5.860750000000001, 5.356999999999999, 6.862500000000001, 5.439833333333333, 5.813416666666669, 5.669749999999999, 6.477416666666667, 6.848083333333333, 5.598749999999998, 5.350666666666665, 5.186416666666666, 5.606333333333334, 5.1235, 5.732749999999999, 5.6700833333333325, 5.889333333333333, 6.4655, 6.210666666666667, 6.450499999999999, 6.388583333333334, 5.95475, 6.5470000000000015, 6.307, 6.3503333333333325, 6.464916666666667, 6.766916666666666, 6.767333333333332, 6.765583333333335, 7.008000000000001, 6.729166666666666, 6.869833333333333, 7.003, 6.873833333333333, 6.863999999999998, 6.689166666666665, 5.63, 4.941000000000001, 4.611666666666666, 4.76375, 4.910666666666668, 6.031083333333335, 5.4232499999999995, 5.272833333333334, 4.744583333333333, 5.267333333333335, 5.999833333333334, 5.787250000000001, 5.997499999999998, 6.714249999999999, 6.813083333333334, 6.356416666666667, 7.099333333333334, 6.8815, 6.7970000000000015, 7.365166666666664, 6.516916666666668, 6.622083333333332, 7.085333333333334, 6.107666666666667, 5.909750000000001, 6.7795, 6.994500000000001, 6.117166666666666, 6.526416666666667, 6.084749999999998, 6.352583333333332, 6.4528333333333325, 6.805083333333334, 6.736166666666667, 7.12525, 7.423833333333333, 6.7203333333333335, 6.969666666666668, 7.5009999999999994, 7.185333333333333, 7.108166666666667, 7.070833333333334, 7.024249999999999, 7.296666666666665, 7.181916666666664, 7.206833333333333, 7.384833333333333, 7.223583333333331, 7.235166666666666, 7.007083333333334, 7.400500000000001, 7.577333333333334, 7.334833333333333, 7.193083333333335, 6.869666666666667, 7.363833333333333, 7.307166666666668, 7.515666666666667, 7.686166666666665, 7.801500000000001, 7.701583333333334, 7.836416666666667, 7.651166666666666, 7.544833333333333, 7.604749999999998, 7.800583333333334, 7.915583333333334, 7.408083333333334, 7.646583333333333, 8.083666666666666, 8.404833333333332, 7.702416666666667, 7.703833333333332, 7.851583333333333, 7.7490000000000006, 7.606249999999998, 7.377416666666667, 7.494666666666668, 7.5684999999999985, 7.522833333333333, 7.708083333333334, 7.949166666666666, 7.628666666666667, 7.684, 7.7269999999999985, 7.711499999999999, 7.84375, 7.8477500000000004, 7.906083333333332, 7.979500000000002, 7.852333333333332, 8.071583333333333, 8.186833333333333, 8.235666666666665, 8.011666666666667, 7.9301666666666675, 7.8045, 7.946416666666665, 8.104166666666666, 7.69, 7.911333333333334, 7.915500000000001, 7.9629166666666675, 7.929166666666668, 7.907000000000001, 8.035499999999999, 8.338583333333334, 8.346999999999998, 7.964833333333334, 7.762666666666665, 7.8625833333333315, 8.1155, 8.096083333333334, 8.314166666666667, 8.149416666666665, 8.169083333333333, 8.250000000000002, 8.293666666666667, 8.486166666666666, 8.273166666666667, 8.383583333333336, 7.990666666666665, 8.393916666666666, 8.4815, 8.456333333333335, 8.095583333333334, 8.388250000000003, 8.279833333333334, 8.310916666666667, 8.45825, 8.623166666666664, 8.523, 8.533583333333333, 8.540833333333335, 8.498916666666666, 8.5285, 8.619833333333334, 8.3645, 8.454500000000003, 8.58, 8.537166666666668, 8.378499999999999, 8.178916666666668, 8.4415, 8.4295, 8.661666666666667, 8.3735, 8.472666666666667, 8.15875, 8.5745, 8.669416666666667, 8.625499999999999, 8.49025, 8.700666666666667, 8.613, 8.763666666666667, 8.317166666666667, 8.418583333333334, 8.507083333333332, 8.616416666666668, 8.404666666666667, 8.509916666666667, 8.625333333333334, 8.501333333333333, 8.404250000000001, 8.847499999999998, 8.363, 8.64775, 8.246666666666666, 8.765583333333332, 8.588916666666664, 8.646999999999998, 8.873666666666665, 9.078583333333334, 8.5565, 8.934166666666666, 8.589250000000002, 8.56475, 8.74858333333333, 8.909250000000002, 9.121500000000001, 8.834, 9.147833333333333, 9.117333333333333, 8.753249999999998, 8.78525, 8.967833333333331, 9.270666666666665, 8.954166666666667, 9.113999999999999, 9.448749999999999, 9.205833333333333, 9.117666666666667, 9.327166666666669, 9.498, 9.434916666666666, 9.241166666666667, 9.62575, 9.442499999999999, 9.642666666666665, 9.352833333333335, 9.419333333333336, 9.619666666666665, 9.434, 9.423916666666667, 9.508833333333332, 9.4805, 9.73883333333333]}, {\"line\": {\"color\": \"rgb(199, 121, 093)\"}, \"name\": \"Average Temperature\", \"type\": \"scatter\", \"x\": [\"1750\", \"1751\", \"1752\", \"1753\", \"1754\", \"1755\", \"1756\", \"1757\", \"1758\", \"1759\", \"1760\", \"1761\", \"1762\", \"1763\", \"1764\", \"1765\", \"1766\", \"1767\", \"1768\", \"1769\", \"1770\", \"1771\", \"1772\", \"1773\", \"1774\", \"1775\", \"1776\", \"1777\", \"1778\", \"1779\", \"1780\", \"1781\", \"1782\", \"1783\", \"1784\", \"1785\", \"1786\", \"1787\", \"1788\", \"1789\", \"1790\", \"1791\", \"1792\", \"1793\", \"1794\", \"1795\", \"1796\", \"1797\", \"1798\", \"1799\", \"1800\", \"1801\", \"1802\", \"1803\", \"1804\", \"1805\", \"1806\", \"1807\", \"1808\", \"1809\", \"1810\", \"1811\", \"1812\", \"1813\", \"1814\", \"1815\", \"1816\", \"1817\", \"1818\", \"1819\", \"1820\", \"1821\", \"1822\", \"1823\", \"1824\", \"1825\", \"1826\", \"1827\", \"1828\", \"1829\", \"1830\", \"1831\", \"1832\", \"1833\", \"1834\", \"1835\", \"1836\", \"1837\", \"1838\", \"1839\", \"1840\", \"1841\", \"1842\", \"1843\", \"1844\", \"1845\", \"1846\", \"1847\", \"1848\", \"1849\", \"1850\", \"1851\", \"1852\", \"1853\", \"1854\", \"1855\", \"1856\", \"1857\", \"1858\", \"1859\", \"1860\", \"1861\", \"1862\", \"1863\", \"1864\", \"1865\", \"1866\", \"1867\", \"1868\", \"1869\", \"1870\", \"1871\", \"1872\", \"1873\", \"1874\", \"1875\", \"1876\", \"1877\", \"1878\", \"1879\", \"1880\", \"1881\", \"1882\", \"1883\", \"1884\", \"1885\", \"1886\", \"1887\", \"1888\", \"1889\", \"1890\", \"1891\", \"1892\", \"1893\", \"1894\", \"1895\", \"1896\", \"1897\", \"1898\", \"1899\", \"1900\", \"1901\", \"1902\", \"1903\", \"1904\", \"1905\", \"1906\", \"1907\", \"1908\", \"1909\", \"1910\", \"1911\", \"1912\", \"1913\", \"1914\", \"1915\", \"1916\", \"1917\", \"1918\", \"1919\", \"1920\", \"1921\", \"1922\", \"1923\", \"1924\", \"1925\", \"1926\", \"1927\", \"1928\", \"1929\", \"1930\", \"1931\", \"1932\", \"1933\", \"1934\", \"1935\", \"1936\", \"1937\", \"1938\", \"1939\", \"1940\", \"1941\", \"1942\", \"1943\", \"1944\", \"1945\", \"1946\", \"1947\", \"1948\", \"1949\", \"1950\", \"1951\", \"1952\", \"1953\", \"1954\", \"1955\", \"1956\", \"1957\", \"1958\", \"1959\", \"1960\", \"1961\", \"1962\", \"1963\", \"1964\", \"1965\", \"1966\", \"1967\", \"1968\", \"1969\", \"1970\", \"1971\", \"1972\", \"1973\", \"1974\", \"1975\", \"1976\", \"1977\", \"1978\", \"1979\", \"1980\", \"1981\", \"1982\", \"1983\", \"1984\", \"1985\", \"1986\", \"1987\", \"1988\", \"1989\", \"1990\", \"1991\", \"1992\", \"1993\", \"1994\", \"1995\", \"1996\", \"1997\", \"1998\", \"1999\", \"2000\", \"2001\", \"2002\", \"2003\", \"2004\", \"2005\", \"2006\", \"2007\", \"2008\", \"2009\", \"2010\", \"2011\", \"2012\", \"2013\", \"2014\", \"2015\"], \"y\": [8.719363636363637, 7.9761428571428565, 5.7798333333333325, 8.388083333333332, 8.469333333333335, 8.355583333333334, 8.849583333333333, 9.022, 6.743583333333333, 7.985083333333333, 7.185166666666667, 8.772499999999999, 8.6065, 7.496749999999999, 8.400333333333332, 8.251916666666666, 8.405666666666667, 8.221499999999999, 6.781333333333333, 7.694583333333334, 7.691916666666667, 7.8531666666666675, 8.1935, 8.2215, 8.772166666666665, 9.183083333333334, 8.304, 8.256250000000001, 8.54225, 8.98325, 9.432916666666667, 8.102583333333332, 7.901249999999998, 7.680833333333333, 7.862000000000001, 7.3629999999999995, 8.258166666666666, 8.031833333333333, 8.447166666666666, 8.334166666666667, 7.982333333333333, 8.23425, 8.089, 8.229166666666666, 8.526000000000002, 8.350333333333333, 8.270999999999999, 8.510583333333335, 8.67025, 8.505749999999999, 8.484250000000001, 8.589666666666668, 8.578166666666666, 8.503, 8.844833333333334, 8.56275, 8.434083333333332, 8.281416666666665, 7.626833333333333, 7.076416666666667, 6.922666666666665, 6.859500000000001, 7.046250000000001, 7.7399166666666686, 7.59175, 7.239333333333334, 6.9375, 6.975666666666668, 7.828916666666667, 7.3691666666666675, 7.616249999999998, 8.090083333333332, 8.188333333333334, 7.7186666666666675, 8.547166666666667, 8.389333333333333, 8.356583333333335, 8.808749999999998, 8.165333333333335, 7.941833333333332, 8.51675, 7.639166666666667, 7.450166666666667, 8.013, 8.14675, 7.392499999999999, 7.695833333333334, 7.375666666666665, 7.514916666666665, 7.632249999999999, 7.796250000000001, 7.688166666666667, 8.02275, 8.173666666666666, 7.646333333333334, 7.851166666666668, 8.55275, 8.086, 7.979500000000001, 7.984416666666667, 7.900666666666666, 8.178583333333332, 8.100166666666665, 8.041833333333333, 8.2105, 8.110749999999998, 7.995916666666666, 7.758166666666668, 8.10025, 8.252, 7.960833333333333, 7.846500000000002, 7.558583333333334, 8.111833333333333, 7.983583333333335, 8.177833333333334, 8.292166666666665, 8.436333333333334, 8.247916666666667, 8.432083333333333, 8.201333333333332, 8.115083333333333, 8.193833333333332, 8.351083333333333, 8.4335, 7.859583333333334, 8.080083333333333, 8.539583333333333, 8.829749999999999, 8.165833333333333, 8.118749999999999, 8.270916666666666, 8.128916666666667, 7.976916666666665, 7.773666666666667, 7.919666666666668, 7.954499999999999, 7.914916666666667, 8.0905, 8.318999999999999, 7.971666666666667, 8.019333333333334, 8.065833333333332, 8.05675, 8.161, 8.147, 8.214916666666666, 8.293333333333335, 8.177999999999999, 8.396333333333333, 8.501583333333333, 8.541916666666665, 8.304416666666667, 8.220166666666668, 8.090916666666667, 8.225166666666665, 8.379083333333332, 7.947166666666667, 8.186083333333334, 8.17825, 8.223, 8.177000000000001, 8.165416666666667, 8.297749999999999, 8.5905, 8.593166666666665, 8.22525, 8.023333333333332, 8.130833333333332, 8.38225, 8.35875, 8.571, 8.408, 8.422166666666666, 8.506833333333335, 8.534416666666667, 8.728833333333332, 8.522083333333333, 8.632166666666668, 8.242416666666665, 8.633583333333332, 8.71925, 8.705250000000001, 8.33825, 8.628333333333336, 8.51575, 8.554, 8.698333333333332, 8.863666666666665, 8.760333333333334, 8.764666666666667, 8.768666666666668, 8.728416666666666, 8.755083333333333, 8.845, 8.584833333333332, 8.676916666666669, 8.797083333333333, 8.74675, 8.586749999999999, 8.365250000000001, 8.625666666666666, 8.638250000000001, 8.873750000000001, 8.560666666666666, 8.62625, 8.279583333333333, 8.7325, 8.77375, 8.732666666666665, 8.58375, 8.797666666666666, 8.745916666666666, 8.856, 8.409666666666666, 8.527416666666667, 8.599333333333332, 8.700083333333334, 8.516333333333334, 8.595083333333333, 8.700916666666666, 8.59925, 8.499583333333334, 8.948249999999998, 8.4675, 8.744833333333334, 8.347249999999999, 8.850249999999999, 8.692749999999998, 8.733416666666665, 8.980333333333332, 9.165833333333333, 8.639166666666666, 9.028166666666666, 8.691833333333335, 8.658, 8.833583333333332, 8.994416666666668, 9.201583333333334, 8.921999999999999, 9.234166666666667, 9.179416666666667, 8.836583333333332, 8.866583333333333, 9.038749999999999, 9.347083333333332, 9.038916666666667, 9.202583333333333, 9.522666666666666, 9.285083333333333, 9.201166666666667, 9.414583333333335, 9.570416666666667, 9.525583333333334, 9.324583333333333, 9.700916666666666, 9.532499999999999, 9.732166666666664, 9.431750000000001, 9.505250000000002, 9.703083333333332, 9.516, 9.507333333333333, 9.606499999999999, 9.570666666666666, 9.830999999999998]}],\n",
              "                        {\"showlegend\": false, \"template\": {\"data\": {\"bar\": [{\"error_x\": {\"color\": \"#2a3f5f\"}, \"error_y\": {\"color\": \"#2a3f5f\"}, \"marker\": {\"line\": {\"color\": \"#E5ECF6\", \"width\": 0.5}}, \"type\": \"bar\"}], \"barpolar\": [{\"marker\": {\"line\": {\"color\": \"#E5ECF6\", \"width\": 0.5}}, \"type\": \"barpolar\"}], \"carpet\": [{\"aaxis\": {\"endlinecolor\": \"#2a3f5f\", \"gridcolor\": \"white\", \"linecolor\": \"white\", \"minorgridcolor\": \"white\", \"startlinecolor\": \"#2a3f5f\"}, \"baxis\": {\"endlinecolor\": \"#2a3f5f\", \"gridcolor\": \"white\", \"linecolor\": \"white\", \"minorgridcolor\": \"white\", \"startlinecolor\": \"#2a3f5f\"}, \"type\": \"carpet\"}], \"choropleth\": [{\"colorbar\": {\"outlinewidth\": 0, \"ticks\": \"\"}, \"type\": \"choropleth\"}], \"contour\": [{\"colorbar\": {\"outlinewidth\": 0, \"ticks\": \"\"}, \"colorscale\": [[0.0, \"#0d0887\"], [0.1111111111111111, \"#46039f\"], [0.2222222222222222, \"#7201a8\"], [0.3333333333333333, \"#9c179e\"], [0.4444444444444444, \"#bd3786\"], [0.5555555555555556, \"#d8576b\"], [0.6666666666666666, \"#ed7953\"], [0.7777777777777778, \"#fb9f3a\"], [0.8888888888888888, \"#fdca26\"], [1.0, \"#f0f921\"]], \"type\": \"contour\"}], \"contourcarpet\": [{\"colorbar\": {\"outlinewidth\": 0, \"ticks\": \"\"}, \"type\": \"contourcarpet\"}], \"heatmap\": [{\"colorbar\": {\"outlinewidth\": 0, \"ticks\": \"\"}, \"colorscale\": [[0.0, \"#0d0887\"], [0.1111111111111111, \"#46039f\"], [0.2222222222222222, \"#7201a8\"], [0.3333333333333333, \"#9c179e\"], [0.4444444444444444, \"#bd3786\"], [0.5555555555555556, \"#d8576b\"], [0.6666666666666666, \"#ed7953\"], [0.7777777777777778, \"#fb9f3a\"], [0.8888888888888888, \"#fdca26\"], [1.0, \"#f0f921\"]], \"type\": \"heatmap\"}], \"heatmapgl\": [{\"colorbar\": {\"outlinewidth\": 0, \"ticks\": \"\"}, \"colorscale\": [[0.0, \"#0d0887\"], [0.1111111111111111, \"#46039f\"], [0.2222222222222222, \"#7201a8\"], [0.3333333333333333, \"#9c179e\"], [0.4444444444444444, \"#bd3786\"], [0.5555555555555556, \"#d8576b\"], [0.6666666666666666, \"#ed7953\"], [0.7777777777777778, \"#fb9f3a\"], [0.8888888888888888, \"#fdca26\"], [1.0, \"#f0f921\"]], \"type\": \"heatmapgl\"}], \"histogram\": [{\"marker\": {\"colorbar\": {\"outlinewidth\": 0, \"ticks\": \"\"}}, \"type\": \"histogram\"}], \"histogram2d\": [{\"colorbar\": {\"outlinewidth\": 0, \"ticks\": \"\"}, \"colorscale\": [[0.0, \"#0d0887\"], [0.1111111111111111, \"#46039f\"], [0.2222222222222222, \"#7201a8\"], [0.3333333333333333, \"#9c179e\"], [0.4444444444444444, \"#bd3786\"], [0.5555555555555556, \"#d8576b\"], [0.6666666666666666, \"#ed7953\"], [0.7777777777777778, \"#fb9f3a\"], [0.8888888888888888, \"#fdca26\"], [1.0, \"#f0f921\"]], \"type\": \"histogram2d\"}], \"histogram2dcontour\": [{\"colorbar\": {\"outlinewidth\": 0, \"ticks\": \"\"}, \"colorscale\": [[0.0, \"#0d0887\"], [0.1111111111111111, \"#46039f\"], [0.2222222222222222, \"#7201a8\"], [0.3333333333333333, \"#9c179e\"], [0.4444444444444444, \"#bd3786\"], [0.5555555555555556, \"#d8576b\"], [0.6666666666666666, \"#ed7953\"], [0.7777777777777778, \"#fb9f3a\"], [0.8888888888888888, \"#fdca26\"], [1.0, \"#f0f921\"]], \"type\": \"histogram2dcontour\"}], \"mesh3d\": [{\"colorbar\": {\"outlinewidth\": 0, \"ticks\": \"\"}, \"type\": \"mesh3d\"}], \"parcoords\": [{\"line\": {\"colorbar\": {\"outlinewidth\": 0, \"ticks\": \"\"}}, \"type\": \"parcoords\"}], \"pie\": [{\"automargin\": true, \"type\": \"pie\"}], \"scatter\": [{\"marker\": {\"colorbar\": {\"outlinewidth\": 0, \"ticks\": \"\"}}, \"type\": \"scatter\"}], \"scatter3d\": [{\"line\": {\"colorbar\": {\"outlinewidth\": 0, \"ticks\": \"\"}}, \"marker\": {\"colorbar\": {\"outlinewidth\": 0, \"ticks\": \"\"}}, \"type\": \"scatter3d\"}], \"scattercarpet\": [{\"marker\": {\"colorbar\": {\"outlinewidth\": 0, \"ticks\": \"\"}}, \"type\": \"scattercarpet\"}], \"scattergeo\": [{\"marker\": {\"colorbar\": {\"outlinewidth\": 0, \"ticks\": \"\"}}, \"type\": \"scattergeo\"}], \"scattergl\": [{\"marker\": {\"colorbar\": {\"outlinewidth\": 0, \"ticks\": \"\"}}, \"type\": \"scattergl\"}], \"scattermapbox\": [{\"marker\": {\"colorbar\": {\"outlinewidth\": 0, \"ticks\": \"\"}}, \"type\": \"scattermapbox\"}], \"scatterpolar\": [{\"marker\": {\"colorbar\": {\"outlinewidth\": 0, \"ticks\": \"\"}}, \"type\": \"scatterpolar\"}], \"scatterpolargl\": [{\"marker\": {\"colorbar\": {\"outlinewidth\": 0, \"ticks\": \"\"}}, \"type\": \"scatterpolargl\"}], \"scatterternary\": [{\"marker\": {\"colorbar\": {\"outlinewidth\": 0, \"ticks\": \"\"}}, \"type\": \"scatterternary\"}], \"surface\": [{\"colorbar\": {\"outlinewidth\": 0, \"ticks\": \"\"}, \"colorscale\": [[0.0, \"#0d0887\"], [0.1111111111111111, \"#46039f\"], [0.2222222222222222, \"#7201a8\"], [0.3333333333333333, \"#9c179e\"], [0.4444444444444444, \"#bd3786\"], [0.5555555555555556, \"#d8576b\"], [0.6666666666666666, \"#ed7953\"], [0.7777777777777778, \"#fb9f3a\"], [0.8888888888888888, \"#fdca26\"], [1.0, \"#f0f921\"]], \"type\": \"surface\"}], \"table\": [{\"cells\": {\"fill\": {\"color\": \"#EBF0F8\"}, \"line\": {\"color\": \"white\"}}, \"header\": {\"fill\": {\"color\": \"#C8D4E3\"}, \"line\": {\"color\": \"white\"}}, \"type\": \"table\"}]}, \"layout\": {\"annotationdefaults\": {\"arrowcolor\": \"#2a3f5f\", \"arrowhead\": 0, \"arrowwidth\": 1}, \"coloraxis\": {\"colorbar\": {\"outlinewidth\": 0, \"ticks\": \"\"}}, \"colorscale\": {\"diverging\": [[0, \"#8e0152\"], [0.1, \"#c51b7d\"], [0.2, \"#de77ae\"], [0.3, \"#f1b6da\"], [0.4, \"#fde0ef\"], [0.5, \"#f7f7f7\"], [0.6, \"#e6f5d0\"], [0.7, \"#b8e186\"], [0.8, \"#7fbc41\"], [0.9, \"#4d9221\"], [1, \"#276419\"]], \"sequential\": [[0.0, \"#0d0887\"], [0.1111111111111111, \"#46039f\"], [0.2222222222222222, \"#7201a8\"], [0.3333333333333333, \"#9c179e\"], [0.4444444444444444, \"#bd3786\"], [0.5555555555555556, \"#d8576b\"], [0.6666666666666666, \"#ed7953\"], [0.7777777777777778, \"#fb9f3a\"], [0.8888888888888888, \"#fdca26\"], [1.0, \"#f0f921\"]], \"sequentialminus\": [[0.0, \"#0d0887\"], [0.1111111111111111, \"#46039f\"], [0.2222222222222222, \"#7201a8\"], [0.3333333333333333, \"#9c179e\"], [0.4444444444444444, \"#bd3786\"], [0.5555555555555556, \"#d8576b\"], [0.6666666666666666, \"#ed7953\"], [0.7777777777777778, \"#fb9f3a\"], [0.8888888888888888, \"#fdca26\"], [1.0, \"#f0f921\"]]}, \"colorway\": [\"#636efa\", \"#EF553B\", \"#00cc96\", \"#ab63fa\", \"#FFA15A\", \"#19d3f3\", \"#FF6692\", \"#B6E880\", \"#FF97FF\", \"#FECB52\"], \"font\": {\"color\": \"#2a3f5f\"}, \"geo\": {\"bgcolor\": \"white\", \"lakecolor\": \"white\", \"landcolor\": \"#E5ECF6\", \"showlakes\": true, \"showland\": true, \"subunitcolor\": \"white\"}, \"hoverlabel\": {\"align\": \"left\"}, \"hovermode\": \"closest\", \"mapbox\": {\"style\": \"light\"}, \"paper_bgcolor\": \"white\", \"plot_bgcolor\": \"#E5ECF6\", \"polar\": {\"angularaxis\": {\"gridcolor\": \"white\", \"linecolor\": \"white\", \"ticks\": \"\"}, \"bgcolor\": \"#E5ECF6\", \"radialaxis\": {\"gridcolor\": \"white\", \"linecolor\": \"white\", \"ticks\": \"\"}}, \"scene\": {\"xaxis\": {\"backgroundcolor\": \"#E5ECF6\", \"gridcolor\": \"white\", \"gridwidth\": 2, \"linecolor\": \"white\", \"showbackground\": true, \"ticks\": \"\", \"zerolinecolor\": \"white\"}, \"yaxis\": {\"backgroundcolor\": \"#E5ECF6\", \"gridcolor\": \"white\", \"gridwidth\": 2, \"linecolor\": \"white\", \"showbackground\": true, \"ticks\": \"\", \"zerolinecolor\": \"white\"}, \"zaxis\": {\"backgroundcolor\": \"#E5ECF6\", \"gridcolor\": \"white\", \"gridwidth\": 2, \"linecolor\": \"white\", \"showbackground\": true, \"ticks\": \"\", \"zerolinecolor\": \"white\"}}, \"shapedefaults\": {\"line\": {\"color\": \"#2a3f5f\"}}, \"ternary\": {\"aaxis\": {\"gridcolor\": \"white\", \"linecolor\": \"white\", \"ticks\": \"\"}, \"baxis\": {\"gridcolor\": \"white\", \"linecolor\": \"white\", \"ticks\": \"\"}, \"bgcolor\": \"#E5ECF6\", \"caxis\": {\"gridcolor\": \"white\", \"linecolor\": \"white\", \"ticks\": \"\"}}, \"title\": {\"x\": 0.05}, \"xaxis\": {\"automargin\": true, \"gridcolor\": \"white\", \"linecolor\": \"white\", \"ticks\": \"\", \"title\": {\"standoff\": 15}, \"zerolinecolor\": \"white\", \"zerolinewidth\": 2}, \"yaxis\": {\"automargin\": true, \"gridcolor\": \"white\", \"linecolor\": \"white\", \"ticks\": \"\", \"title\": {\"standoff\": 15}, \"zerolinecolor\": \"white\", \"zerolinewidth\": 2}}}, \"title\": {\"text\": \"Average land temperature in world\"}, \"xaxis\": {\"title\": {\"text\": \"year\"}}, \"yaxis\": {\"title\": {\"text\": \"Average Temperature, \\u00b0C\"}}},\n",
              "                        {\"responsive\": true}\n",
              "                    ).then(function(){\n",
              "                            \n",
              "var gd = document.getElementById('c8340af4-bb89-4ff5-8eb5-3e69200def24');\n",
              "var x = new MutationObserver(function (mutations, observer) {{\n",
              "        var display = window.getComputedStyle(gd).display;\n",
              "        if (!display || display === 'none') {{\n",
              "            console.log([gd, 'removed!']);\n",
              "            Plotly.purge(gd);\n",
              "            observer.disconnect();\n",
              "        }}\n",
              "}});\n",
              "\n",
              "// Listen for the removal of the full notebook cells\n",
              "var notebookContainer = gd.closest('#notebook-container');\n",
              "if (notebookContainer) {{\n",
              "    x.observe(notebookContainer, {childList: true});\n",
              "}}\n",
              "\n",
              "// Listen for the clearing of the current output cell\n",
              "var outputEl = gd.closest('.output');\n",
              "if (outputEl) {{\n",
              "    x.observe(outputEl, {childList: true});\n",
              "}}\n",
              "\n",
              "                        })\n",
              "                };\n",
              "                });\n",
              "            </script>\n",
              "        </div>"
            ],
            "application/vnd.plotly.v1+json": {
              "data": [
                {
                  "name": "Uncertainty top",
                  "mode": "lines",
                  "y": [
                    11.357181818181818,
                    10.757285714285715,
                    8.756833333333333,
                    11.564083333333333,
                    11.963583333333336,
                    12.205916666666667,
                    12.111916666666668,
                    13.048000000000002,
                    10.1065,
                    11.664,
                    10.274083333333333,
                    11.917333333333332,
                    12.13075,
                    10.648333333333332,
                    11.175583333333332,
                    10.679666666666666,
                    11.2415,
                    11.184166666666666,
                    9.047333333333334,
                    10.104666666666667,
                    10.472583333333333,
                    10.45775,
                    10.657333333333334,
                    10.58225,
                    12.187333333333331,
                    11.503666666666668,
                    11.168166666666668,
                    10.699083333333334,
                    11.41475,
                    11.489083333333333,
                    12.017750000000001,
                    10.606416666666664,
                    10.451833333333331,
                    10.17525,
                    10.117666666666668,
                    9.6025,
                    10.783583333333333,
                    10.393583333333334,
                    11.004999999999999,
                    10.202833333333333,
                    9.754,
                    10.018,
                    9.789416666666668,
                    10.503583333333331,
                    10.505,
                    10.393666666666666,
                    10.191666666666666,
                    10.556250000000002,
                    10.573583333333332,
                    10.244166666666665,
                    10.202916666666669,
                    10.171333333333335,
                    10.427166666666666,
                    10.136166666666666,
                    10.686666666666667,
                    10.251666666666665,
                    10.004166666666665,
                    9.873666666666665,
                    9.623666666666665,
                    9.211833333333333,
                    9.233666666666664,
                    8.955250000000001,
                    9.181833333333334,
                    9.448750000000002,
                    9.760250000000001,
                    9.205833333333334,
                    9.130416666666667,
                    8.684000000000001,
                    9.658000000000001,
                    8.951083333333333,
                    9.235,
                    9.465916666666665,
                    9.563583333333334,
                    9.080916666666667,
                    9.995000000000001,
                    9.897166666666667,
                    9.916166666666669,
                    10.25233333333333,
                    9.81375,
                    9.261583333333332,
                    9.948166666666667,
                    9.170666666666667,
                    8.990583333333333,
                    9.2465,
                    9.299000000000001,
                    8.667833333333332,
                    8.86525,
                    8.666583333333332,
                    8.677249999999999,
                    8.811666666666666,
                    8.787416666666667,
                    8.640166666666666,
                    8.92025,
                    8.923499999999999,
                    8.572333333333333,
                    8.732666666666667,
                    9.6045,
                    8.986666666666666,
                    8.850833333333334,
                    8.898,
                    8.777083333333334,
                    9.0605,
                    9.018416666666665,
                    8.876833333333334,
                    9.036166666666666,
                    8.997916666666665,
                    8.756666666666666,
                    8.509250000000002,
                    8.8,
                    8.926666666666668,
                    8.586833333333333,
                    8.499916666666667,
                    8.2475,
                    8.859833333333333,
                    8.660000000000002,
                    8.84,
                    8.898166666666665,
                    9.071166666666667,
                    8.79425,
                    9.02775,
                    8.7515,
                    8.685333333333332,
                    8.782916666666665,
                    8.901583333333333,
                    8.951416666666667,
                    8.311083333333334,
                    8.513583333333333,
                    8.9955,
                    9.254666666666665,
                    8.62925,
                    8.533666666666665,
                    8.69025,
                    8.508833333333333,
                    8.347583333333333,
                    8.169916666666667,
                    8.344666666666669,
                    8.340499999999999,
                    8.307,
                    8.472916666666666,
                    8.688833333333333,
                    8.314666666666668,
                    8.354666666666667,
                    8.404666666666666,
                    8.402,
                    8.47825,
                    8.446250000000001,
                    8.52375,
                    8.607166666666668,
                    8.503666666666666,
                    8.721083333333333,
                    8.816333333333333,
                    8.848166666666666,
                    8.597166666666666,
                    8.510166666666667,
                    8.377333333333333,
                    8.503916666666665,
                    8.653999999999998,
                    8.204333333333334,
                    8.460833333333333,
                    8.441,
                    8.483083333333335,
                    8.424833333333336,
                    8.423833333333334,
                    8.559999999999999,
                    8.842416666666667,
                    8.839333333333332,
                    8.485666666666667,
                    8.283999999999999,
                    8.399083333333332,
                    8.649000000000001,
                    8.621416666666667,
                    8.827833333333333,
                    8.666583333333334,
                    8.675249999999998,
                    8.763666666666667,
                    8.775166666666667,
                    8.971499999999999,
                    8.770999999999999,
                    8.88075,
                    8.494166666666665,
                    8.873249999999999,
                    8.957,
                    8.954166666666667,
                    8.580916666666667,
                    8.868416666666668,
                    8.751666666666667,
                    8.797083333333333,
                    8.938416666666665,
                    9.104166666666666,
                    8.997666666666667,
                    8.995750000000001,
                    8.996500000000001,
                    8.957916666666666,
                    8.981666666666667,
                    9.070166666666667,
                    8.805166666666665,
                    8.899333333333335,
                    9.014166666666666,
                    8.956333333333333,
                    8.794999999999998,
                    8.551583333333335,
                    8.809833333333332,
                    8.847000000000001,
                    9.085833333333335,
                    8.747833333333332,
                    8.779833333333334,
                    8.400416666666667,
                    8.8905,
                    8.878083333333333,
                    8.839833333333331,
                    8.67725,
                    8.894666666666666,
                    8.878833333333333,
                    8.948333333333332,
                    8.502166666666666,
                    8.63625,
                    8.691583333333332,
                    8.78375,
                    8.628,
                    8.68025,
                    8.776499999999999,
                    8.697166666666666,
                    8.594916666666666,
                    9.048999999999998,
                    8.572,
                    8.841916666666668,
                    8.447833333333332,
                    8.934916666666666,
                    8.796583333333333,
                    8.819833333333332,
                    9.087,
                    9.253083333333333,
                    8.721833333333333,
                    9.122166666666665,
                    8.794416666666669,
                    8.751249999999999,
                    8.918583333333332,
                    9.079583333333334,
                    9.281666666666666,
                    9.009999999999998,
                    9.320500000000001,
                    9.2415,
                    8.919916666666666,
                    8.947916666666666,
                    9.109666666666666,
                    9.423499999999999,
                    9.123666666666667,
                    9.291166666666667,
                    9.596583333333333,
                    9.364333333333333,
                    9.284666666666668,
                    9.502,
                    9.642833333333334,
                    9.61625,
                    9.408,
                    9.776083333333332,
                    9.622499999999999,
                    9.821666666666664,
                    9.510666666666667,
                    9.591166666666668,
                    9.786499999999998,
                    9.598,
                    9.59075,
                    9.704166666666666,
                    9.660833333333333,
                    9.923166666666665
                  ],
                  "x": [
                    "1750",
                    "1751",
                    "1752",
                    "1753",
                    "1754",
                    "1755",
                    "1756",
                    "1757",
                    "1758",
                    "1759",
                    "1760",
                    "1761",
                    "1762",
                    "1763",
                    "1764",
                    "1765",
                    "1766",
                    "1767",
                    "1768",
                    "1769",
                    "1770",
                    "1771",
                    "1772",
                    "1773",
                    "1774",
                    "1775",
                    "1776",
                    "1777",
                    "1778",
                    "1779",
                    "1780",
                    "1781",
                    "1782",
                    "1783",
                    "1784",
                    "1785",
                    "1786",
                    "1787",
                    "1788",
                    "1789",
                    "1790",
                    "1791",
                    "1792",
                    "1793",
                    "1794",
                    "1795",
                    "1796",
                    "1797",
                    "1798",
                    "1799",
                    "1800",
                    "1801",
                    "1802",
                    "1803",
                    "1804",
                    "1805",
                    "1806",
                    "1807",
                    "1808",
                    "1809",
                    "1810",
                    "1811",
                    "1812",
                    "1813",
                    "1814",
                    "1815",
                    "1816",
                    "1817",
                    "1818",
                    "1819",
                    "1820",
                    "1821",
                    "1822",
                    "1823",
                    "1824",
                    "1825",
                    "1826",
                    "1827",
                    "1828",
                    "1829",
                    "1830",
                    "1831",
                    "1832",
                    "1833",
                    "1834",
                    "1835",
                    "1836",
                    "1837",
                    "1838",
                    "1839",
                    "1840",
                    "1841",
                    "1842",
                    "1843",
                    "1844",
                    "1845",
                    "1846",
                    "1847",
                    "1848",
                    "1849",
                    "1850",
                    "1851",
                    "1852",
                    "1853",
                    "1854",
                    "1855",
                    "1856",
                    "1857",
                    "1858",
                    "1859",
                    "1860",
                    "1861",
                    "1862",
                    "1863",
                    "1864",
                    "1865",
                    "1866",
                    "1867",
                    "1868",
                    "1869",
                    "1870",
                    "1871",
                    "1872",
                    "1873",
                    "1874",
                    "1875",
                    "1876",
                    "1877",
                    "1878",
                    "1879",
                    "1880",
                    "1881",
                    "1882",
                    "1883",
                    "1884",
                    "1885",
                    "1886",
                    "1887",
                    "1888",
                    "1889",
                    "1890",
                    "1891",
                    "1892",
                    "1893",
                    "1894",
                    "1895",
                    "1896",
                    "1897",
                    "1898",
                    "1899",
                    "1900",
                    "1901",
                    "1902",
                    "1903",
                    "1904",
                    "1905",
                    "1906",
                    "1907",
                    "1908",
                    "1909",
                    "1910",
                    "1911",
                    "1912",
                    "1913",
                    "1914",
                    "1915",
                    "1916",
                    "1917",
                    "1918",
                    "1919",
                    "1920",
                    "1921",
                    "1922",
                    "1923",
                    "1924",
                    "1925",
                    "1926",
                    "1927",
                    "1928",
                    "1929",
                    "1930",
                    "1931",
                    "1932",
                    "1933",
                    "1934",
                    "1935",
                    "1936",
                    "1937",
                    "1938",
                    "1939",
                    "1940",
                    "1941",
                    "1942",
                    "1943",
                    "1944",
                    "1945",
                    "1946",
                    "1947",
                    "1948",
                    "1949",
                    "1950",
                    "1951",
                    "1952",
                    "1953",
                    "1954",
                    "1955",
                    "1956",
                    "1957",
                    "1958",
                    "1959",
                    "1960",
                    "1961",
                    "1962",
                    "1963",
                    "1964",
                    "1965",
                    "1966",
                    "1967",
                    "1968",
                    "1969",
                    "1970",
                    "1971",
                    "1972",
                    "1973",
                    "1974",
                    "1975",
                    "1976",
                    "1977",
                    "1978",
                    "1979",
                    "1980",
                    "1981",
                    "1982",
                    "1983",
                    "1984",
                    "1985",
                    "1986",
                    "1987",
                    "1988",
                    "1989",
                    "1990",
                    "1991",
                    "1992",
                    "1993",
                    "1994",
                    "1995",
                    "1996",
                    "1997",
                    "1998",
                    "1999",
                    "2000",
                    "2001",
                    "2002",
                    "2003",
                    "2004",
                    "2005",
                    "2006",
                    "2007",
                    "2008",
                    "2009",
                    "2010",
                    "2011",
                    "2012",
                    "2013",
                    "2014",
                    "2015"
                  ],
                  "line": {
                    "color": "rgb(0, 255, 255)"
                  },
                  "type": "scatter"
                },
                {
                  "name": "Uncertainty bot",
                  "mode": "lines",
                  "y": [
                    6.081545454545456,
                    5.194999999999999,
                    2.8028333333333326,
                    5.212083333333332,
                    4.975083333333334,
                    4.50525,
                    5.587249999999999,
                    4.9959999999999996,
                    3.3806666666666656,
                    4.306166666666666,
                    4.096250000000001,
                    5.627666666666666,
                    5.08225,
                    4.345166666666666,
                    5.6250833333333325,
                    5.824166666666666,
                    5.569833333333333,
                    5.258833333333332,
                    4.515333333333333,
                    5.284500000000001,
                    4.91125,
                    5.248583333333334,
                    5.729666666666667,
                    5.860750000000001,
                    5.356999999999999,
                    6.862500000000001,
                    5.439833333333333,
                    5.813416666666669,
                    5.669749999999999,
                    6.477416666666667,
                    6.848083333333333,
                    5.598749999999998,
                    5.350666666666665,
                    5.186416666666666,
                    5.606333333333334,
                    5.1235,
                    5.732749999999999,
                    5.6700833333333325,
                    5.889333333333333,
                    6.4655,
                    6.210666666666667,
                    6.450499999999999,
                    6.388583333333334,
                    5.95475,
                    6.5470000000000015,
                    6.307,
                    6.3503333333333325,
                    6.464916666666667,
                    6.766916666666666,
                    6.767333333333332,
                    6.765583333333335,
                    7.008000000000001,
                    6.729166666666666,
                    6.869833333333333,
                    7.003,
                    6.873833333333333,
                    6.863999999999998,
                    6.689166666666665,
                    5.63,
                    4.941000000000001,
                    4.611666666666666,
                    4.76375,
                    4.910666666666668,
                    6.031083333333335,
                    5.4232499999999995,
                    5.272833333333334,
                    4.744583333333333,
                    5.267333333333335,
                    5.999833333333334,
                    5.787250000000001,
                    5.997499999999998,
                    6.714249999999999,
                    6.813083333333334,
                    6.356416666666667,
                    7.099333333333334,
                    6.8815,
                    6.7970000000000015,
                    7.365166666666664,
                    6.516916666666668,
                    6.622083333333332,
                    7.085333333333334,
                    6.107666666666667,
                    5.909750000000001,
                    6.7795,
                    6.994500000000001,
                    6.117166666666666,
                    6.526416666666667,
                    6.084749999999998,
                    6.352583333333332,
                    6.4528333333333325,
                    6.805083333333334,
                    6.736166666666667,
                    7.12525,
                    7.423833333333333,
                    6.7203333333333335,
                    6.969666666666668,
                    7.5009999999999994,
                    7.185333333333333,
                    7.108166666666667,
                    7.070833333333334,
                    7.024249999999999,
                    7.296666666666665,
                    7.181916666666664,
                    7.206833333333333,
                    7.384833333333333,
                    7.223583333333331,
                    7.235166666666666,
                    7.007083333333334,
                    7.400500000000001,
                    7.577333333333334,
                    7.334833333333333,
                    7.193083333333335,
                    6.869666666666667,
                    7.363833333333333,
                    7.307166666666668,
                    7.515666666666667,
                    7.686166666666665,
                    7.801500000000001,
                    7.701583333333334,
                    7.836416666666667,
                    7.651166666666666,
                    7.544833333333333,
                    7.604749999999998,
                    7.800583333333334,
                    7.915583333333334,
                    7.408083333333334,
                    7.646583333333333,
                    8.083666666666666,
                    8.404833333333332,
                    7.702416666666667,
                    7.703833333333332,
                    7.851583333333333,
                    7.7490000000000006,
                    7.606249999999998,
                    7.377416666666667,
                    7.494666666666668,
                    7.5684999999999985,
                    7.522833333333333,
                    7.708083333333334,
                    7.949166666666666,
                    7.628666666666667,
                    7.684,
                    7.7269999999999985,
                    7.711499999999999,
                    7.84375,
                    7.8477500000000004,
                    7.906083333333332,
                    7.979500000000002,
                    7.852333333333332,
                    8.071583333333333,
                    8.186833333333333,
                    8.235666666666665,
                    8.011666666666667,
                    7.9301666666666675,
                    7.8045,
                    7.946416666666665,
                    8.104166666666666,
                    7.69,
                    7.911333333333334,
                    7.915500000000001,
                    7.9629166666666675,
                    7.929166666666668,
                    7.907000000000001,
                    8.035499999999999,
                    8.338583333333334,
                    8.346999999999998,
                    7.964833333333334,
                    7.762666666666665,
                    7.8625833333333315,
                    8.1155,
                    8.096083333333334,
                    8.314166666666667,
                    8.149416666666665,
                    8.169083333333333,
                    8.250000000000002,
                    8.293666666666667,
                    8.486166666666666,
                    8.273166666666667,
                    8.383583333333336,
                    7.990666666666665,
                    8.393916666666666,
                    8.4815,
                    8.456333333333335,
                    8.095583333333334,
                    8.388250000000003,
                    8.279833333333334,
                    8.310916666666667,
                    8.45825,
                    8.623166666666664,
                    8.523,
                    8.533583333333333,
                    8.540833333333335,
                    8.498916666666666,
                    8.5285,
                    8.619833333333334,
                    8.3645,
                    8.454500000000003,
                    8.58,
                    8.537166666666668,
                    8.378499999999999,
                    8.178916666666668,
                    8.4415,
                    8.4295,
                    8.661666666666667,
                    8.3735,
                    8.472666666666667,
                    8.15875,
                    8.5745,
                    8.669416666666667,
                    8.625499999999999,
                    8.49025,
                    8.700666666666667,
                    8.613,
                    8.763666666666667,
                    8.317166666666667,
                    8.418583333333334,
                    8.507083333333332,
                    8.616416666666668,
                    8.404666666666667,
                    8.509916666666667,
                    8.625333333333334,
                    8.501333333333333,
                    8.404250000000001,
                    8.847499999999998,
                    8.363,
                    8.64775,
                    8.246666666666666,
                    8.765583333333332,
                    8.588916666666664,
                    8.646999999999998,
                    8.873666666666665,
                    9.078583333333334,
                    8.5565,
                    8.934166666666666,
                    8.589250000000002,
                    8.56475,
                    8.74858333333333,
                    8.909250000000002,
                    9.121500000000001,
                    8.834,
                    9.147833333333333,
                    9.117333333333333,
                    8.753249999999998,
                    8.78525,
                    8.967833333333331,
                    9.270666666666665,
                    8.954166666666667,
                    9.113999999999999,
                    9.448749999999999,
                    9.205833333333333,
                    9.117666666666667,
                    9.327166666666669,
                    9.498,
                    9.434916666666666,
                    9.241166666666667,
                    9.62575,
                    9.442499999999999,
                    9.642666666666665,
                    9.352833333333335,
                    9.419333333333336,
                    9.619666666666665,
                    9.434,
                    9.423916666666667,
                    9.508833333333332,
                    9.4805,
                    9.73883333333333
                  ],
                  "x": [
                    "1750",
                    "1751",
                    "1752",
                    "1753",
                    "1754",
                    "1755",
                    "1756",
                    "1757",
                    "1758",
                    "1759",
                    "1760",
                    "1761",
                    "1762",
                    "1763",
                    "1764",
                    "1765",
                    "1766",
                    "1767",
                    "1768",
                    "1769",
                    "1770",
                    "1771",
                    "1772",
                    "1773",
                    "1774",
                    "1775",
                    "1776",
                    "1777",
                    "1778",
                    "1779",
                    "1780",
                    "1781",
                    "1782",
                    "1783",
                    "1784",
                    "1785",
                    "1786",
                    "1787",
                    "1788",
                    "1789",
                    "1790",
                    "1791",
                    "1792",
                    "1793",
                    "1794",
                    "1795",
                    "1796",
                    "1797",
                    "1798",
                    "1799",
                    "1800",
                    "1801",
                    "1802",
                    "1803",
                    "1804",
                    "1805",
                    "1806",
                    "1807",
                    "1808",
                    "1809",
                    "1810",
                    "1811",
                    "1812",
                    "1813",
                    "1814",
                    "1815",
                    "1816",
                    "1817",
                    "1818",
                    "1819",
                    "1820",
                    "1821",
                    "1822",
                    "1823",
                    "1824",
                    "1825",
                    "1826",
                    "1827",
                    "1828",
                    "1829",
                    "1830",
                    "1831",
                    "1832",
                    "1833",
                    "1834",
                    "1835",
                    "1836",
                    "1837",
                    "1838",
                    "1839",
                    "1840",
                    "1841",
                    "1842",
                    "1843",
                    "1844",
                    "1845",
                    "1846",
                    "1847",
                    "1848",
                    "1849",
                    "1850",
                    "1851",
                    "1852",
                    "1853",
                    "1854",
                    "1855",
                    "1856",
                    "1857",
                    "1858",
                    "1859",
                    "1860",
                    "1861",
                    "1862",
                    "1863",
                    "1864",
                    "1865",
                    "1866",
                    "1867",
                    "1868",
                    "1869",
                    "1870",
                    "1871",
                    "1872",
                    "1873",
                    "1874",
                    "1875",
                    "1876",
                    "1877",
                    "1878",
                    "1879",
                    "1880",
                    "1881",
                    "1882",
                    "1883",
                    "1884",
                    "1885",
                    "1886",
                    "1887",
                    "1888",
                    "1889",
                    "1890",
                    "1891",
                    "1892",
                    "1893",
                    "1894",
                    "1895",
                    "1896",
                    "1897",
                    "1898",
                    "1899",
                    "1900",
                    "1901",
                    "1902",
                    "1903",
                    "1904",
                    "1905",
                    "1906",
                    "1907",
                    "1908",
                    "1909",
                    "1910",
                    "1911",
                    "1912",
                    "1913",
                    "1914",
                    "1915",
                    "1916",
                    "1917",
                    "1918",
                    "1919",
                    "1920",
                    "1921",
                    "1922",
                    "1923",
                    "1924",
                    "1925",
                    "1926",
                    "1927",
                    "1928",
                    "1929",
                    "1930",
                    "1931",
                    "1932",
                    "1933",
                    "1934",
                    "1935",
                    "1936",
                    "1937",
                    "1938",
                    "1939",
                    "1940",
                    "1941",
                    "1942",
                    "1943",
                    "1944",
                    "1945",
                    "1946",
                    "1947",
                    "1948",
                    "1949",
                    "1950",
                    "1951",
                    "1952",
                    "1953",
                    "1954",
                    "1955",
                    "1956",
                    "1957",
                    "1958",
                    "1959",
                    "1960",
                    "1961",
                    "1962",
                    "1963",
                    "1964",
                    "1965",
                    "1966",
                    "1967",
                    "1968",
                    "1969",
                    "1970",
                    "1971",
                    "1972",
                    "1973",
                    "1974",
                    "1975",
                    "1976",
                    "1977",
                    "1978",
                    "1979",
                    "1980",
                    "1981",
                    "1982",
                    "1983",
                    "1984",
                    "1985",
                    "1986",
                    "1987",
                    "1988",
                    "1989",
                    "1990",
                    "1991",
                    "1992",
                    "1993",
                    "1994",
                    "1995",
                    "1996",
                    "1997",
                    "1998",
                    "1999",
                    "2000",
                    "2001",
                    "2002",
                    "2003",
                    "2004",
                    "2005",
                    "2006",
                    "2007",
                    "2008",
                    "2009",
                    "2010",
                    "2011",
                    "2012",
                    "2013",
                    "2014",
                    "2015"
                  ],
                  "line": {
                    "color": "rgb(0, 255, 255)"
                  },
                  "type": "scatter",
                  "fill": "tonexty"
                },
                {
                  "y": [
                    8.719363636363637,
                    7.9761428571428565,
                    5.7798333333333325,
                    8.388083333333332,
                    8.469333333333335,
                    8.355583333333334,
                    8.849583333333333,
                    9.022,
                    6.743583333333333,
                    7.985083333333333,
                    7.185166666666667,
                    8.772499999999999,
                    8.6065,
                    7.496749999999999,
                    8.400333333333332,
                    8.251916666666666,
                    8.405666666666667,
                    8.221499999999999,
                    6.781333333333333,
                    7.694583333333334,
                    7.691916666666667,
                    7.8531666666666675,
                    8.1935,
                    8.2215,
                    8.772166666666665,
                    9.183083333333334,
                    8.304,
                    8.256250000000001,
                    8.54225,
                    8.98325,
                    9.432916666666667,
                    8.102583333333332,
                    7.901249999999998,
                    7.680833333333333,
                    7.862000000000001,
                    7.3629999999999995,
                    8.258166666666666,
                    8.031833333333333,
                    8.447166666666666,
                    8.334166666666667,
                    7.982333333333333,
                    8.23425,
                    8.089,
                    8.229166666666666,
                    8.526000000000002,
                    8.350333333333333,
                    8.270999999999999,
                    8.510583333333335,
                    8.67025,
                    8.505749999999999,
                    8.484250000000001,
                    8.589666666666668,
                    8.578166666666666,
                    8.503,
                    8.844833333333334,
                    8.56275,
                    8.434083333333332,
                    8.281416666666665,
                    7.626833333333333,
                    7.076416666666667,
                    6.922666666666665,
                    6.859500000000001,
                    7.046250000000001,
                    7.7399166666666686,
                    7.59175,
                    7.239333333333334,
                    6.9375,
                    6.975666666666668,
                    7.828916666666667,
                    7.3691666666666675,
                    7.616249999999998,
                    8.090083333333332,
                    8.188333333333334,
                    7.7186666666666675,
                    8.547166666666667,
                    8.389333333333333,
                    8.356583333333335,
                    8.808749999999998,
                    8.165333333333335,
                    7.941833333333332,
                    8.51675,
                    7.639166666666667,
                    7.450166666666667,
                    8.013,
                    8.14675,
                    7.392499999999999,
                    7.695833333333334,
                    7.375666666666665,
                    7.514916666666665,
                    7.632249999999999,
                    7.796250000000001,
                    7.688166666666667,
                    8.02275,
                    8.173666666666666,
                    7.646333333333334,
                    7.851166666666668,
                    8.55275,
                    8.086,
                    7.979500000000001,
                    7.984416666666667,
                    7.900666666666666,
                    8.178583333333332,
                    8.100166666666665,
                    8.041833333333333,
                    8.2105,
                    8.110749999999998,
                    7.995916666666666,
                    7.758166666666668,
                    8.10025,
                    8.252,
                    7.960833333333333,
                    7.846500000000002,
                    7.558583333333334,
                    8.111833333333333,
                    7.983583333333335,
                    8.177833333333334,
                    8.292166666666665,
                    8.436333333333334,
                    8.247916666666667,
                    8.432083333333333,
                    8.201333333333332,
                    8.115083333333333,
                    8.193833333333332,
                    8.351083333333333,
                    8.4335,
                    7.859583333333334,
                    8.080083333333333,
                    8.539583333333333,
                    8.829749999999999,
                    8.165833333333333,
                    8.118749999999999,
                    8.270916666666666,
                    8.128916666666667,
                    7.976916666666665,
                    7.773666666666667,
                    7.919666666666668,
                    7.954499999999999,
                    7.914916666666667,
                    8.0905,
                    8.318999999999999,
                    7.971666666666667,
                    8.019333333333334,
                    8.065833333333332,
                    8.05675,
                    8.161,
                    8.147,
                    8.214916666666666,
                    8.293333333333335,
                    8.177999999999999,
                    8.396333333333333,
                    8.501583333333333,
                    8.541916666666665,
                    8.304416666666667,
                    8.220166666666668,
                    8.090916666666667,
                    8.225166666666665,
                    8.379083333333332,
                    7.947166666666667,
                    8.186083333333334,
                    8.17825,
                    8.223,
                    8.177000000000001,
                    8.165416666666667,
                    8.297749999999999,
                    8.5905,
                    8.593166666666665,
                    8.22525,
                    8.023333333333332,
                    8.130833333333332,
                    8.38225,
                    8.35875,
                    8.571,
                    8.408,
                    8.422166666666666,
                    8.506833333333335,
                    8.534416666666667,
                    8.728833333333332,
                    8.522083333333333,
                    8.632166666666668,
                    8.242416666666665,
                    8.633583333333332,
                    8.71925,
                    8.705250000000001,
                    8.33825,
                    8.628333333333336,
                    8.51575,
                    8.554,
                    8.698333333333332,
                    8.863666666666665,
                    8.760333333333334,
                    8.764666666666667,
                    8.768666666666668,
                    8.728416666666666,
                    8.755083333333333,
                    8.845,
                    8.584833333333332,
                    8.676916666666669,
                    8.797083333333333,
                    8.74675,
                    8.586749999999999,
                    8.365250000000001,
                    8.625666666666666,
                    8.638250000000001,
                    8.873750000000001,
                    8.560666666666666,
                    8.62625,
                    8.279583333333333,
                    8.7325,
                    8.77375,
                    8.732666666666665,
                    8.58375,
                    8.797666666666666,
                    8.745916666666666,
                    8.856,
                    8.409666666666666,
                    8.527416666666667,
                    8.599333333333332,
                    8.700083333333334,
                    8.516333333333334,
                    8.595083333333333,
                    8.700916666666666,
                    8.59925,
                    8.499583333333334,
                    8.948249999999998,
                    8.4675,
                    8.744833333333334,
                    8.347249999999999,
                    8.850249999999999,
                    8.692749999999998,
                    8.733416666666665,
                    8.980333333333332,
                    9.165833333333333,
                    8.639166666666666,
                    9.028166666666666,
                    8.691833333333335,
                    8.658,
                    8.833583333333332,
                    8.994416666666668,
                    9.201583333333334,
                    8.921999999999999,
                    9.234166666666667,
                    9.179416666666667,
                    8.836583333333332,
                    8.866583333333333,
                    9.038749999999999,
                    9.347083333333332,
                    9.038916666666667,
                    9.202583333333333,
                    9.522666666666666,
                    9.285083333333333,
                    9.201166666666667,
                    9.414583333333335,
                    9.570416666666667,
                    9.525583333333334,
                    9.324583333333333,
                    9.700916666666666,
                    9.532499999999999,
                    9.732166666666664,
                    9.431750000000001,
                    9.505250000000002,
                    9.703083333333332,
                    9.516,
                    9.507333333333333,
                    9.606499999999999,
                    9.570666666666666,
                    9.830999999999998
                  ],
                  "x": [
                    "1750",
                    "1751",
                    "1752",
                    "1753",
                    "1754",
                    "1755",
                    "1756",
                    "1757",
                    "1758",
                    "1759",
                    "1760",
                    "1761",
                    "1762",
                    "1763",
                    "1764",
                    "1765",
                    "1766",
                    "1767",
                    "1768",
                    "1769",
                    "1770",
                    "1771",
                    "1772",
                    "1773",
                    "1774",
                    "1775",
                    "1776",
                    "1777",
                    "1778",
                    "1779",
                    "1780",
                    "1781",
                    "1782",
                    "1783",
                    "1784",
                    "1785",
                    "1786",
                    "1787",
                    "1788",
                    "1789",
                    "1790",
                    "1791",
                    "1792",
                    "1793",
                    "1794",
                    "1795",
                    "1796",
                    "1797",
                    "1798",
                    "1799",
                    "1800",
                    "1801",
                    "1802",
                    "1803",
                    "1804",
                    "1805",
                    "1806",
                    "1807",
                    "1808",
                    "1809",
                    "1810",
                    "1811",
                    "1812",
                    "1813",
                    "1814",
                    "1815",
                    "1816",
                    "1817",
                    "1818",
                    "1819",
                    "1820",
                    "1821",
                    "1822",
                    "1823",
                    "1824",
                    "1825",
                    "1826",
                    "1827",
                    "1828",
                    "1829",
                    "1830",
                    "1831",
                    "1832",
                    "1833",
                    "1834",
                    "1835",
                    "1836",
                    "1837",
                    "1838",
                    "1839",
                    "1840",
                    "1841",
                    "1842",
                    "1843",
                    "1844",
                    "1845",
                    "1846",
                    "1847",
                    "1848",
                    "1849",
                    "1850",
                    "1851",
                    "1852",
                    "1853",
                    "1854",
                    "1855",
                    "1856",
                    "1857",
                    "1858",
                    "1859",
                    "1860",
                    "1861",
                    "1862",
                    "1863",
                    "1864",
                    "1865",
                    "1866",
                    "1867",
                    "1868",
                    "1869",
                    "1870",
                    "1871",
                    "1872",
                    "1873",
                    "1874",
                    "1875",
                    "1876",
                    "1877",
                    "1878",
                    "1879",
                    "1880",
                    "1881",
                    "1882",
                    "1883",
                    "1884",
                    "1885",
                    "1886",
                    "1887",
                    "1888",
                    "1889",
                    "1890",
                    "1891",
                    "1892",
                    "1893",
                    "1894",
                    "1895",
                    "1896",
                    "1897",
                    "1898",
                    "1899",
                    "1900",
                    "1901",
                    "1902",
                    "1903",
                    "1904",
                    "1905",
                    "1906",
                    "1907",
                    "1908",
                    "1909",
                    "1910",
                    "1911",
                    "1912",
                    "1913",
                    "1914",
                    "1915",
                    "1916",
                    "1917",
                    "1918",
                    "1919",
                    "1920",
                    "1921",
                    "1922",
                    "1923",
                    "1924",
                    "1925",
                    "1926",
                    "1927",
                    "1928",
                    "1929",
                    "1930",
                    "1931",
                    "1932",
                    "1933",
                    "1934",
                    "1935",
                    "1936",
                    "1937",
                    "1938",
                    "1939",
                    "1940",
                    "1941",
                    "1942",
                    "1943",
                    "1944",
                    "1945",
                    "1946",
                    "1947",
                    "1948",
                    "1949",
                    "1950",
                    "1951",
                    "1952",
                    "1953",
                    "1954",
                    "1955",
                    "1956",
                    "1957",
                    "1958",
                    "1959",
                    "1960",
                    "1961",
                    "1962",
                    "1963",
                    "1964",
                    "1965",
                    "1966",
                    "1967",
                    "1968",
                    "1969",
                    "1970",
                    "1971",
                    "1972",
                    "1973",
                    "1974",
                    "1975",
                    "1976",
                    "1977",
                    "1978",
                    "1979",
                    "1980",
                    "1981",
                    "1982",
                    "1983",
                    "1984",
                    "1985",
                    "1986",
                    "1987",
                    "1988",
                    "1989",
                    "1990",
                    "1991",
                    "1992",
                    "1993",
                    "1994",
                    "1995",
                    "1996",
                    "1997",
                    "1998",
                    "1999",
                    "2000",
                    "2001",
                    "2002",
                    "2003",
                    "2004",
                    "2005",
                    "2006",
                    "2007",
                    "2008",
                    "2009",
                    "2010",
                    "2011",
                    "2012",
                    "2013",
                    "2014",
                    "2015"
                  ],
                  "line": {
                    "color": "rgb(199, 121, 093)"
                  },
                  "type": "scatter",
                  "name": "Average Temperature"
                }
              ],
              "config": {
                "plotlyServerURL": "https://plot.ly",
                "linkText": "Export to plot.ly",
                "showLink": false
              },
              "layout": {
                "showlegend": false,
                "yaxis": {
                  "title": {
                    "text": "Average Temperature, °C"
                  }
                },
                "xaxis": {
                  "title": {
                    "text": "year"
                  }
                },
                "template": {
                  "layout": {
                    "shapedefaults": {
                      "line": {
                        "color": "#2a3f5f"
                      }
                    },
                    "polar": {
                      "radialaxis": {
                        "ticks": "",
                        "gridcolor": "white",
                        "linecolor": "white"
                      },
                      "bgcolor": "#E5ECF6",
                      "angularaxis": {
                        "ticks": "",
                        "gridcolor": "white",
                        "linecolor": "white"
                      }
                    },
                    "colorway": [
                      "#636efa",
                      "#EF553B",
                      "#00cc96",
                      "#ab63fa",
                      "#FFA15A",
                      "#19d3f3",
                      "#FF6692",
                      "#B6E880",
                      "#FF97FF",
                      "#FECB52"
                    ],
                    "xaxis": {
                      "automargin": true,
                      "title": {
                        "standoff": 15
                      },
                      "zerolinewidth": 2,
                      "ticks": "",
                      "zerolinecolor": "white",
                      "gridcolor": "white",
                      "linecolor": "white"
                    },
                    "colorscale": {
                      "diverging": [
                        [
                          0,
                          "#8e0152"
                        ],
                        [
                          0.1,
                          "#c51b7d"
                        ],
                        [
                          0.2,
                          "#de77ae"
                        ],
                        [
                          0.3,
                          "#f1b6da"
                        ],
                        [
                          0.4,
                          "#fde0ef"
                        ],
                        [
                          0.5,
                          "#f7f7f7"
                        ],
                        [
                          0.6,
                          "#e6f5d0"
                        ],
                        [
                          0.7,
                          "#b8e186"
                        ],
                        [
                          0.8,
                          "#7fbc41"
                        ],
                        [
                          0.9,
                          "#4d9221"
                        ],
                        [
                          1,
                          "#276419"
                        ]
                      ],
                      "sequential": [
                        [
                          0,
                          "#0d0887"
                        ],
                        [
                          0.1111111111111111,
                          "#46039f"
                        ],
                        [
                          0.2222222222222222,
                          "#7201a8"
                        ],
                        [
                          0.3333333333333333,
                          "#9c179e"
                        ],
                        [
                          0.4444444444444444,
                          "#bd3786"
                        ],
                        [
                          0.5555555555555556,
                          "#d8576b"
                        ],
                        [
                          0.6666666666666666,
                          "#ed7953"
                        ],
                        [
                          0.7777777777777778,
                          "#fb9f3a"
                        ],
                        [
                          0.8888888888888888,
                          "#fdca26"
                        ],
                        [
                          1,
                          "#f0f921"
                        ]
                      ],
                      "sequentialminus": [
                        [
                          0,
                          "#0d0887"
                        ],
                        [
                          0.1111111111111111,
                          "#46039f"
                        ],
                        [
                          0.2222222222222222,
                          "#7201a8"
                        ],
                        [
                          0.3333333333333333,
                          "#9c179e"
                        ],
                        [
                          0.4444444444444444,
                          "#bd3786"
                        ],
                        [
                          0.5555555555555556,
                          "#d8576b"
                        ],
                        [
                          0.6666666666666666,
                          "#ed7953"
                        ],
                        [
                          0.7777777777777778,
                          "#fb9f3a"
                        ],
                        [
                          0.8888888888888888,
                          "#fdca26"
                        ],
                        [
                          1,
                          "#f0f921"
                        ]
                      ]
                    },
                    "paper_bgcolor": "white",
                    "plot_bgcolor": "#E5ECF6",
                    "title": {
                      "x": 0.05
                    },
                    "scene": {
                      "zaxis": {
                        "backgroundcolor": "#E5ECF6",
                        "ticks": "",
                        "gridwidth": 2,
                        "showbackground": true,
                        "zerolinecolor": "white",
                        "gridcolor": "white",
                        "linecolor": "white"
                      },
                      "xaxis": {
                        "backgroundcolor": "#E5ECF6",
                        "ticks": "",
                        "gridwidth": 2,
                        "showbackground": true,
                        "zerolinecolor": "white",
                        "gridcolor": "white",
                        "linecolor": "white"
                      },
                      "yaxis": {
                        "backgroundcolor": "#E5ECF6",
                        "ticks": "",
                        "gridwidth": 2,
                        "showbackground": true,
                        "zerolinecolor": "white",
                        "gridcolor": "white",
                        "linecolor": "white"
                      }
                    },
                    "yaxis": {
                      "automargin": true,
                      "title": {
                        "standoff": 15
                      },
                      "zerolinewidth": 2,
                      "ticks": "",
                      "zerolinecolor": "white",
                      "gridcolor": "white",
                      "linecolor": "white"
                    },
                    "annotationdefaults": {
                      "arrowwidth": 1,
                      "arrowhead": 0,
                      "arrowcolor": "#2a3f5f"
                    },
                    "hoverlabel": {
                      "align": "left"
                    },
                    "ternary": {
                      "bgcolor": "#E5ECF6",
                      "baxis": {
                        "ticks": "",
                        "gridcolor": "white",
                        "linecolor": "white"
                      },
                      "caxis": {
                        "ticks": "",
                        "gridcolor": "white",
                        "linecolor": "white"
                      },
                      "aaxis": {
                        "ticks": "",
                        "gridcolor": "white",
                        "linecolor": "white"
                      }
                    },
                    "mapbox": {
                      "style": "light"
                    },
                    "hovermode": "closest",
                    "font": {
                      "color": "#2a3f5f"
                    },
                    "geo": {
                      "showland": true,
                      "landcolor": "#E5ECF6",
                      "showlakes": true,
                      "bgcolor": "white",
                      "subunitcolor": "white",
                      "lakecolor": "white"
                    },
                    "coloraxis": {
                      "colorbar": {
                        "outlinewidth": 0,
                        "ticks": ""
                      }
                    }
                  },
                  "data": {
                    "mesh3d": [
                      {
                        "colorbar": {
                          "outlinewidth": 0,
                          "ticks": ""
                        },
                        "type": "mesh3d"
                      }
                    ],
                    "scattercarpet": [
                      {
                        "marker": {
                          "colorbar": {
                            "outlinewidth": 0,
                            "ticks": ""
                          }
                        },
                        "type": "scattercarpet"
                      }
                    ],
                    "pie": [
                      {
                        "automargin": true,
                        "type": "pie"
                      }
                    ],
                    "surface": [
                      {
                        "colorbar": {
                          "outlinewidth": 0,
                          "ticks": ""
                        },
                        "type": "surface",
                        "colorscale": [
                          [
                            0,
                            "#0d0887"
                          ],
                          [
                            0.1111111111111111,
                            "#46039f"
                          ],
                          [
                            0.2222222222222222,
                            "#7201a8"
                          ],
                          [
                            0.3333333333333333,
                            "#9c179e"
                          ],
                          [
                            0.4444444444444444,
                            "#bd3786"
                          ],
                          [
                            0.5555555555555556,
                            "#d8576b"
                          ],
                          [
                            0.6666666666666666,
                            "#ed7953"
                          ],
                          [
                            0.7777777777777778,
                            "#fb9f3a"
                          ],
                          [
                            0.8888888888888888,
                            "#fdca26"
                          ],
                          [
                            1,
                            "#f0f921"
                          ]
                        ]
                      }
                    ],
                    "table": [
                      {
                        "header": {
                          "line": {
                            "color": "white"
                          },
                          "fill": {
                            "color": "#C8D4E3"
                          }
                        },
                        "cells": {
                          "line": {
                            "color": "white"
                          },
                          "fill": {
                            "color": "#EBF0F8"
                          }
                        },
                        "type": "table"
                      }
                    ],
                    "scatterpolargl": [
                      {
                        "marker": {
                          "colorbar": {
                            "outlinewidth": 0,
                            "ticks": ""
                          }
                        },
                        "type": "scatterpolargl"
                      }
                    ],
                    "contour": [
                      {
                        "colorbar": {
                          "outlinewidth": 0,
                          "ticks": ""
                        },
                        "type": "contour",
                        "colorscale": [
                          [
                            0,
                            "#0d0887"
                          ],
                          [
                            0.1111111111111111,
                            "#46039f"
                          ],
                          [
                            0.2222222222222222,
                            "#7201a8"
                          ],
                          [
                            0.3333333333333333,
                            "#9c179e"
                          ],
                          [
                            0.4444444444444444,
                            "#bd3786"
                          ],
                          [
                            0.5555555555555556,
                            "#d8576b"
                          ],
                          [
                            0.6666666666666666,
                            "#ed7953"
                          ],
                          [
                            0.7777777777777778,
                            "#fb9f3a"
                          ],
                          [
                            0.8888888888888888,
                            "#fdca26"
                          ],
                          [
                            1,
                            "#f0f921"
                          ]
                        ]
                      }
                    ],
                    "carpet": [
                      {
                        "type": "carpet",
                        "baxis": {
                          "minorgridcolor": "white",
                          "gridcolor": "white",
                          "linecolor": "white",
                          "endlinecolor": "#2a3f5f",
                          "startlinecolor": "#2a3f5f"
                        },
                        "aaxis": {
                          "minorgridcolor": "white",
                          "gridcolor": "white",
                          "linecolor": "white",
                          "endlinecolor": "#2a3f5f",
                          "startlinecolor": "#2a3f5f"
                        }
                      }
                    ],
                    "contourcarpet": [
                      {
                        "colorbar": {
                          "outlinewidth": 0,
                          "ticks": ""
                        },
                        "type": "contourcarpet"
                      }
                    ],
                    "heatmap": [
                      {
                        "colorbar": {
                          "outlinewidth": 0,
                          "ticks": ""
                        },
                        "type": "heatmap",
                        "colorscale": [
                          [
                            0,
                            "#0d0887"
                          ],
                          [
                            0.1111111111111111,
                            "#46039f"
                          ],
                          [
                            0.2222222222222222,
                            "#7201a8"
                          ],
                          [
                            0.3333333333333333,
                            "#9c179e"
                          ],
                          [
                            0.4444444444444444,
                            "#bd3786"
                          ],
                          [
                            0.5555555555555556,
                            "#d8576b"
                          ],
                          [
                            0.6666666666666666,
                            "#ed7953"
                          ],
                          [
                            0.7777777777777778,
                            "#fb9f3a"
                          ],
                          [
                            0.8888888888888888,
                            "#fdca26"
                          ],
                          [
                            1,
                            "#f0f921"
                          ]
                        ]
                      }
                    ],
                    "scattermapbox": [
                      {
                        "marker": {
                          "colorbar": {
                            "outlinewidth": 0,
                            "ticks": ""
                          }
                        },
                        "type": "scattermapbox"
                      }
                    ],
                    "scatter3d": [
                      {
                        "marker": {
                          "colorbar": {
                            "outlinewidth": 0,
                            "ticks": ""
                          }
                        },
                        "line": {
                          "colorbar": {
                            "outlinewidth": 0,
                            "ticks": ""
                          }
                        },
                        "type": "scatter3d"
                      }
                    ],
                    "scattergl": [
                      {
                        "marker": {
                          "colorbar": {
                            "outlinewidth": 0,
                            "ticks": ""
                          }
                        },
                        "type": "scattergl"
                      }
                    ],
                    "scatterternary": [
                      {
                        "marker": {
                          "colorbar": {
                            "outlinewidth": 0,
                            "ticks": ""
                          }
                        },
                        "type": "scatterternary"
                      }
                    ],
                    "histogram": [
                      {
                        "marker": {
                          "colorbar": {
                            "outlinewidth": 0,
                            "ticks": ""
                          }
                        },
                        "type": "histogram"
                      }
                    ],
                    "heatmapgl": [
                      {
                        "colorbar": {
                          "outlinewidth": 0,
                          "ticks": ""
                        },
                        "type": "heatmapgl",
                        "colorscale": [
                          [
                            0,
                            "#0d0887"
                          ],
                          [
                            0.1111111111111111,
                            "#46039f"
                          ],
                          [
                            0.2222222222222222,
                            "#7201a8"
                          ],
                          [
                            0.3333333333333333,
                            "#9c179e"
                          ],
                          [
                            0.4444444444444444,
                            "#bd3786"
                          ],
                          [
                            0.5555555555555556,
                            "#d8576b"
                          ],
                          [
                            0.6666666666666666,
                            "#ed7953"
                          ],
                          [
                            0.7777777777777778,
                            "#fb9f3a"
                          ],
                          [
                            0.8888888888888888,
                            "#fdca26"
                          ],
                          [
                            1,
                            "#f0f921"
                          ]
                        ]
                      }
                    ],
                    "scatterpolar": [
                      {
                        "marker": {
                          "colorbar": {
                            "outlinewidth": 0,
                            "ticks": ""
                          }
                        },
                        "type": "scatterpolar"
                      }
                    ],
                    "histogram2d": [
                      {
                        "colorbar": {
                          "outlinewidth": 0,
                          "ticks": ""
                        },
                        "type": "histogram2d",
                        "colorscale": [
                          [
                            0,
                            "#0d0887"
                          ],
                          [
                            0.1111111111111111,
                            "#46039f"
                          ],
                          [
                            0.2222222222222222,
                            "#7201a8"
                          ],
                          [
                            0.3333333333333333,
                            "#9c179e"
                          ],
                          [
                            0.4444444444444444,
                            "#bd3786"
                          ],
                          [
                            0.5555555555555556,
                            "#d8576b"
                          ],
                          [
                            0.6666666666666666,
                            "#ed7953"
                          ],
                          [
                            0.7777777777777778,
                            "#fb9f3a"
                          ],
                          [
                            0.8888888888888888,
                            "#fdca26"
                          ],
                          [
                            1,
                            "#f0f921"
                          ]
                        ]
                      }
                    ],
                    "scattergeo": [
                      {
                        "marker": {
                          "colorbar": {
                            "outlinewidth": 0,
                            "ticks": ""
                          }
                        },
                        "type": "scattergeo"
                      }
                    ],
                    "bar": [
                      {
                        "marker": {
                          "line": {
                            "color": "#E5ECF6",
                            "width": 0.5
                          }
                        },
                        "type": "bar",
                        "error_x": {
                          "color": "#2a3f5f"
                        },
                        "error_y": {
                          "color": "#2a3f5f"
                        }
                      }
                    ],
                    "choropleth": [
                      {
                        "colorbar": {
                          "outlinewidth": 0,
                          "ticks": ""
                        },
                        "type": "choropleth"
                      }
                    ],
                    "parcoords": [
                      {
                        "line": {
                          "colorbar": {
                            "outlinewidth": 0,
                            "ticks": ""
                          }
                        },
                        "type": "parcoords"
                      }
                    ],
                    "barpolar": [
                      {
                        "marker": {
                          "line": {
                            "color": "#E5ECF6",
                            "width": 0.5
                          }
                        },
                        "type": "barpolar"
                      }
                    ],
                    "histogram2dcontour": [
                      {
                        "colorbar": {
                          "outlinewidth": 0,
                          "ticks": ""
                        },
                        "type": "histogram2dcontour",
                        "colorscale": [
                          [
                            0,
                            "#0d0887"
                          ],
                          [
                            0.1111111111111111,
                            "#46039f"
                          ],
                          [
                            0.2222222222222222,
                            "#7201a8"
                          ],
                          [
                            0.3333333333333333,
                            "#9c179e"
                          ],
                          [
                            0.4444444444444444,
                            "#bd3786"
                          ],
                          [
                            0.5555555555555556,
                            "#d8576b"
                          ],
                          [
                            0.6666666666666666,
                            "#ed7953"
                          ],
                          [
                            0.7777777777777778,
                            "#fb9f3a"
                          ],
                          [
                            0.8888888888888888,
                            "#fdca26"
                          ],
                          [
                            1,
                            "#f0f921"
                          ]
                        ]
                      }
                    ],
                    "scatter": [
                      {
                        "marker": {
                          "colorbar": {
                            "outlinewidth": 0,
                            "ticks": ""
                          }
                        },
                        "type": "scatter"
                      }
                    ]
                  }
                },
                "title": {
                  "text": "Average land temperature in world"
                }
              }
            }
          },
          "metadata": {
            "tags": []
          }
        },
        {
          "output_type": "display_data",
          "data": {
            "text/html": [
              "<html>\n",
              "<head><meta charset=\"utf-8\" /></head>\n",
              "<body>\n",
              "    <div>\n",
              "            <script src=\"https://cdnjs.cloudflare.com/ajax/libs/mathjax/2.7.5/MathJax.js?config=TeX-AMS-MML_SVG\"></script><script type=\"text/javascript\">if (window.MathJax) {MathJax.Hub.Config({SVG: {font: \"STIX-Web\"}});}</script>\n",
              "                <script type=\"text/javascript\">window.PlotlyConfig = {MathJaxConfig: 'local'};</script>\n",
              "        <script src=\"https://cdn.plot.ly/plotly-latest.min.js\"></script>    \n",
              "            <div id=\"fbe0caa7-df7c-48b4-916a-8a0636a67222\" class=\"plotly-graph-div\" style=\"height:525px; width:100%;\"></div>\n",
              "            <script type=\"text/javascript\">\n",
              "                \n",
              "                    window.PLOTLYENV=window.PLOTLYENV || {};\n",
              "                    \n",
              "                if (document.getElementById(\"fbe0caa7-df7c-48b4-916a-8a0636a67222\")) {\n",
              "                    Plotly.newPlot(\n",
              "                        'fbe0caa7-df7c-48b4-916a-8a0636a67222',\n",
              "                        [{\"line\": {\"color\": \"rgb(0, 255, 255)\"}, \"mode\": \"lines\", \"name\": \"Uncertainty top\", \"type\": \"scatter\", \"x\": [\"1750\", \"1751\", \"1752\", \"1753\", \"1754\", \"1755\", \"1756\", \"1757\", \"1758\", \"1759\", \"1760\", \"1761\", \"1762\", \"1763\", \"1764\", \"1765\", \"1766\", \"1767\", \"1768\", \"1769\", \"1770\", \"1771\", \"1772\", \"1773\", \"1774\", \"1775\", \"1776\", \"1777\", \"1778\", \"1779\", \"1780\", \"1781\", \"1782\", \"1783\", \"1784\", \"1785\", \"1786\", \"1787\", \"1788\", \"1789\", \"1790\", \"1791\", \"1792\", \"1793\", \"1794\", \"1795\", \"1796\", \"1797\", \"1798\", \"1799\", \"1800\", \"1801\", \"1802\", \"1803\", \"1804\", \"1805\", \"1806\", \"1807\", \"1808\", \"1809\", \"1810\", \"1811\", \"1812\", \"1813\", \"1814\", \"1815\", \"1816\", \"1817\", \"1818\", \"1819\", \"1820\", \"1821\", \"1822\", \"1823\", \"1824\", \"1825\", \"1826\", \"1827\", \"1828\", \"1829\", \"1830\", \"1831\", \"1832\", \"1833\", \"1834\", \"1835\", \"1836\", \"1837\", \"1838\", \"1839\", \"1840\", \"1841\", \"1842\", \"1843\", \"1844\", \"1845\", \"1846\", \"1847\", \"1848\", \"1849\", \"1850\", \"1851\", \"1852\", \"1853\", \"1854\", \"1855\", \"1856\", \"1857\", \"1858\", \"1859\", \"1860\", \"1861\", \"1862\", \"1863\", \"1864\", \"1865\", \"1866\", \"1867\", \"1868\", \"1869\", \"1870\", \"1871\", \"1872\", \"1873\", \"1874\", \"1875\", \"1876\", \"1877\", \"1878\", \"1879\", \"1880\", \"1881\", \"1882\", \"1883\", \"1884\", \"1885\", \"1886\", \"1887\", \"1888\", \"1889\", \"1890\", \"1891\", \"1892\", \"1893\", \"1894\", \"1895\", \"1896\", \"1897\", \"1898\", \"1899\", \"1900\", \"1901\", \"1902\", \"1903\", \"1904\", \"1905\", \"1906\", \"1907\", \"1908\", \"1909\", \"1910\", \"1911\", \"1912\", \"1913\", \"1914\", \"1915\", \"1916\", \"1917\", \"1918\", \"1919\", \"1920\", \"1921\", \"1922\", \"1923\", \"1924\", \"1925\", \"1926\", \"1927\", \"1928\", \"1929\", \"1930\", \"1931\", \"1932\", \"1933\", \"1934\", \"1935\", \"1936\", \"1937\", \"1938\", \"1939\", \"1940\", \"1941\", \"1942\", \"1943\", \"1944\", \"1945\", \"1946\", \"1947\", \"1948\", \"1949\", \"1950\", \"1951\", \"1952\", \"1953\", \"1954\", \"1955\", \"1956\", \"1957\", \"1958\", \"1959\", \"1960\", \"1961\", \"1962\", \"1963\", \"1964\", \"1965\", \"1966\", \"1967\", \"1968\", \"1969\", \"1970\", \"1971\", \"1972\", \"1973\", \"1974\", \"1975\", \"1976\", \"1977\", \"1978\", \"1979\", \"1980\", \"1981\", \"1982\", \"1983\", \"1984\", \"1985\", \"1986\", \"1987\", \"1988\", \"1989\", \"1990\", \"1991\", \"1992\", \"1993\", \"1994\", \"1995\", \"1996\", \"1997\", \"1998\", \"1999\", \"2000\", \"2001\", \"2002\", \"2003\", \"2004\", \"2005\", \"2006\", \"2007\", \"2008\", \"2009\", \"2010\", \"2011\", \"2012\", \"2013\", \"2014\", \"2015\"], \"y\": [11.357181818181818, 10.757285714285715, 8.756833333333333, 11.564083333333333, 11.963583333333336, 12.205916666666667, 12.111916666666668, 13.048000000000002, 10.1065, 11.664, 10.274083333333333, 11.917333333333332, 12.13075, 10.648333333333332, 11.175583333333332, 10.679666666666666, 11.2415, 11.184166666666666, 9.047333333333334, 10.104666666666667, 10.472583333333333, 10.45775, 10.657333333333334, 10.58225, 12.187333333333331, 11.503666666666668, 11.168166666666668, 10.699083333333334, 11.41475, 11.489083333333333, 12.017750000000001, 10.606416666666664, 10.451833333333331, 10.17525, 10.117666666666668, 9.6025, 10.783583333333333, 10.393583333333334, 11.004999999999999, 10.202833333333333, 9.754, 10.018, 9.789416666666668, 10.503583333333331, 10.505, 10.393666666666666, 10.191666666666666, 10.556250000000002, 10.573583333333332, 10.244166666666665, 10.202916666666669, 10.171333333333335, 10.427166666666666, 10.136166666666666, 10.686666666666667, 10.251666666666665, 10.004166666666665, 9.873666666666665, 9.623666666666665, 9.211833333333333, 9.233666666666664, 8.955250000000001, 9.181833333333334, 9.448750000000002, 9.760250000000001, 9.205833333333334, 9.130416666666667, 8.684000000000001, 9.658000000000001, 8.951083333333333, 9.235, 9.465916666666665, 9.563583333333334, 9.080916666666667, 9.995000000000001, 9.897166666666667, 9.916166666666669, 10.25233333333333, 9.81375, 9.261583333333332, 9.948166666666667, 9.170666666666667, 8.990583333333333, 9.2465, 9.299000000000001, 8.667833333333332, 8.86525, 8.666583333333332, 8.677249999999999, 8.811666666666666, 8.787416666666667, 8.640166666666666, 8.92025, 8.923499999999999, 8.572333333333333, 8.732666666666667, 9.6045, 8.986666666666666, 8.850833333333334, 8.898, 8.777083333333334, 9.0605, 9.018416666666665, 8.876833333333334, 9.036166666666666, 8.997916666666665, 8.756666666666666, 8.509250000000002, 8.8, 8.926666666666668, 8.586833333333333, 8.499916666666667, 8.2475, 8.859833333333333, 8.660000000000002, 8.84, 8.898166666666665, 9.071166666666667, 8.79425, 9.02775, 8.7515, 8.685333333333332, 8.782916666666665, 8.901583333333333, 8.951416666666667, 8.311083333333334, 8.513583333333333, 8.9955, 9.254666666666665, 8.62925, 8.533666666666665, 8.69025, 8.508833333333333, 8.347583333333333, 8.169916666666667, 8.344666666666669, 8.340499999999999, 8.307, 8.472916666666666, 8.688833333333333, 8.314666666666668, 8.354666666666667, 8.404666666666666, 8.402, 8.47825, 8.446250000000001, 8.52375, 8.607166666666668, 8.503666666666666, 8.721083333333333, 8.816333333333333, 8.848166666666666, 8.597166666666666, 8.510166666666667, 8.377333333333333, 8.503916666666665, 8.653999999999998, 8.204333333333334, 8.460833333333333, 8.441, 8.483083333333335, 8.424833333333336, 8.423833333333334, 8.559999999999999, 8.842416666666667, 8.839333333333332, 8.485666666666667, 8.283999999999999, 8.399083333333332, 8.649000000000001, 8.621416666666667, 8.827833333333333, 8.666583333333334, 8.675249999999998, 8.763666666666667, 8.775166666666667, 8.971499999999999, 8.770999999999999, 8.88075, 8.494166666666665, 8.873249999999999, 8.957, 8.954166666666667, 8.580916666666667, 8.868416666666668, 8.751666666666667, 8.797083333333333, 8.938416666666665, 9.104166666666666, 8.997666666666667, 8.995750000000001, 8.996500000000001, 8.957916666666666, 8.981666666666667, 9.070166666666667, 8.805166666666665, 8.899333333333335, 9.014166666666666, 8.956333333333333, 8.794999999999998, 8.551583333333335, 8.809833333333332, 8.847000000000001, 9.085833333333335, 8.747833333333332, 8.779833333333334, 8.400416666666667, 8.8905, 8.878083333333333, 8.839833333333331, 8.67725, 8.894666666666666, 8.878833333333333, 8.948333333333332, 8.502166666666666, 8.63625, 8.691583333333332, 8.78375, 8.628, 8.68025, 8.776499999999999, 8.697166666666666, 8.594916666666666, 9.048999999999998, 8.572, 8.841916666666668, 8.447833333333332, 8.934916666666666, 8.796583333333333, 8.819833333333332, 9.087, 9.253083333333333, 8.721833333333333, 9.122166666666665, 8.794416666666669, 8.751249999999999, 8.918583333333332, 9.079583333333334, 9.281666666666666, 9.009999999999998, 9.320500000000001, 9.2415, 8.919916666666666, 8.947916666666666, 9.109666666666666, 9.423499999999999, 9.123666666666667, 9.291166666666667, 9.596583333333333, 9.364333333333333, 9.284666666666668, 9.502, 9.642833333333334, 9.61625, 9.408, 9.776083333333332, 9.622499999999999, 9.821666666666664, 9.510666666666667, 9.591166666666668, 9.786499999999998, 9.598, 9.59075, 9.704166666666666, 9.660833333333333, 9.923166666666665]}, {\"fill\": \"tonexty\", \"line\": {\"color\": \"rgb(0, 255, 255)\"}, \"mode\": \"lines\", \"name\": \"Uncertainty bot\", \"type\": \"scatter\", \"x\": [\"1750\", \"1751\", \"1752\", \"1753\", \"1754\", \"1755\", \"1756\", \"1757\", \"1758\", \"1759\", \"1760\", \"1761\", \"1762\", \"1763\", \"1764\", \"1765\", \"1766\", \"1767\", \"1768\", \"1769\", \"1770\", \"1771\", \"1772\", \"1773\", \"1774\", \"1775\", \"1776\", \"1777\", \"1778\", \"1779\", \"1780\", \"1781\", \"1782\", \"1783\", \"1784\", \"1785\", \"1786\", \"1787\", \"1788\", \"1789\", \"1790\", \"1791\", \"1792\", \"1793\", \"1794\", \"1795\", \"1796\", \"1797\", \"1798\", \"1799\", \"1800\", \"1801\", \"1802\", \"1803\", \"1804\", \"1805\", \"1806\", \"1807\", \"1808\", \"1809\", \"1810\", \"1811\", \"1812\", \"1813\", \"1814\", \"1815\", \"1816\", \"1817\", \"1818\", \"1819\", \"1820\", \"1821\", \"1822\", \"1823\", \"1824\", \"1825\", \"1826\", \"1827\", \"1828\", \"1829\", \"1830\", \"1831\", \"1832\", \"1833\", \"1834\", \"1835\", \"1836\", \"1837\", \"1838\", \"1839\", \"1840\", \"1841\", \"1842\", \"1843\", \"1844\", \"1845\", \"1846\", \"1847\", \"1848\", \"1849\", \"1850\", \"1851\", \"1852\", \"1853\", \"1854\", \"1855\", \"1856\", \"1857\", \"1858\", \"1859\", \"1860\", \"1861\", \"1862\", \"1863\", \"1864\", \"1865\", \"1866\", \"1867\", \"1868\", \"1869\", \"1870\", \"1871\", \"1872\", \"1873\", \"1874\", \"1875\", \"1876\", \"1877\", \"1878\", \"1879\", \"1880\", \"1881\", \"1882\", \"1883\", \"1884\", \"1885\", \"1886\", \"1887\", \"1888\", \"1889\", \"1890\", \"1891\", \"1892\", \"1893\", \"1894\", \"1895\", \"1896\", \"1897\", \"1898\", \"1899\", \"1900\", \"1901\", \"1902\", \"1903\", \"1904\", \"1905\", \"1906\", \"1907\", \"1908\", \"1909\", \"1910\", \"1911\", \"1912\", \"1913\", \"1914\", \"1915\", \"1916\", \"1917\", \"1918\", \"1919\", \"1920\", \"1921\", \"1922\", \"1923\", \"1924\", \"1925\", \"1926\", \"1927\", \"1928\", \"1929\", \"1930\", \"1931\", \"1932\", \"1933\", \"1934\", \"1935\", \"1936\", \"1937\", \"1938\", \"1939\", \"1940\", \"1941\", \"1942\", \"1943\", \"1944\", \"1945\", \"1946\", \"1947\", \"1948\", \"1949\", \"1950\", \"1951\", \"1952\", \"1953\", \"1954\", \"1955\", \"1956\", \"1957\", \"1958\", \"1959\", \"1960\", \"1961\", \"1962\", \"1963\", \"1964\", \"1965\", \"1966\", \"1967\", \"1968\", \"1969\", \"1970\", \"1971\", \"1972\", \"1973\", \"1974\", \"1975\", \"1976\", \"1977\", \"1978\", \"1979\", \"1980\", \"1981\", \"1982\", \"1983\", \"1984\", \"1985\", \"1986\", \"1987\", \"1988\", \"1989\", \"1990\", \"1991\", \"1992\", \"1993\", \"1994\", \"1995\", \"1996\", \"1997\", \"1998\", \"1999\", \"2000\", \"2001\", \"2002\", \"2003\", \"2004\", \"2005\", \"2006\", \"2007\", \"2008\", \"2009\", \"2010\", \"2011\", \"2012\", \"2013\", \"2014\", \"2015\"], \"y\": [6.081545454545456, 5.194999999999999, 2.8028333333333326, 5.212083333333332, 4.975083333333334, 4.50525, 5.587249999999999, 4.9959999999999996, 3.3806666666666656, 4.306166666666666, 4.096250000000001, 5.627666666666666, 5.08225, 4.345166666666666, 5.6250833333333325, 5.824166666666666, 5.569833333333333, 5.258833333333332, 4.515333333333333, 5.284500000000001, 4.91125, 5.248583333333334, 5.729666666666667, 5.860750000000001, 5.356999999999999, 6.862500000000001, 5.439833333333333, 5.813416666666669, 5.669749999999999, 6.477416666666667, 6.848083333333333, 5.598749999999998, 5.350666666666665, 5.186416666666666, 5.606333333333334, 5.1235, 5.732749999999999, 5.6700833333333325, 5.889333333333333, 6.4655, 6.210666666666667, 6.450499999999999, 6.388583333333334, 5.95475, 6.5470000000000015, 6.307, 6.3503333333333325, 6.464916666666667, 6.766916666666666, 6.767333333333332, 6.765583333333335, 7.008000000000001, 6.729166666666666, 6.869833333333333, 7.003, 6.873833333333333, 6.863999999999998, 6.689166666666665, 5.63, 4.941000000000001, 4.611666666666666, 4.76375, 4.910666666666668, 6.031083333333335, 5.4232499999999995, 5.272833333333334, 4.744583333333333, 5.267333333333335, 5.999833333333334, 5.787250000000001, 5.997499999999998, 6.714249999999999, 6.813083333333334, 6.356416666666667, 7.099333333333334, 6.8815, 6.7970000000000015, 7.365166666666664, 6.516916666666668, 6.622083333333332, 7.085333333333334, 6.107666666666667, 5.909750000000001, 6.7795, 6.994500000000001, 6.117166666666666, 6.526416666666667, 6.084749999999998, 6.352583333333332, 6.4528333333333325, 6.805083333333334, 6.736166666666667, 7.12525, 7.423833333333333, 6.7203333333333335, 6.969666666666668, 7.5009999999999994, 7.185333333333333, 7.108166666666667, 7.070833333333334, 7.024249999999999, 7.296666666666665, 7.181916666666664, 7.206833333333333, 7.384833333333333, 7.223583333333331, 7.235166666666666, 7.007083333333334, 7.400500000000001, 7.577333333333334, 7.334833333333333, 7.193083333333335, 6.869666666666667, 7.363833333333333, 7.307166666666668, 7.515666666666667, 7.686166666666665, 7.801500000000001, 7.701583333333334, 7.836416666666667, 7.651166666666666, 7.544833333333333, 7.604749999999998, 7.800583333333334, 7.915583333333334, 7.408083333333334, 7.646583333333333, 8.083666666666666, 8.404833333333332, 7.702416666666667, 7.703833333333332, 7.851583333333333, 7.7490000000000006, 7.606249999999998, 7.377416666666667, 7.494666666666668, 7.5684999999999985, 7.522833333333333, 7.708083333333334, 7.949166666666666, 7.628666666666667, 7.684, 7.7269999999999985, 7.711499999999999, 7.84375, 7.8477500000000004, 7.906083333333332, 7.979500000000002, 7.852333333333332, 8.071583333333333, 8.186833333333333, 8.235666666666665, 8.011666666666667, 7.9301666666666675, 7.8045, 7.946416666666665, 8.104166666666666, 7.69, 7.911333333333334, 7.915500000000001, 7.9629166666666675, 7.929166666666668, 7.907000000000001, 8.035499999999999, 8.338583333333334, 8.346999999999998, 7.964833333333334, 7.762666666666665, 7.8625833333333315, 8.1155, 8.096083333333334, 8.314166666666667, 8.149416666666665, 8.169083333333333, 8.250000000000002, 8.293666666666667, 8.486166666666666, 8.273166666666667, 8.383583333333336, 7.990666666666665, 8.393916666666666, 8.4815, 8.456333333333335, 8.095583333333334, 8.388250000000003, 8.279833333333334, 8.310916666666667, 8.45825, 8.623166666666664, 8.523, 8.533583333333333, 8.540833333333335, 8.498916666666666, 8.5285, 8.619833333333334, 8.3645, 8.454500000000003, 8.58, 8.537166666666668, 8.378499999999999, 8.178916666666668, 8.4415, 8.4295, 8.661666666666667, 8.3735, 8.472666666666667, 8.15875, 8.5745, 8.669416666666667, 8.625499999999999, 8.49025, 8.700666666666667, 8.613, 8.763666666666667, 8.317166666666667, 8.418583333333334, 8.507083333333332, 8.616416666666668, 8.404666666666667, 8.509916666666667, 8.625333333333334, 8.501333333333333, 8.404250000000001, 8.847499999999998, 8.363, 8.64775, 8.246666666666666, 8.765583333333332, 8.588916666666664, 8.646999999999998, 8.873666666666665, 9.078583333333334, 8.5565, 8.934166666666666, 8.589250000000002, 8.56475, 8.74858333333333, 8.909250000000002, 9.121500000000001, 8.834, 9.147833333333333, 9.117333333333333, 8.753249999999998, 8.78525, 8.967833333333331, 9.270666666666665, 8.954166666666667, 9.113999999999999, 9.448749999999999, 9.205833333333333, 9.117666666666667, 9.327166666666669, 9.498, 9.434916666666666, 9.241166666666667, 9.62575, 9.442499999999999, 9.642666666666665, 9.352833333333335, 9.419333333333336, 9.619666666666665, 9.434, 9.423916666666667, 9.508833333333332, 9.4805, 9.73883333333333]}, {\"line\": {\"color\": \"rgb(199, 121, 093)\"}, \"name\": \"Average Temperature\", \"type\": \"scatter\", \"x\": [\"1750\", \"1751\", \"1752\", \"1753\", \"1754\", \"1755\", \"1756\", \"1757\", \"1758\", \"1759\", \"1760\", \"1761\", \"1762\", \"1763\", \"1764\", \"1765\", \"1766\", \"1767\", \"1768\", \"1769\", \"1770\", \"1771\", \"1772\", \"1773\", \"1774\", \"1775\", \"1776\", \"1777\", \"1778\", \"1779\", \"1780\", \"1781\", \"1782\", \"1783\", \"1784\", \"1785\", \"1786\", \"1787\", \"1788\", \"1789\", \"1790\", \"1791\", \"1792\", \"1793\", \"1794\", \"1795\", \"1796\", \"1797\", \"1798\", \"1799\", \"1800\", \"1801\", \"1802\", \"1803\", \"1804\", \"1805\", \"1806\", \"1807\", \"1808\", \"1809\", \"1810\", \"1811\", \"1812\", \"1813\", \"1814\", \"1815\", \"1816\", \"1817\", \"1818\", \"1819\", \"1820\", \"1821\", \"1822\", \"1823\", \"1824\", \"1825\", \"1826\", \"1827\", \"1828\", \"1829\", \"1830\", \"1831\", \"1832\", \"1833\", \"1834\", \"1835\", \"1836\", \"1837\", \"1838\", \"1839\", \"1840\", \"1841\", \"1842\", \"1843\", \"1844\", \"1845\", \"1846\", \"1847\", \"1848\", \"1849\", \"1850\", \"1851\", \"1852\", \"1853\", \"1854\", \"1855\", \"1856\", \"1857\", \"1858\", \"1859\", \"1860\", \"1861\", \"1862\", \"1863\", \"1864\", \"1865\", \"1866\", \"1867\", \"1868\", \"1869\", \"1870\", \"1871\", \"1872\", \"1873\", \"1874\", \"1875\", \"1876\", \"1877\", \"1878\", \"1879\", \"1880\", \"1881\", \"1882\", \"1883\", \"1884\", \"1885\", \"1886\", \"1887\", \"1888\", \"1889\", \"1890\", \"1891\", \"1892\", \"1893\", \"1894\", \"1895\", \"1896\", \"1897\", \"1898\", \"1899\", \"1900\", \"1901\", \"1902\", \"1903\", \"1904\", \"1905\", \"1906\", \"1907\", \"1908\", \"1909\", \"1910\", \"1911\", \"1912\", \"1913\", \"1914\", \"1915\", \"1916\", \"1917\", \"1918\", \"1919\", \"1920\", \"1921\", \"1922\", \"1923\", \"1924\", \"1925\", \"1926\", \"1927\", \"1928\", \"1929\", \"1930\", \"1931\", \"1932\", \"1933\", \"1934\", \"1935\", \"1936\", \"1937\", \"1938\", \"1939\", \"1940\", \"1941\", \"1942\", \"1943\", \"1944\", \"1945\", \"1946\", \"1947\", \"1948\", \"1949\", \"1950\", \"1951\", \"1952\", \"1953\", \"1954\", \"1955\", \"1956\", \"1957\", \"1958\", \"1959\", \"1960\", \"1961\", \"1962\", \"1963\", \"1964\", \"1965\", \"1966\", \"1967\", \"1968\", \"1969\", \"1970\", \"1971\", \"1972\", \"1973\", \"1974\", \"1975\", \"1976\", \"1977\", \"1978\", \"1979\", \"1980\", \"1981\", \"1982\", \"1983\", \"1984\", \"1985\", \"1986\", \"1987\", \"1988\", \"1989\", \"1990\", \"1991\", \"1992\", \"1993\", \"1994\", \"1995\", \"1996\", \"1997\", \"1998\", \"1999\", \"2000\", \"2001\", \"2002\", \"2003\", \"2004\", \"2005\", \"2006\", \"2007\", \"2008\", \"2009\", \"2010\", \"2011\", \"2012\", \"2013\", \"2014\", \"2015\"], \"y\": [8.719363636363637, 7.9761428571428565, 5.7798333333333325, 8.388083333333332, 8.469333333333335, 8.355583333333334, 8.849583333333333, 9.022, 6.743583333333333, 7.985083333333333, 7.185166666666667, 8.772499999999999, 8.6065, 7.496749999999999, 8.400333333333332, 8.251916666666666, 8.405666666666667, 8.221499999999999, 6.781333333333333, 7.694583333333334, 7.691916666666667, 7.8531666666666675, 8.1935, 8.2215, 8.772166666666665, 9.183083333333334, 8.304, 8.256250000000001, 8.54225, 8.98325, 9.432916666666667, 8.102583333333332, 7.901249999999998, 7.680833333333333, 7.862000000000001, 7.3629999999999995, 8.258166666666666, 8.031833333333333, 8.447166666666666, 8.334166666666667, 7.982333333333333, 8.23425, 8.089, 8.229166666666666, 8.526000000000002, 8.350333333333333, 8.270999999999999, 8.510583333333335, 8.67025, 8.505749999999999, 8.484250000000001, 8.589666666666668, 8.578166666666666, 8.503, 8.844833333333334, 8.56275, 8.434083333333332, 8.281416666666665, 7.626833333333333, 7.076416666666667, 6.922666666666665, 6.859500000000001, 7.046250000000001, 7.7399166666666686, 7.59175, 7.239333333333334, 6.9375, 6.975666666666668, 7.828916666666667, 7.3691666666666675, 7.616249999999998, 8.090083333333332, 8.188333333333334, 7.7186666666666675, 8.547166666666667, 8.389333333333333, 8.356583333333335, 8.808749999999998, 8.165333333333335, 7.941833333333332, 8.51675, 7.639166666666667, 7.450166666666667, 8.013, 8.14675, 7.392499999999999, 7.695833333333334, 7.375666666666665, 7.514916666666665, 7.632249999999999, 7.796250000000001, 7.688166666666667, 8.02275, 8.173666666666666, 7.646333333333334, 7.851166666666668, 8.55275, 8.086, 7.979500000000001, 7.984416666666667, 7.900666666666666, 8.178583333333332, 8.100166666666665, 8.041833333333333, 8.2105, 8.110749999999998, 7.995916666666666, 7.758166666666668, 8.10025, 8.252, 7.960833333333333, 7.846500000000002, 7.558583333333334, 8.111833333333333, 7.983583333333335, 8.177833333333334, 8.292166666666665, 8.436333333333334, 8.247916666666667, 8.432083333333333, 8.201333333333332, 8.115083333333333, 8.193833333333332, 8.351083333333333, 8.4335, 7.859583333333334, 8.080083333333333, 8.539583333333333, 8.829749999999999, 8.165833333333333, 8.118749999999999, 8.270916666666666, 8.128916666666667, 7.976916666666665, 7.773666666666667, 7.919666666666668, 7.954499999999999, 7.914916666666667, 8.0905, 8.318999999999999, 7.971666666666667, 8.019333333333334, 8.065833333333332, 8.05675, 8.161, 8.147, 8.214916666666666, 8.293333333333335, 8.177999999999999, 8.396333333333333, 8.501583333333333, 8.541916666666665, 8.304416666666667, 8.220166666666668, 8.090916666666667, 8.225166666666665, 8.379083333333332, 7.947166666666667, 8.186083333333334, 8.17825, 8.223, 8.177000000000001, 8.165416666666667, 8.297749999999999, 8.5905, 8.593166666666665, 8.22525, 8.023333333333332, 8.130833333333332, 8.38225, 8.35875, 8.571, 8.408, 8.422166666666666, 8.506833333333335, 8.534416666666667, 8.728833333333332, 8.522083333333333, 8.632166666666668, 8.242416666666665, 8.633583333333332, 8.71925, 8.705250000000001, 8.33825, 8.628333333333336, 8.51575, 8.554, 8.698333333333332, 8.863666666666665, 8.760333333333334, 8.764666666666667, 8.768666666666668, 8.728416666666666, 8.755083333333333, 8.845, 8.584833333333332, 8.676916666666669, 8.797083333333333, 8.74675, 8.586749999999999, 8.365250000000001, 8.625666666666666, 8.638250000000001, 8.873750000000001, 8.560666666666666, 8.62625, 8.279583333333333, 8.7325, 8.77375, 8.732666666666665, 8.58375, 8.797666666666666, 8.745916666666666, 8.856, 8.409666666666666, 8.527416666666667, 8.599333333333332, 8.700083333333334, 8.516333333333334, 8.595083333333333, 8.700916666666666, 8.59925, 8.499583333333334, 8.948249999999998, 8.4675, 8.744833333333334, 8.347249999999999, 8.850249999999999, 8.692749999999998, 8.733416666666665, 8.980333333333332, 9.165833333333333, 8.639166666666666, 9.028166666666666, 8.691833333333335, 8.658, 8.833583333333332, 8.994416666666668, 9.201583333333334, 8.921999999999999, 9.234166666666667, 9.179416666666667, 8.836583333333332, 8.866583333333333, 9.038749999999999, 9.347083333333332, 9.038916666666667, 9.202583333333333, 9.522666666666666, 9.285083333333333, 9.201166666666667, 9.414583333333335, 9.570416666666667, 9.525583333333334, 9.324583333333333, 9.700916666666666, 9.532499999999999, 9.732166666666664, 9.431750000000001, 9.505250000000002, 9.703083333333332, 9.516, 9.507333333333333, 9.606499999999999, 9.570666666666666, 9.830999999999998]}],\n",
              "                        {\"showlegend\": false, \"template\": {\"data\": {\"bar\": [{\"error_x\": {\"color\": \"#2a3f5f\"}, \"error_y\": {\"color\": \"#2a3f5f\"}, \"marker\": {\"line\": {\"color\": \"#E5ECF6\", \"width\": 0.5}}, \"type\": \"bar\"}], \"barpolar\": [{\"marker\": {\"line\": {\"color\": \"#E5ECF6\", \"width\": 0.5}}, \"type\": \"barpolar\"}], \"carpet\": [{\"aaxis\": {\"endlinecolor\": \"#2a3f5f\", \"gridcolor\": \"white\", \"linecolor\": \"white\", \"minorgridcolor\": \"white\", \"startlinecolor\": \"#2a3f5f\"}, \"baxis\": {\"endlinecolor\": \"#2a3f5f\", \"gridcolor\": \"white\", \"linecolor\": \"white\", \"minorgridcolor\": \"white\", \"startlinecolor\": \"#2a3f5f\"}, \"type\": \"carpet\"}], \"choropleth\": [{\"colorbar\": {\"outlinewidth\": 0, \"ticks\": \"\"}, \"type\": \"choropleth\"}], \"contour\": [{\"colorbar\": {\"outlinewidth\": 0, \"ticks\": \"\"}, \"colorscale\": [[0.0, \"#0d0887\"], [0.1111111111111111, \"#46039f\"], [0.2222222222222222, \"#7201a8\"], [0.3333333333333333, \"#9c179e\"], [0.4444444444444444, \"#bd3786\"], [0.5555555555555556, \"#d8576b\"], [0.6666666666666666, \"#ed7953\"], [0.7777777777777778, \"#fb9f3a\"], [0.8888888888888888, \"#fdca26\"], [1.0, \"#f0f921\"]], \"type\": \"contour\"}], \"contourcarpet\": [{\"colorbar\": {\"outlinewidth\": 0, \"ticks\": \"\"}, \"type\": \"contourcarpet\"}], \"heatmap\": [{\"colorbar\": {\"outlinewidth\": 0, \"ticks\": \"\"}, \"colorscale\": [[0.0, \"#0d0887\"], [0.1111111111111111, \"#46039f\"], [0.2222222222222222, \"#7201a8\"], [0.3333333333333333, \"#9c179e\"], [0.4444444444444444, \"#bd3786\"], [0.5555555555555556, \"#d8576b\"], [0.6666666666666666, \"#ed7953\"], [0.7777777777777778, \"#fb9f3a\"], [0.8888888888888888, \"#fdca26\"], [1.0, \"#f0f921\"]], \"type\": \"heatmap\"}], \"heatmapgl\": [{\"colorbar\": {\"outlinewidth\": 0, \"ticks\": \"\"}, \"colorscale\": [[0.0, \"#0d0887\"], [0.1111111111111111, \"#46039f\"], [0.2222222222222222, \"#7201a8\"], [0.3333333333333333, \"#9c179e\"], [0.4444444444444444, \"#bd3786\"], [0.5555555555555556, \"#d8576b\"], [0.6666666666666666, \"#ed7953\"], [0.7777777777777778, \"#fb9f3a\"], [0.8888888888888888, \"#fdca26\"], [1.0, \"#f0f921\"]], \"type\": \"heatmapgl\"}], \"histogram\": [{\"marker\": {\"colorbar\": {\"outlinewidth\": 0, \"ticks\": \"\"}}, \"type\": \"histogram\"}], \"histogram2d\": [{\"colorbar\": {\"outlinewidth\": 0, \"ticks\": \"\"}, \"colorscale\": [[0.0, \"#0d0887\"], [0.1111111111111111, \"#46039f\"], [0.2222222222222222, \"#7201a8\"], [0.3333333333333333, \"#9c179e\"], [0.4444444444444444, \"#bd3786\"], [0.5555555555555556, \"#d8576b\"], [0.6666666666666666, \"#ed7953\"], [0.7777777777777778, \"#fb9f3a\"], [0.8888888888888888, \"#fdca26\"], [1.0, \"#f0f921\"]], \"type\": \"histogram2d\"}], \"histogram2dcontour\": [{\"colorbar\": {\"outlinewidth\": 0, \"ticks\": \"\"}, \"colorscale\": [[0.0, \"#0d0887\"], [0.1111111111111111, \"#46039f\"], [0.2222222222222222, \"#7201a8\"], [0.3333333333333333, \"#9c179e\"], [0.4444444444444444, \"#bd3786\"], [0.5555555555555556, \"#d8576b\"], [0.6666666666666666, \"#ed7953\"], [0.7777777777777778, \"#fb9f3a\"], [0.8888888888888888, \"#fdca26\"], [1.0, \"#f0f921\"]], \"type\": \"histogram2dcontour\"}], \"mesh3d\": [{\"colorbar\": {\"outlinewidth\": 0, \"ticks\": \"\"}, \"type\": \"mesh3d\"}], \"parcoords\": [{\"line\": {\"colorbar\": {\"outlinewidth\": 0, \"ticks\": \"\"}}, \"type\": \"parcoords\"}], \"pie\": [{\"automargin\": true, \"type\": \"pie\"}], \"scatter\": [{\"marker\": {\"colorbar\": {\"outlinewidth\": 0, \"ticks\": \"\"}}, \"type\": \"scatter\"}], \"scatter3d\": [{\"line\": {\"colorbar\": {\"outlinewidth\": 0, \"ticks\": \"\"}}, \"marker\": {\"colorbar\": {\"outlinewidth\": 0, \"ticks\": \"\"}}, \"type\": \"scatter3d\"}], \"scattercarpet\": [{\"marker\": {\"colorbar\": {\"outlinewidth\": 0, \"ticks\": \"\"}}, \"type\": \"scattercarpet\"}], \"scattergeo\": [{\"marker\": {\"colorbar\": {\"outlinewidth\": 0, \"ticks\": \"\"}}, \"type\": \"scattergeo\"}], \"scattergl\": [{\"marker\": {\"colorbar\": {\"outlinewidth\": 0, \"ticks\": \"\"}}, \"type\": \"scattergl\"}], \"scattermapbox\": [{\"marker\": {\"colorbar\": {\"outlinewidth\": 0, \"ticks\": \"\"}}, \"type\": \"scattermapbox\"}], \"scatterpolar\": [{\"marker\": {\"colorbar\": {\"outlinewidth\": 0, \"ticks\": \"\"}}, \"type\": \"scatterpolar\"}], \"scatterpolargl\": [{\"marker\": {\"colorbar\": {\"outlinewidth\": 0, \"ticks\": \"\"}}, \"type\": \"scatterpolargl\"}], \"scatterternary\": [{\"marker\": {\"colorbar\": {\"outlinewidth\": 0, \"ticks\": \"\"}}, \"type\": \"scatterternary\"}], \"surface\": [{\"colorbar\": {\"outlinewidth\": 0, \"ticks\": \"\"}, \"colorscale\": [[0.0, \"#0d0887\"], [0.1111111111111111, \"#46039f\"], [0.2222222222222222, \"#7201a8\"], [0.3333333333333333, \"#9c179e\"], [0.4444444444444444, \"#bd3786\"], [0.5555555555555556, \"#d8576b\"], [0.6666666666666666, \"#ed7953\"], [0.7777777777777778, \"#fb9f3a\"], [0.8888888888888888, \"#fdca26\"], [1.0, \"#f0f921\"]], \"type\": \"surface\"}], \"table\": [{\"cells\": {\"fill\": {\"color\": \"#EBF0F8\"}, \"line\": {\"color\": \"white\"}}, \"header\": {\"fill\": {\"color\": \"#C8D4E3\"}, \"line\": {\"color\": \"white\"}}, \"type\": \"table\"}]}, \"layout\": {\"annotationdefaults\": {\"arrowcolor\": \"#2a3f5f\", \"arrowhead\": 0, \"arrowwidth\": 1}, \"coloraxis\": {\"colorbar\": {\"outlinewidth\": 0, \"ticks\": \"\"}}, \"colorscale\": {\"diverging\": [[0, \"#8e0152\"], [0.1, \"#c51b7d\"], [0.2, \"#de77ae\"], [0.3, \"#f1b6da\"], [0.4, \"#fde0ef\"], [0.5, \"#f7f7f7\"], [0.6, \"#e6f5d0\"], [0.7, \"#b8e186\"], [0.8, \"#7fbc41\"], [0.9, \"#4d9221\"], [1, \"#276419\"]], \"sequential\": [[0.0, \"#0d0887\"], [0.1111111111111111, \"#46039f\"], [0.2222222222222222, \"#7201a8\"], [0.3333333333333333, \"#9c179e\"], [0.4444444444444444, \"#bd3786\"], [0.5555555555555556, \"#d8576b\"], [0.6666666666666666, \"#ed7953\"], [0.7777777777777778, \"#fb9f3a\"], [0.8888888888888888, \"#fdca26\"], [1.0, \"#f0f921\"]], \"sequentialminus\": [[0.0, \"#0d0887\"], [0.1111111111111111, \"#46039f\"], [0.2222222222222222, \"#7201a8\"], [0.3333333333333333, \"#9c179e\"], [0.4444444444444444, \"#bd3786\"], [0.5555555555555556, \"#d8576b\"], [0.6666666666666666, \"#ed7953\"], [0.7777777777777778, \"#fb9f3a\"], [0.8888888888888888, \"#fdca26\"], [1.0, \"#f0f921\"]]}, \"colorway\": [\"#636efa\", \"#EF553B\", \"#00cc96\", \"#ab63fa\", \"#FFA15A\", \"#19d3f3\", \"#FF6692\", \"#B6E880\", \"#FF97FF\", \"#FECB52\"], \"font\": {\"color\": \"#2a3f5f\"}, \"geo\": {\"bgcolor\": \"white\", \"lakecolor\": \"white\", \"landcolor\": \"#E5ECF6\", \"showlakes\": true, \"showland\": true, \"subunitcolor\": \"white\"}, \"hoverlabel\": {\"align\": \"left\"}, \"hovermode\": \"closest\", \"mapbox\": {\"style\": \"light\"}, \"paper_bgcolor\": \"white\", \"plot_bgcolor\": \"#E5ECF6\", \"polar\": {\"angularaxis\": {\"gridcolor\": \"white\", \"linecolor\": \"white\", \"ticks\": \"\"}, \"bgcolor\": \"#E5ECF6\", \"radialaxis\": {\"gridcolor\": \"white\", \"linecolor\": \"white\", \"ticks\": \"\"}}, \"scene\": {\"xaxis\": {\"backgroundcolor\": \"#E5ECF6\", \"gridcolor\": \"white\", \"gridwidth\": 2, \"linecolor\": \"white\", \"showbackground\": true, \"ticks\": \"\", \"zerolinecolor\": \"white\"}, \"yaxis\": {\"backgroundcolor\": \"#E5ECF6\", \"gridcolor\": \"white\", \"gridwidth\": 2, \"linecolor\": \"white\", \"showbackground\": true, \"ticks\": \"\", \"zerolinecolor\": \"white\"}, \"zaxis\": {\"backgroundcolor\": \"#E5ECF6\", \"gridcolor\": \"white\", \"gridwidth\": 2, \"linecolor\": \"white\", \"showbackground\": true, \"ticks\": \"\", \"zerolinecolor\": \"white\"}}, \"shapedefaults\": {\"line\": {\"color\": \"#2a3f5f\"}}, \"ternary\": {\"aaxis\": {\"gridcolor\": \"white\", \"linecolor\": \"white\", \"ticks\": \"\"}, \"baxis\": {\"gridcolor\": \"white\", \"linecolor\": \"white\", \"ticks\": \"\"}, \"bgcolor\": \"#E5ECF6\", \"caxis\": {\"gridcolor\": \"white\", \"linecolor\": \"white\", \"ticks\": \"\"}}, \"title\": {\"x\": 0.05}, \"xaxis\": {\"automargin\": true, \"gridcolor\": \"white\", \"linecolor\": \"white\", \"ticks\": \"\", \"title\": {\"standoff\": 15}, \"zerolinecolor\": \"white\", \"zerolinewidth\": 2}, \"yaxis\": {\"automargin\": true, \"gridcolor\": \"white\", \"linecolor\": \"white\", \"ticks\": \"\", \"title\": {\"standoff\": 15}, \"zerolinecolor\": \"white\", \"zerolinewidth\": 2}}}, \"title\": {\"text\": \"Average land temperature in world\"}, \"xaxis\": {\"title\": {\"text\": \"year\"}}, \"yaxis\": {\"title\": {\"text\": \"Average Temperature, \\u00b0C\"}}},\n",
              "                        {\"responsive\": true}\n",
              "                    ).then(function(){\n",
              "                            \n",
              "var gd = document.getElementById('fbe0caa7-df7c-48b4-916a-8a0636a67222');\n",
              "var x = new MutationObserver(function (mutations, observer) {{\n",
              "        var display = window.getComputedStyle(gd).display;\n",
              "        if (!display || display === 'none') {{\n",
              "            console.log([gd, 'removed!']);\n",
              "            Plotly.purge(gd);\n",
              "            observer.disconnect();\n",
              "        }}\n",
              "}});\n",
              "\n",
              "// Listen for the removal of the full notebook cells\n",
              "var notebookContainer = gd.closest('#notebook-container');\n",
              "if (notebookContainer) {{\n",
              "    x.observe(notebookContainer, {childList: true});\n",
              "}}\n",
              "\n",
              "// Listen for the clearing of the current output cell\n",
              "var outputEl = gd.closest('.output');\n",
              "if (outputEl) {{\n",
              "    x.observe(outputEl, {childList: true});\n",
              "}}\n",
              "\n",
              "                        })\n",
              "                };\n",
              "                \n",
              "            </script>\n",
              "        </div>\n",
              "</body>\n",
              "</html>"
            ]
          },
          "metadata": {
            "tags": []
          }
        }
      ]
    },
    {
      "cell_type": "markdown",
      "metadata": {
        "id": "URd7ugj2guK_"
      },
      "source": [
        "=> From this time series about the average temperature we can apply some statistical model such as ARIMA, ARIMAX to predict the average temperature"
      ]
    },
    {
      "cell_type": "code",
      "metadata": {
        "id": "AJ2DXu626nKr"
      },
      "source": [
        ""
      ],
      "execution_count": null,
      "outputs": []
    }
  ]
}